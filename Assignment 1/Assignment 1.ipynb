{
 "cells": [
  {
   "cell_type": "code",
   "execution_count": 210,
   "id": "b1b106af",
   "metadata": {},
   "outputs": [],
   "source": [
    "#Initialisation Cell\n",
    "import math\n",
    "import random\n",
    "import numpy as np\n",
    "import pandas as pd\n",
    "from numpy import linalg as LA\n",
    "import matplotlib.pyplot as plt\n",
    "from sklearn.model_selection import train_test_split"
   ]
  },
  {
   "cell_type": "code",
   "execution_count": 211,
   "id": "deb06e7e",
   "metadata": {},
   "outputs": [],
   "source": [
    "def hist(data,name,bins):\n",
    "    plt.hist(data,bins=bins)\n",
    "    plt.title(name)\n",
    "    plt.show()\n",
    "    \n",
    "def min_max(column):\n",
    "    return (column-column.min())/(column.max()-column.min())\n",
    "\n",
    "\n",
    "def standardization(column):\n",
    "    return (column - column.mean())/column.std()\n",
    "\n",
    "def dif(h,y):\n",
    "    for i in range(h.shape[0]):\n",
    "        h[i] = h[i]-y[i]\n",
    "    return h"
   ]
  },
  {
   "cell_type": "markdown",
   "id": "d38a1f42",
   "metadata": {},
   "source": [
    "<h2>Import Data</h2>"
   ]
  },
  {
   "cell_type": "code",
   "execution_count": 212,
   "id": "f8930884",
   "metadata": {},
   "outputs": [
    {
     "data": {
      "text/html": [
       "<div>\n",
       "<style scoped>\n",
       "    .dataframe tbody tr th:only-of-type {\n",
       "        vertical-align: middle;\n",
       "    }\n",
       "\n",
       "    .dataframe tbody tr th {\n",
       "        vertical-align: top;\n",
       "    }\n",
       "\n",
       "    .dataframe thead th {\n",
       "        text-align: right;\n",
       "    }\n",
       "</style>\n",
       "<table border=\"1\" class=\"dataframe\">\n",
       "  <thead>\n",
       "    <tr style=\"text-align: right;\">\n",
       "      <th></th>\n",
       "      <th>Local time</th>\n",
       "      <th>Open</th>\n",
       "      <th>High</th>\n",
       "      <th>Low</th>\n",
       "      <th>Close</th>\n",
       "      <th>Volume</th>\n",
       "    </tr>\n",
       "  </thead>\n",
       "  <tbody>\n",
       "    <tr>\n",
       "      <th>0</th>\n",
       "      <td>12.03.2019 00:00:00.000 GMT+0200</td>\n",
       "      <td>1.31887</td>\n",
       "      <td>1.31901</td>\n",
       "      <td>1.31865</td>\n",
       "      <td>1.31887</td>\n",
       "      <td>305.47</td>\n",
       "    </tr>\n",
       "    <tr>\n",
       "      <th>1</th>\n",
       "      <td>12.03.2019 00:01:00.000 GMT+0200</td>\n",
       "      <td>1.31889</td>\n",
       "      <td>1.31940</td>\n",
       "      <td>1.31881</td>\n",
       "      <td>1.31936</td>\n",
       "      <td>277.34</td>\n",
       "    </tr>\n",
       "    <tr>\n",
       "      <th>2</th>\n",
       "      <td>12.03.2019 00:02:00.000 GMT+0200</td>\n",
       "      <td>1.31939</td>\n",
       "      <td>1.32333</td>\n",
       "      <td>1.31934</td>\n",
       "      <td>1.32321</td>\n",
       "      <td>345.94</td>\n",
       "    </tr>\n",
       "    <tr>\n",
       "      <th>3</th>\n",
       "      <td>12.03.2019 00:03:00.000 GMT+0200</td>\n",
       "      <td>1.32321</td>\n",
       "      <td>1.32866</td>\n",
       "      <td>1.32310</td>\n",
       "      <td>1.32845</td>\n",
       "      <td>365.84</td>\n",
       "    </tr>\n",
       "    <tr>\n",
       "      <th>4</th>\n",
       "      <td>12.03.2019 00:04:00.000 GMT+0200</td>\n",
       "      <td>1.32845</td>\n",
       "      <td>1.32889</td>\n",
       "      <td>1.32511</td>\n",
       "      <td>1.32536</td>\n",
       "      <td>467.78</td>\n",
       "    </tr>\n",
       "    <tr>\n",
       "      <th>...</th>\n",
       "      <td>...</td>\n",
       "      <td>...</td>\n",
       "      <td>...</td>\n",
       "      <td>...</td>\n",
       "      <td>...</td>\n",
       "      <td>...</td>\n",
       "    </tr>\n",
       "    <tr>\n",
       "      <th>1128222</th>\n",
       "      <td>11.03.2022 23:55:00.000 GMT+0200</td>\n",
       "      <td>1.30368</td>\n",
       "      <td>1.30386</td>\n",
       "      <td>1.30364</td>\n",
       "      <td>1.30364</td>\n",
       "      <td>46.31</td>\n",
       "    </tr>\n",
       "    <tr>\n",
       "      <th>1128223</th>\n",
       "      <td>11.03.2022 23:56:00.000 GMT+0200</td>\n",
       "      <td>1.30363</td>\n",
       "      <td>1.30397</td>\n",
       "      <td>1.30359</td>\n",
       "      <td>1.30362</td>\n",
       "      <td>77.25</td>\n",
       "    </tr>\n",
       "    <tr>\n",
       "      <th>1128224</th>\n",
       "      <td>11.03.2022 23:57:00.000 GMT+0200</td>\n",
       "      <td>1.30363</td>\n",
       "      <td>1.30363</td>\n",
       "      <td>1.30361</td>\n",
       "      <td>1.30361</td>\n",
       "      <td>17.17</td>\n",
       "    </tr>\n",
       "    <tr>\n",
       "      <th>1128225</th>\n",
       "      <td>11.03.2022 23:58:00.000 GMT+0200</td>\n",
       "      <td>1.30361</td>\n",
       "      <td>1.30398</td>\n",
       "      <td>1.30361</td>\n",
       "      <td>1.30371</td>\n",
       "      <td>62.32</td>\n",
       "    </tr>\n",
       "    <tr>\n",
       "      <th>1128226</th>\n",
       "      <td>11.03.2022 23:59:00.000 GMT+0200</td>\n",
       "      <td>1.30369</td>\n",
       "      <td>1.30375</td>\n",
       "      <td>1.30343</td>\n",
       "      <td>1.30343</td>\n",
       "      <td>90.45</td>\n",
       "    </tr>\n",
       "  </tbody>\n",
       "</table>\n",
       "<p>1128227 rows × 6 columns</p>\n",
       "</div>"
      ],
      "text/plain": [
       "                               Local time     Open     High      Low    Close  \\\n",
       "0        12.03.2019 00:00:00.000 GMT+0200  1.31887  1.31901  1.31865  1.31887   \n",
       "1        12.03.2019 00:01:00.000 GMT+0200  1.31889  1.31940  1.31881  1.31936   \n",
       "2        12.03.2019 00:02:00.000 GMT+0200  1.31939  1.32333  1.31934  1.32321   \n",
       "3        12.03.2019 00:03:00.000 GMT+0200  1.32321  1.32866  1.32310  1.32845   \n",
       "4        12.03.2019 00:04:00.000 GMT+0200  1.32845  1.32889  1.32511  1.32536   \n",
       "...                                   ...      ...      ...      ...      ...   \n",
       "1128222  11.03.2022 23:55:00.000 GMT+0200  1.30368  1.30386  1.30364  1.30364   \n",
       "1128223  11.03.2022 23:56:00.000 GMT+0200  1.30363  1.30397  1.30359  1.30362   \n",
       "1128224  11.03.2022 23:57:00.000 GMT+0200  1.30363  1.30363  1.30361  1.30361   \n",
       "1128225  11.03.2022 23:58:00.000 GMT+0200  1.30361  1.30398  1.30361  1.30371   \n",
       "1128226  11.03.2022 23:59:00.000 GMT+0200  1.30369  1.30375  1.30343  1.30343   \n",
       "\n",
       "         Volume  \n",
       "0        305.47  \n",
       "1        277.34  \n",
       "2        345.94  \n",
       "3        365.84  \n",
       "4        467.78  \n",
       "...         ...  \n",
       "1128222   46.31  \n",
       "1128223   77.25  \n",
       "1128224   17.17  \n",
       "1128225   62.32  \n",
       "1128226   90.45  \n",
       "\n",
       "[1128227 rows x 6 columns]"
      ]
     },
     "execution_count": 212,
     "metadata": {},
     "output_type": "execute_result"
    }
   ],
   "source": [
    "df = pd.read_csv(\"GBPUSD_Candlestick_1_M_BID_12.03.2019-12.03.2022.csv\")\n",
    "\n",
    "df"
   ]
  },
  {
   "cell_type": "markdown",
   "id": "87081843",
   "metadata": {},
   "source": [
    "<h2>Clean the Data</h2>"
   ]
  },
  {
   "cell_type": "markdown",
   "id": "f2fe35d3",
   "metadata": {},
   "source": [
    "<h3>Get Statistical Summary of the data</h3>"
   ]
  },
  {
   "cell_type": "code",
   "execution_count": 213,
   "id": "666c6169",
   "metadata": {},
   "outputs": [
    {
     "name": "stdout",
     "output_type": "stream",
     "text": [
      "The data has the following shape:\n",
      "1128227 rows and 6 columns\n",
      "                         Local time     Open     High      Low    Close  \\\n",
      "0  12.03.2019 00:00:00.000 GMT+0200  1.31887  1.31901  1.31865  1.31887   \n",
      "1  12.03.2019 00:01:00.000 GMT+0200  1.31889  1.31940  1.31881  1.31936   \n",
      "2  12.03.2019 00:02:00.000 GMT+0200  1.31939  1.32333  1.31934  1.32321   \n",
      "3  12.03.2019 00:03:00.000 GMT+0200  1.32321  1.32866  1.32310  1.32845   \n",
      "4  12.03.2019 00:04:00.000 GMT+0200  1.32845  1.32889  1.32511  1.32536   \n",
      "\n",
      "   Volume  \n",
      "0  305.47  \n",
      "1  277.34  \n",
      "2  345.94  \n",
      "3  365.84  \n",
      "4  467.78  \n",
      "The statistical summary is given as:\n",
      "               Open          High           Low         Close        Volume\n",
      "count  1.128227e+06  1.128227e+06  1.128227e+06  1.128227e+06  1.128227e+06\n",
      "mean   1.315328e+00  1.315434e+00  1.315222e+00  1.315327e+00  1.187006e+02\n",
      "std    5.638901e-02  5.637545e-02  5.640176e-02  5.638898e-02  2.821358e+02\n",
      "min    1.141000e+00  1.141650e+00  1.140950e+00  1.141010e+00  0.000000e+00\n",
      "25%    1.272480e+00  1.272570e+00  1.272400e+00  1.272480e+00  3.000000e+01\n",
      "50%    1.312390e+00  1.312510e+00  1.312280e+00  1.312390e+00  7.070000e+01\n",
      "75%    1.364830e+00  1.364930e+00  1.364730e+00  1.364830e+00  1.499100e+02\n",
      "max    1.424630e+00  1.424910e+00  1.424420e+00  1.424610e+00  1.755867e+05\n",
      "Data set consist of the following data types\n"
     ]
    },
    {
     "data": {
      "text/plain": [
       "Local time     object\n",
       "Open          float64\n",
       "High          float64\n",
       "Low           float64\n",
       "Close         float64\n",
       "Volume        float64\n",
       "dtype: object"
      ]
     },
     "execution_count": 213,
     "metadata": {},
     "output_type": "execute_result"
    }
   ],
   "source": [
    "print(\"The data has the following shape:\\n%d rows and %d columns\" %(df.shape[0],df.shape[1]))\n",
    "print(df.head())\n",
    "print(\"The statistical summary is given as:\")\n",
    "print(df.describe())\n",
    "print(\"Data set consist of the following data types\")\n",
    "df.dtypes"
   ]
  },
  {
   "cell_type": "markdown",
   "id": "c5082f25",
   "metadata": {},
   "source": [
    "<h3>Remove Useless features</h3>"
   ]
  },
  {
   "cell_type": "code",
   "execution_count": 214,
   "id": "928ba9ab",
   "metadata": {},
   "outputs": [],
   "source": [
    "df = df.drop('Local time',axis=1)"
   ]
  },
  {
   "cell_type": "markdown",
   "id": "dd7093a1",
   "metadata": {},
   "source": [
    "<h3>Remove missing data if any</h3>"
   ]
  },
  {
   "cell_type": "code",
   "execution_count": 215,
   "id": "aa9985e9",
   "metadata": {},
   "outputs": [
    {
     "name": "stdout",
     "output_type": "stream",
     "text": [
      "There are 0 missing values and 0 inf values in the Open column: (array([], dtype=int64),) (array([], dtype=int64),)\n",
      "There are 0 missing values and 0 inf values in the High column: (array([], dtype=int64),) (array([], dtype=int64),)\n",
      "There are 0 missing values and 0 inf values in the Low column: (array([], dtype=int64),) (array([], dtype=int64),)\n",
      "There are 0 missing values and 0 inf values in the Close column: (array([], dtype=int64),) (array([], dtype=int64),)\n",
      "There are 0 missing values and 0 inf values in the Volume column: (array([], dtype=int64),) (array([], dtype=int64),)\n"
     ]
    }
   ],
   "source": [
    "missingValuesForOpen = np.where(df[\"Open\"].isnull() == True)\n",
    "infValuesForOpen = np.where(np.isinf(df[\"Open\"]) == True)\n",
    "print('There are',len(missingValuesForOpen[0]),'missing values and',len(infValuesForOpen[0]),'inf values in the Open column:',missingValuesForOpen,infValuesForOpen)\n",
    "\n",
    "\n",
    "missingValuesForHigh = np.where(df[\"High\"].isnull() == True)\n",
    "infValuesForHigh = np.where(np.isinf(df[\"High\"]) == True)\n",
    "print('There are',len(missingValuesForHigh[0]),'missing values and',len(infValuesForHigh[0]),'inf values in the High column:',missingValuesForHigh,infValuesForHigh)\n",
    "\n",
    "missingValuesForLow = np.where(df[\"Low\"].isnull() == True)\n",
    "infValuesForLow = np.where(np.isinf(df[\"Low\"]) == True)\n",
    "print('There are',len(missingValuesForLow[0]),'missing values and',len(infValuesForLow[0]),'inf values in the Low column:',missingValuesForLow,infValuesForLow)\n",
    "\n",
    "missingValuesForClose = np.where(df[\"Close\"].isnull() == True)\n",
    "infValuesForClose = np.where(np.isinf(df[\"Close\"]) == True)\n",
    "print('There are',len(missingValuesForClose[0]),'missing values and',len(infValuesForClose[0]),'inf values in the Close column:',missingValuesForClose,infValuesForClose)\n",
    "\n",
    "missingValuesForVolume = np.where(df[\"Volume\"].isnull() == True)\n",
    "infValuesForVolume = np.where(np.isinf(df[\"Volume\"]) == True)\n",
    "print('There are',len(missingValuesForVolume[0]),'missing values and',len(infValuesForVolume[0]),'inf values in the Volume column:',missingValuesForVolume,infValuesForVolume)"
   ]
  },
  {
   "cell_type": "markdown",
   "id": "4e84f127",
   "metadata": {},
   "source": [
    "<h3>Feature Scaling</h3>"
   ]
  },
  {
   "cell_type": "markdown",
   "id": "7d38400c",
   "metadata": {},
   "source": [
    "<p>Due to the order of magnitude of values in the Volume column with respect to the other columns, we are prompted to perform a transformation on the values of the Volume column before applying feature scaling.<p>"
   ]
  },
  {
   "cell_type": "code",
   "execution_count": 216,
   "id": "36e900e5",
   "metadata": {},
   "outputs": [],
   "source": [
    "df['Volume'] = np.sqrt(np.sqrt(df['Volume']))"
   ]
  },
  {
   "cell_type": "code",
   "execution_count": 217,
   "id": "1bb65fb6",
   "metadata": {},
   "outputs": [
    {
     "data": {
      "text/html": [
       "<div>\n",
       "<style scoped>\n",
       "    .dataframe tbody tr th:only-of-type {\n",
       "        vertical-align: middle;\n",
       "    }\n",
       "\n",
       "    .dataframe tbody tr th {\n",
       "        vertical-align: top;\n",
       "    }\n",
       "\n",
       "    .dataframe thead th {\n",
       "        text-align: right;\n",
       "    }\n",
       "</style>\n",
       "<table border=\"1\" class=\"dataframe\">\n",
       "  <thead>\n",
       "    <tr style=\"text-align: right;\">\n",
       "      <th></th>\n",
       "      <th>Open</th>\n",
       "      <th>High</th>\n",
       "      <th>Low</th>\n",
       "      <th>Close</th>\n",
       "      <th>Volume</th>\n",
       "    </tr>\n",
       "  </thead>\n",
       "  <tbody>\n",
       "    <tr>\n",
       "      <th>0</th>\n",
       "      <td>0.627120</td>\n",
       "      <td>0.626139</td>\n",
       "      <td>0.626874</td>\n",
       "      <td>1.31887</td>\n",
       "      <td>0.204230</td>\n",
       "    </tr>\n",
       "    <tr>\n",
       "      <th>1</th>\n",
       "      <td>0.627190</td>\n",
       "      <td>0.627515</td>\n",
       "      <td>0.627439</td>\n",
       "      <td>1.31936</td>\n",
       "      <td>0.199356</td>\n",
       "    </tr>\n",
       "    <tr>\n",
       "      <th>2</th>\n",
       "      <td>0.628953</td>\n",
       "      <td>0.641390</td>\n",
       "      <td>0.629308</td>\n",
       "      <td>1.32321</td>\n",
       "      <td>0.210682</td>\n",
       "    </tr>\n",
       "    <tr>\n",
       "      <th>3</th>\n",
       "      <td>0.642421</td>\n",
       "      <td>0.660206</td>\n",
       "      <td>0.642572</td>\n",
       "      <td>1.32845</td>\n",
       "      <td>0.213649</td>\n",
       "    </tr>\n",
       "    <tr>\n",
       "      <th>4</th>\n",
       "      <td>0.660896</td>\n",
       "      <td>0.661018</td>\n",
       "      <td>0.649663</td>\n",
       "      <td>1.32536</td>\n",
       "      <td>0.227189</td>\n",
       "    </tr>\n",
       "    <tr>\n",
       "      <th>...</th>\n",
       "      <td>...</td>\n",
       "      <td>...</td>\n",
       "      <td>...</td>\n",
       "      <td>...</td>\n",
       "      <td>...</td>\n",
       "    </tr>\n",
       "    <tr>\n",
       "      <th>1128222</th>\n",
       "      <td>0.573564</td>\n",
       "      <td>0.572654</td>\n",
       "      <td>0.573923</td>\n",
       "      <td>1.30364</td>\n",
       "      <td>0.127437</td>\n",
       "    </tr>\n",
       "    <tr>\n",
       "      <th>1128223</th>\n",
       "      <td>0.573388</td>\n",
       "      <td>0.573042</td>\n",
       "      <td>0.573747</td>\n",
       "      <td>1.30362</td>\n",
       "      <td>0.144828</td>\n",
       "    </tr>\n",
       "    <tr>\n",
       "      <th>1128224</th>\n",
       "      <td>0.573388</td>\n",
       "      <td>0.571842</td>\n",
       "      <td>0.573817</td>\n",
       "      <td>1.30361</td>\n",
       "      <td>0.099442</td>\n",
       "    </tr>\n",
       "    <tr>\n",
       "      <th>1128225</th>\n",
       "      <td>0.573317</td>\n",
       "      <td>0.573078</td>\n",
       "      <td>0.573817</td>\n",
       "      <td>1.30371</td>\n",
       "      <td>0.137257</td>\n",
       "    </tr>\n",
       "    <tr>\n",
       "      <th>1128226</th>\n",
       "      <td>0.573599</td>\n",
       "      <td>0.572266</td>\n",
       "      <td>0.573182</td>\n",
       "      <td>1.30343</td>\n",
       "      <td>0.150654</td>\n",
       "    </tr>\n",
       "  </tbody>\n",
       "</table>\n",
       "<p>1128227 rows × 5 columns</p>\n",
       "</div>"
      ],
      "text/plain": [
       "             Open      High       Low    Close    Volume\n",
       "0        0.627120  0.626139  0.626874  1.31887  0.204230\n",
       "1        0.627190  0.627515  0.627439  1.31936  0.199356\n",
       "2        0.628953  0.641390  0.629308  1.32321  0.210682\n",
       "3        0.642421  0.660206  0.642572  1.32845  0.213649\n",
       "4        0.660896  0.661018  0.649663  1.32536  0.227189\n",
       "...           ...       ...       ...      ...       ...\n",
       "1128222  0.573564  0.572654  0.573923  1.30364  0.127437\n",
       "1128223  0.573388  0.573042  0.573747  1.30362  0.144828\n",
       "1128224  0.573388  0.571842  0.573817  1.30361  0.099442\n",
       "1128225  0.573317  0.573078  0.573817  1.30371  0.137257\n",
       "1128226  0.573599  0.572266  0.573182  1.30343  0.150654\n",
       "\n",
       "[1128227 rows x 5 columns]"
      ]
     },
     "metadata": {},
     "output_type": "display_data"
    }
   ],
   "source": [
    "df['High'] = min_max(df['High'])\n",
    "df['Low'] = min_max(df['Low'])\n",
    "df['Open'] = min_max(df['Open'])\n",
    "df['Volume'] = min_max(df['Volume'])\n",
    "display(df)"
   ]
  },
  {
   "cell_type": "code",
   "execution_count": 218,
   "id": "e6d41723",
   "metadata": {},
   "outputs": [
    {
     "data": {
      "text/plain": [
       "0          1.31887\n",
       "1          1.31936\n",
       "2          1.32321\n",
       "3          1.32845\n",
       "4          1.32536\n",
       "            ...   \n",
       "1128222    1.30364\n",
       "1128223    1.30362\n",
       "1128224    1.30361\n",
       "1128225    1.30371\n",
       "1128226    1.30343\n",
       "Name: Close, Length: 1128227, dtype: float64"
      ]
     },
     "execution_count": 218,
     "metadata": {},
     "output_type": "execute_result"
    }
   ],
   "source": [
    "#df['Close'] = min_max(df['Close'].values.reshape(df.shape[0],1))\n",
    "df['Close']"
   ]
  },
  {
   "cell_type": "markdown",
   "id": "49373e89",
   "metadata": {},
   "source": [
    "<h3>Assess Distribution</h3>"
   ]
  },
  {
   "cell_type": "code",
   "execution_count": 219,
   "id": "8c6aea3e",
   "metadata": {},
   "outputs": [
    {
     "data": {
      "text/plain": [
       "array([[<AxesSubplot:title={'center':'Open'}>]], dtype=object)"
      ]
     },
     "execution_count": 219,
     "metadata": {},
     "output_type": "execute_result"
    },
    {
     "data": {
      "image/png": "[encoded data removed]",
      "text/plain": [
       "<Figure size 648x432 with 1 Axes>"
      ]
     },
     "metadata": {
      "needs_background": "light"
     },
     "output_type": "display_data"
    }
   ],
   "source": [
    "bins = round(math.sqrt(df.shape[0]))\n",
    "#Plot Distribution of Open price\n",
    "df.hist(column=\"Open\", figsize=(9,6),bins=bins)"
   ]
  },
  {
   "cell_type": "code",
   "execution_count": 220,
   "id": "ab23f7f6",
   "metadata": {},
   "outputs": [
    {
     "data": {
      "text/plain": [
       "array([[<AxesSubplot:title={'center':'High'}>]], dtype=object)"
      ]
     },
     "execution_count": 220,
     "metadata": {},
     "output_type": "execute_result"
    },
    {
     "data": {
      "image/png": "[encoded data removed]",
      "text/plain": [
       "<Figure size 648x432 with 1 Axes>"
      ]
     },
     "metadata": {
      "needs_background": "light"
     },
     "output_type": "display_data"
    }
   ],
   "source": [
    "#Plot Distribution of High price\n",
    "df.hist(column=\"High\", figsize=(9,6),bins=bins)"
   ]
  },
  {
   "cell_type": "code",
   "execution_count": 221,
   "id": "919c026e",
   "metadata": {},
   "outputs": [
    {
     "data": {
      "text/plain": [
       "array([[<AxesSubplot:title={'center':'Close'}>]], dtype=object)"
      ]
     },
     "execution_count": 221,
     "metadata": {},
     "output_type": "execute_result"
    },
    {
     "data": {
      "image/png": "[encoded data removed]",
      "text/plain": [
       "<Figure size 648x432 with 1 Axes>"
      ]
     },
     "metadata": {
      "needs_background": "light"
     },
     "output_type": "display_data"
    }
   ],
   "source": [
    "#Plot Distribution of Close price\n",
    "df.hist(column=\"Close\", figsize=(9,6),bins=bins)"
   ]
  },
  {
   "cell_type": "code",
   "execution_count": 222,
   "id": "d5ecbf6a",
   "metadata": {},
   "outputs": [
    {
     "data": {
      "text/plain": [
       "array([[<AxesSubplot:title={'center':'Low'}>]], dtype=object)"
      ]
     },
     "execution_count": 222,
     "metadata": {},
     "output_type": "execute_result"
    },
    {
     "data": {
      "image/png": "[encoded data removed]",
      "text/plain": [
       "<Figure size 648x432 with 1 Axes>"
      ]
     },
     "metadata": {
      "needs_background": "light"
     },
     "output_type": "display_data"
    }
   ],
   "source": [
    "#Plot Distribution of Low price\n",
    "df.hist(column=\"Low\", figsize=(9,6),bins=bins)"
   ]
  },
  {
   "cell_type": "code",
   "execution_count": 223,
   "id": "59f9376c",
   "metadata": {},
   "outputs": [
    {
     "data": {
      "text/plain": [
       "array([[<AxesSubplot:title={'center':'Volume'}>]], dtype=object)"
      ]
     },
     "execution_count": 223,
     "metadata": {},
     "output_type": "execute_result"
    },
    {
     "data": {
      "image/png": "[encoded data removed]",
      "text/plain": [
       "<Figure size 648x432 with 1 Axes>"
      ]
     },
     "metadata": {
      "needs_background": "light"
     },
     "output_type": "display_data"
    }
   ],
   "source": [
    "#Plot Distribution of Volume price\n",
    "df.hist(column=\"Volume\", figsize=(9,6),bins=bins)"
   ]
  },
  {
   "cell_type": "markdown",
   "id": "0214d8d6",
   "metadata": {},
   "source": [
    "<h3>Box Plots</h3>"
   ]
  },
  {
   "cell_type": "code",
   "execution_count": 224,
   "id": "805b6b5a",
   "metadata": {},
   "outputs": [
    {
     "data": {
      "text/plain": [
       "<AxesSubplot:>"
      ]
     },
     "execution_count": 224,
     "metadata": {},
     "output_type": "execute_result"
    },
    {
     "data": {
      "image/png": "[encoded data removed]",
      "text/plain": [
       "<Figure size 648x432 with 1 Axes>"
      ]
     },
     "metadata": {
      "needs_background": "light"
     },
     "output_type": "display_data"
    }
   ],
   "source": [
    "df['High'].plot(kind='box',figsize=(9,6),logy=True)"
   ]
  },
  {
   "cell_type": "code",
   "execution_count": 225,
   "id": "410ebf6e",
   "metadata": {},
   "outputs": [
    {
     "data": {
      "text/plain": [
       "<AxesSubplot:>"
      ]
     },
     "execution_count": 225,
     "metadata": {},
     "output_type": "execute_result"
    },
    {
     "data": {
      "image/png": "[encoded data removed]",
      "text/plain": [
       "<Figure size 648x432 with 1 Axes>"
      ]
     },
     "metadata": {
      "needs_background": "light"
     },
     "output_type": "display_data"
    }
   ],
   "source": [
    "df['Low'].plot(kind='box',figsize=(9,6),logy=True)"
   ]
  },
  {
   "cell_type": "code",
   "execution_count": 226,
   "id": "da46d749",
   "metadata": {},
   "outputs": [
    {
     "data": {
      "text/plain": [
       "<AxesSubplot:>"
      ]
     },
     "execution_count": 226,
     "metadata": {},
     "output_type": "execute_result"
    },
    {
     "data": {
      "image/png": "[encoded data removed]",
      "text/plain": [
       "<Figure size 648x432 with 1 Axes>"
      ]
     },
     "metadata": {
      "needs_background": "light"
     },
     "output_type": "display_data"
    }
   ],
   "source": [
    "df['Close'].plot(kind='box',figsize=(9,6),logy=True)"
   ]
  },
  {
   "cell_type": "code",
   "execution_count": 227,
   "id": "f927b641",
   "metadata": {},
   "outputs": [
    {
     "data": {
      "text/plain": [
       "<AxesSubplot:>"
      ]
     },
     "execution_count": 227,
     "metadata": {},
     "output_type": "execute_result"
    },
    {
     "data": {
      "image/png": "[encoded data removed]",
      "text/plain": [
       "<Figure size 648x432 with 1 Axes>"
      ]
     },
     "metadata": {
      "needs_background": "light"
     },
     "output_type": "display_data"
    }
   ],
   "source": [
    "df['Volume'].plot(kind='box',figsize=(9,6),logy=True)"
   ]
  },
  {
   "cell_type": "markdown",
   "id": "8e40643d",
   "metadata": {},
   "source": [
    "<h3>Scatter Plots</h3>"
   ]
  },
  {
   "cell_type": "code",
   "execution_count": 228,
   "id": "11dee8d4",
   "metadata": {},
   "outputs": [
    {
     "data": {
      "text/plain": [
       "<AxesSubplot:xlabel='Open', ylabel='Close'>"
      ]
     },
     "execution_count": 228,
     "metadata": {},
     "output_type": "execute_result"
    },
    {
     "data": {
      "image/png": "[encoded data removed]",
      "text/plain": [
       "<Figure size 432x288 with 1 Axes>"
      ]
     },
     "metadata": {
      "needs_background": "light"
     },
     "output_type": "display_data"
    }
   ],
   "source": [
    "df.plot.scatter(x='Open',y='Close')"
   ]
  },
  {
   "cell_type": "code",
   "execution_count": 229,
   "id": "95c6b924",
   "metadata": {},
   "outputs": [
    {
     "data": {
      "text/plain": [
       "<AxesSubplot:xlabel='High', ylabel='Close'>"
      ]
     },
     "execution_count": 229,
     "metadata": {},
     "output_type": "execute_result"
    },
    {
     "data": {
      "image/png": "[encoded data removed]",
      "text/plain": [
       "<Figure size 432x288 with 1 Axes>"
      ]
     },
     "metadata": {
      "needs_background": "light"
     },
     "output_type": "display_data"
    }
   ],
   "source": [
    "df.plot.scatter(x='High',y='Close')"
   ]
  },
  {
   "cell_type": "code",
   "execution_count": 230,
   "id": "7f7e60f3",
   "metadata": {},
   "outputs": [
    {
     "data": {
      "text/plain": [
       "<AxesSubplot:xlabel='Low', ylabel='Close'>"
      ]
     },
     "execution_count": 230,
     "metadata": {},
     "output_type": "execute_result"
    },
    {
     "data": {
      "image/png": "[encoded data removed]",
      "text/plain": [
       "<Figure size 432x288 with 1 Axes>"
      ]
     },
     "metadata": {
      "needs_background": "light"
     },
     "output_type": "display_data"
    }
   ],
   "source": [
    "df.plot.scatter(x='Low',y='Close')"
   ]
  },
  {
   "cell_type": "code",
   "execution_count": 231,
   "id": "a6600a46",
   "metadata": {},
   "outputs": [
    {
     "data": {
      "text/plain": [
       "<AxesSubplot:xlabel='Volume', ylabel='Close'>"
      ]
     },
     "execution_count": 231,
     "metadata": {},
     "output_type": "execute_result"
    },
    {
     "data": {
      "image/png": "[encoded data removed]",
      "text/plain": [
       "<Figure size 432x288 with 1 Axes>"
      ]
     },
     "metadata": {
      "needs_background": "light"
     },
     "output_type": "display_data"
    }
   ],
   "source": [
    "df.plot.scatter(x='Volume',y='Close')"
   ]
  },
  {
   "cell_type": "markdown",
   "id": "569813ff",
   "metadata": {},
   "source": [
    "<h3>Conclusion</h3>\n",
    "<p>From the above diagram we can see that Open price, High Price and Low Price are suitable features to use when training the model.However, the Volume feature is not suitable because the feature has an skewed distribution, many outliers and has a bad correlation to the Closing Price. Thus we will not use the Volume feature to train the model<p>"
   ]
  },
  {
   "cell_type": "code",
   "execution_count": 232,
   "id": "2b872c4d",
   "metadata": {},
   "outputs": [
    {
     "data": {
      "text/html": [
       "<div>\n",
       "<style scoped>\n",
       "    .dataframe tbody tr th:only-of-type {\n",
       "        vertical-align: middle;\n",
       "    }\n",
       "\n",
       "    .dataframe tbody tr th {\n",
       "        vertical-align: top;\n",
       "    }\n",
       "\n",
       "    .dataframe thead th {\n",
       "        text-align: right;\n",
       "    }\n",
       "</style>\n",
       "<table border=\"1\" class=\"dataframe\">\n",
       "  <thead>\n",
       "    <tr style=\"text-align: right;\">\n",
       "      <th></th>\n",
       "      <th>Bias</th>\n",
       "      <th>Open</th>\n",
       "      <th>High</th>\n",
       "      <th>Low</th>\n",
       "    </tr>\n",
       "  </thead>\n",
       "  <tbody>\n",
       "    <tr>\n",
       "      <th>0</th>\n",
       "      <td>1.0</td>\n",
       "      <td>0.627120</td>\n",
       "      <td>0.626139</td>\n",
       "      <td>0.626874</td>\n",
       "    </tr>\n",
       "    <tr>\n",
       "      <th>1</th>\n",
       "      <td>1.0</td>\n",
       "      <td>0.627190</td>\n",
       "      <td>0.627515</td>\n",
       "      <td>0.627439</td>\n",
       "    </tr>\n",
       "    <tr>\n",
       "      <th>2</th>\n",
       "      <td>1.0</td>\n",
       "      <td>0.628953</td>\n",
       "      <td>0.641390</td>\n",
       "      <td>0.629308</td>\n",
       "    </tr>\n",
       "    <tr>\n",
       "      <th>3</th>\n",
       "      <td>1.0</td>\n",
       "      <td>0.642421</td>\n",
       "      <td>0.660206</td>\n",
       "      <td>0.642572</td>\n",
       "    </tr>\n",
       "    <tr>\n",
       "      <th>4</th>\n",
       "      <td>1.0</td>\n",
       "      <td>0.660896</td>\n",
       "      <td>0.661018</td>\n",
       "      <td>0.649663</td>\n",
       "    </tr>\n",
       "    <tr>\n",
       "      <th>...</th>\n",
       "      <td>...</td>\n",
       "      <td>...</td>\n",
       "      <td>...</td>\n",
       "      <td>...</td>\n",
       "    </tr>\n",
       "    <tr>\n",
       "      <th>1128222</th>\n",
       "      <td>1.0</td>\n",
       "      <td>0.573564</td>\n",
       "      <td>0.572654</td>\n",
       "      <td>0.573923</td>\n",
       "    </tr>\n",
       "    <tr>\n",
       "      <th>1128223</th>\n",
       "      <td>1.0</td>\n",
       "      <td>0.573388</td>\n",
       "      <td>0.573042</td>\n",
       "      <td>0.573747</td>\n",
       "    </tr>\n",
       "    <tr>\n",
       "      <th>1128224</th>\n",
       "      <td>1.0</td>\n",
       "      <td>0.573388</td>\n",
       "      <td>0.571842</td>\n",
       "      <td>0.573817</td>\n",
       "    </tr>\n",
       "    <tr>\n",
       "      <th>1128225</th>\n",
       "      <td>1.0</td>\n",
       "      <td>0.573317</td>\n",
       "      <td>0.573078</td>\n",
       "      <td>0.573817</td>\n",
       "    </tr>\n",
       "    <tr>\n",
       "      <th>1128226</th>\n",
       "      <td>1.0</td>\n",
       "      <td>0.573599</td>\n",
       "      <td>0.572266</td>\n",
       "      <td>0.573182</td>\n",
       "    </tr>\n",
       "  </tbody>\n",
       "</table>\n",
       "<p>1128227 rows × 4 columns</p>\n",
       "</div>"
      ],
      "text/plain": [
       "         Bias      Open      High       Low\n",
       "0         1.0  0.627120  0.626139  0.626874\n",
       "1         1.0  0.627190  0.627515  0.627439\n",
       "2         1.0  0.628953  0.641390  0.629308\n",
       "3         1.0  0.642421  0.660206  0.642572\n",
       "4         1.0  0.660896  0.661018  0.649663\n",
       "...       ...       ...       ...       ...\n",
       "1128222   1.0  0.573564  0.572654  0.573923\n",
       "1128223   1.0  0.573388  0.573042  0.573747\n",
       "1128224   1.0  0.573388  0.571842  0.573817\n",
       "1128225   1.0  0.573317  0.573078  0.573817\n",
       "1128226   1.0  0.573599  0.572266  0.573182\n",
       "\n",
       "[1128227 rows x 4 columns]"
      ]
     },
     "metadata": {},
     "output_type": "display_data"
    },
    {
     "data": {
      "text/plain": [
       "0          1.31887\n",
       "1          1.31936\n",
       "2          1.32321\n",
       "3          1.32845\n",
       "4          1.32536\n",
       "            ...   \n",
       "1128222    1.30364\n",
       "1128223    1.30362\n",
       "1128224    1.30361\n",
       "1128225    1.30371\n",
       "1128226    1.30343\n",
       "Name: Close, Length: 1128227, dtype: float64"
      ]
     },
     "metadata": {},
     "output_type": "display_data"
    },
    {
     "data": {
      "text/html": [
       "<div>\n",
       "<style scoped>\n",
       "    .dataframe tbody tr th:only-of-type {\n",
       "        vertical-align: middle;\n",
       "    }\n",
       "\n",
       "    .dataframe tbody tr th {\n",
       "        vertical-align: top;\n",
       "    }\n",
       "\n",
       "    .dataframe thead th {\n",
       "        text-align: right;\n",
       "    }\n",
       "</style>\n",
       "<table border=\"1\" class=\"dataframe\">\n",
       "  <thead>\n",
       "    <tr style=\"text-align: right;\">\n",
       "      <th></th>\n",
       "      <th>Bias</th>\n",
       "      <th>Open</th>\n",
       "      <th>High</th>\n",
       "      <th>Low</th>\n",
       "    </tr>\n",
       "  </thead>\n",
       "  <tbody>\n",
       "    <tr>\n",
       "      <th>0</th>\n",
       "      <td>1.0</td>\n",
       "      <td>0.627120</td>\n",
       "      <td>0.626139</td>\n",
       "      <td>0.626874</td>\n",
       "    </tr>\n",
       "    <tr>\n",
       "      <th>1</th>\n",
       "      <td>1.0</td>\n",
       "      <td>0.627190</td>\n",
       "      <td>0.627515</td>\n",
       "      <td>0.627439</td>\n",
       "    </tr>\n",
       "    <tr>\n",
       "      <th>2</th>\n",
       "      <td>1.0</td>\n",
       "      <td>0.628953</td>\n",
       "      <td>0.641390</td>\n",
       "      <td>0.629308</td>\n",
       "    </tr>\n",
       "    <tr>\n",
       "      <th>3</th>\n",
       "      <td>1.0</td>\n",
       "      <td>0.642421</td>\n",
       "      <td>0.660206</td>\n",
       "      <td>0.642572</td>\n",
       "    </tr>\n",
       "    <tr>\n",
       "      <th>4</th>\n",
       "      <td>1.0</td>\n",
       "      <td>0.660896</td>\n",
       "      <td>0.661018</td>\n",
       "      <td>0.649663</td>\n",
       "    </tr>\n",
       "    <tr>\n",
       "      <th>...</th>\n",
       "      <td>...</td>\n",
       "      <td>...</td>\n",
       "      <td>...</td>\n",
       "      <td>...</td>\n",
       "    </tr>\n",
       "    <tr>\n",
       "      <th>1128222</th>\n",
       "      <td>1.0</td>\n",
       "      <td>0.573564</td>\n",
       "      <td>0.572654</td>\n",
       "      <td>0.573923</td>\n",
       "    </tr>\n",
       "    <tr>\n",
       "      <th>1128223</th>\n",
       "      <td>1.0</td>\n",
       "      <td>0.573388</td>\n",
       "      <td>0.573042</td>\n",
       "      <td>0.573747</td>\n",
       "    </tr>\n",
       "    <tr>\n",
       "      <th>1128224</th>\n",
       "      <td>1.0</td>\n",
       "      <td>0.573388</td>\n",
       "      <td>0.571842</td>\n",
       "      <td>0.573817</td>\n",
       "    </tr>\n",
       "    <tr>\n",
       "      <th>1128225</th>\n",
       "      <td>1.0</td>\n",
       "      <td>0.573317</td>\n",
       "      <td>0.573078</td>\n",
       "      <td>0.573817</td>\n",
       "    </tr>\n",
       "    <tr>\n",
       "      <th>1128226</th>\n",
       "      <td>1.0</td>\n",
       "      <td>0.573599</td>\n",
       "      <td>0.572266</td>\n",
       "      <td>0.573182</td>\n",
       "    </tr>\n",
       "  </tbody>\n",
       "</table>\n",
       "<p>1128227 rows × 4 columns</p>\n",
       "</div>"
      ],
      "text/plain": [
       "         Bias      Open      High       Low\n",
       "0         1.0  0.627120  0.626139  0.626874\n",
       "1         1.0  0.627190  0.627515  0.627439\n",
       "2         1.0  0.628953  0.641390  0.629308\n",
       "3         1.0  0.642421  0.660206  0.642572\n",
       "4         1.0  0.660896  0.661018  0.649663\n",
       "...       ...       ...       ...       ...\n",
       "1128222   1.0  0.573564  0.572654  0.573923\n",
       "1128223   1.0  0.573388  0.573042  0.573747\n",
       "1128224   1.0  0.573388  0.571842  0.573817\n",
       "1128225   1.0  0.573317  0.573078  0.573817\n",
       "1128226   1.0  0.573599  0.572266  0.573182\n",
       "\n",
       "[1128227 rows x 4 columns]"
      ]
     },
     "execution_count": 232,
     "metadata": {},
     "output_type": "execute_result"
    }
   ],
   "source": [
    "df = df.drop('Volume',axis=1)\n",
    "scaled_Y = df['Close']\n",
    "df = df.drop('Close',axis=1)\n",
    "\n",
    "#add the bias column to the dataset\n",
    "df.insert(loc=0,column='Bias',value=np.ones((df.shape[0],1)))\n",
    "scaled_X = df\n",
    "\n",
    "display(scaled_X)\n",
    "display(scaled_Y)\n",
    "df"
   ]
  },
  {
   "cell_type": "code",
   "execution_count": 319,
   "id": "2faae69a",
   "metadata": {},
   "outputs": [],
   "source": [
    "class LinearRegression:\n",
    "    def __init__(self,feature_samples,labels):\n",
    "        self.X = feature_samples\n",
    "        self.Y = labels\n",
    "        self.X_train, self.X_test, self.Y_train, self.Y_test = train_test_split(feature_samples,labels,test_size=0.2)\n",
    "        self.parameters = np.ones((feature_samples.shape[1],1))\n",
    "        self.accuracy = []\n",
    "        self.epoch_list = []\n",
    "    \n",
    "        \n",
    "        \n",
    "    def TrainByBatchGradientDescent(self,epochs=None,epsilon=0.01,learning_rate=0.001):\n",
    "        thetas = np.ones((self.X.shape[1],1))\n",
    "        \n",
    "        Y = self.Y_train.values.reshape((self.Y_train.shape[0],1))\n",
    "        X = self.X_train\n",
    "        \n",
    "        \n",
    "        if epochs != None:\n",
    "            epoch_list = []\n",
    "            cost_list = []\n",
    "            norm_list = []\n",
    "            accuracy_list = [[],[],[],[]]\n",
    "            prev_theta = np.zeros((self.X.shape[1],1))\n",
    "            cur_theta = thetas\n",
    "            for epoch in range(epochs):\n",
    "                y_pred = np.dot(X,thetas)\n",
    "                \n",
    "                theta_grad = -(2/Y.shape[0])*(X.T.dot(Y-y_pred))\n",
    "                \n",
    "                thetas = thetas - learning_rate*theta_grad\n",
    "                prev_theta = cur_theta\n",
    "                cur_theta = thetas\n",
    "                \n",
    "                cost = np.mean(np.square(Y-y_pred))\n",
    "                norm = LA.norm(cur_theta-prev_theta)\n",
    "                \n",
    "                accuracy = self.Test()\n",
    "                \n",
    "                \n",
    "                if epoch%10==0:\n",
    "                    epoch_list.append(epoch)\n",
    "                    cost_list.append(cost)\n",
    "                    norm_list.append(norm)\n",
    "                    accuracy_list[0].append(accuracy[0])\n",
    "                    accuracy_list[1].append(accuracy[1])\n",
    "                    accuracy_list[2].append(accuracy[2])\n",
    "                    accuracy_list[3].append(accuracy[3])\n",
    "                    \n",
    "                self.parameters = thetas\n",
    "                self.accuracy = accuracy_list\n",
    "                self.epoch_list = epoch_list\n",
    "                \n",
    "                \n",
    "                \n",
    "            self.parameters = thetas\n",
    "            return (self.parameters,epoch_list,cost_list,norm_list)\n",
    "            \n",
    "        else:\n",
    "            thetas_cur = np.ones((self.X.shape[1],1))\n",
    "            thetas_prev = np.zeros((self.X.shape[1],1))\n",
    "\n",
    "            epoch_list = []\n",
    "            epoch = 0\n",
    "            cost_list = []\n",
    "            norm_list = []\n",
    "            accuracy_list = [[],[],[],[]]\n",
    "            cur_norm = LA.norm(thetas_cur-thetas_prev)\n",
    "            prev_norm = 0\n",
    "            \n",
    "            while LA.norm(thetas_cur-thetas_prev) >= epsilon:\n",
    "                y_pred = np.dot(X,thetas_cur)\n",
    "                \n",
    "                theta_grad = -(2/Y.shape[0])*(X.T.dot(Y-y_pred))\n",
    "                theta_prev = thetas_cur\n",
    "                \n",
    "                thetas_cur = thetas_cur - learning_rate*theta_grad\n",
    "                \n",
    "                \n",
    "\n",
    "                cost = np.mean(np.square(Y-y_pred))\n",
    "                prev_norm = cur_norm\n",
    "                cur_norm = LA.norm(thetas_cur-thetas_prev) \n",
    "                accuracy = self.Test()\n",
    "                print(cur_norm)\n",
    "                \n",
    "                if epoch%10==0:\n",
    "                    epoch_list.append(epoch)\n",
    "                    cost_list.append(cost)\n",
    "                    norm_list.append(cur_norm)\n",
    "                    accuracy_list[0].append(accuracy[0])\n",
    "                    accuracy_list[1].append(accuracy[1])\n",
    "                    accuracy_list[2].append(accuracy[2])\n",
    "                    accuracy_list[3].append(accuracy[3])\n",
    "                    \n",
    "                \n",
    "                epoch+=1\n",
    "                if cur_norm > prev_norm:\n",
    "                    print('At ||theta_new - theta_old|| = ',LA.norm(thetas_cur-thetas_prev),' overshooting minimum occurs hence we break the loop')\n",
    "                    break\n",
    "                \n",
    "                \n",
    "                \n",
    "                     \n",
    "                    \n",
    "            self.parameters = thetas_cur\n",
    "            self.accuracy = accuracy_list\n",
    "            self.epoch_list = epoch_list\n",
    "            return self.parameters,epoch_list,cost_list,norm_list\n",
    "        \n",
    "        \n",
    "        \n",
    "    def Test(self):\n",
    "        thetas = self.parameters\n",
    "        X = self.X_test\n",
    "        Y = self.Y_test.values.reshape((self.Y_test.shape[0],1))\n",
    "        \n",
    "        results = np.matmul(X,self.parameters)\n",
    "        SSR = np.sum(np.square(results - Y))\n",
    "        SST = np.sum(np.square(results - Y.mean()))\n",
    "        \n",
    "        R_2 = float(SSR/SST)\n",
    "        MSE = float(np.mean(np.square(results-Y.mean())))\n",
    "        MAE = float(np.mean(abs(results-Y.mean())))\n",
    "        RMSD = float(np.sqrt(MSE))\n",
    "        \n",
    "        return R_2,MSE,MAE,RMSD\n",
    "    \n",
    "    \n",
    "    def AccuracyPlots(self):\n",
    "        epochs = self.epoch_list\n",
    "        RSS = self.accuracy[0]\n",
    "        MSE = self.accuracy[1]\n",
    "        MAE = self.accuracy[2]\n",
    "        RMSD = self.accuracy[3]\n",
    "\n",
    "        plt.scatter(epochs,RSS,color='red',label='RSS')\n",
    "\n",
    "        plt.scatter(epochs,MSE,color='blue',label='MSE')\n",
    "\n",
    "        plt.scatter(epochs,MAE,color='green',label='MAE')\n",
    "\n",
    "        plt.scatter(epochs,RMSD,color='yellow',label='RMSD')\n",
    "        plt.title('Accuracy Plot')\n",
    "\n",
    "        plt.legend(loc='upper right')\n",
    "\n",
    "        plt.show()\n",
    "    \n",
    "    \n",
    "    def Predict(self,Bias,Open,High,Low):\n",
    "        a = Bias\n",
    "        b = Open\n",
    "        c = High\n",
    "        d = Low\n",
    "        \n",
    "        \n",
    "        \n",
    "        feat = np.array([a,b,c,d]).reshape((4,1))\n",
    "        parameters = self.parameters\n",
    "        pred = np.matmul(feat.T,parameters)\n",
    "        print(\"Prediction to:\",feat.T,\" is = \",np.array(pred))\n",
    "        return pred"
   ]
  },
  {
   "cell_type": "code",
   "execution_count": 320,
   "id": "e819971d",
   "metadata": {},
   "outputs": [],
   "source": [
    "model = LinearRegression(scaled_X,scaled_Y)"
   ]
  },
  {
   "cell_type": "code",
   "execution_count": null,
   "id": "fe72be6d",
   "metadata": {},
   "outputs": [
    {
     "name": "stderr",
     "output_type": "stream",
     "text": [
      "<ipython-input-319-94367ff8fe75>:118: FutureWarning: Calling a ufunc on non-aligned DataFrames (or DataFrame/Series combination). Currently, the indices are ignored and the result takes the index/columns of the first DataFrame. In the future , the DataFrames/Series will be aligned before applying the ufunc.\n",
      "Convert one of the arguments to a NumPy array (eg 'ufunc(df1, np.asarray(df2)') to keep the current behaviour, or align manually (eg 'df1, df2 = df1.align(df2)') before passing to the ufunc to obtain the future behaviour and silence this warning.\n",
      "  results = np.matmul(X,self.parameters)\n"
     ]
    }
   ],
   "source": [
    "c = model.TrainByBatchGradientDescent(epochs=1000000,learning_rate=0.001)\n",
    "\n",
    "\n",
    "plt.scatter(c[1],c[2])\n",
    "plt.ylabel('Cost')\n",
    "plt.xlabel('Epoch')\n",
    "plt.show()\n",
    "\n",
    "plt.scatter(c[1],c[3])\n",
    "plt.ylabel('Norm')\n",
    "plt.xlabel('Epoch')\n",
    "plt.show()\n",
    "\n",
    "model.Test()\n",
    "model.AccuracyPlots()\n",
    "model.Predict(1.0,0.573599,0.572266,0.573182)"
   ]
  },
  {
   "cell_type": "code",
   "execution_count": 318,
   "id": "2b55eb88",
   "metadata": {},
   "outputs": [
    {
     "name": "stderr",
     "output_type": "stream",
     "text": [
      "<ipython-input-313-94367ff8fe75>:118: FutureWarning: Calling a ufunc on non-aligned DataFrames (or DataFrame/Series combination). Currently, the indices are ignored and the result takes the index/columns of the first DataFrame. In the future , the DataFrames/Series will be aligned before applying the ufunc.\n",
      "Convert one of the arguments to a NumPy array (eg 'ufunc(df1, np.asarray(df2)') to keep the current behaviour, or align manually (eg 'df1, df2 = df1.align(df2)') before passing to the ufunc to obtain the future behaviour and silence this warning.\n",
      "  results = np.matmul(X,self.parameters)\n"
     ]
    },
    {
     "name": "stdout",
     "output_type": "stream",
     "text": [
      "1.9999999953358254\n",
      "1.9999999906716508\n",
      "1.9999999860074762\n",
      "1.9999999813433016\n",
      "1.9999999766791268\n",
      "1.9999999720149524\n",
      "1.999999967350778\n",
      "1.9999999626866034\n",
      "1.999999958022429\n",
      "1.9999999533582544\n",
      "1.99999994869408\n",
      "1.9999999440299054\n",
      "1.999999939365731\n",
      "1.9999999347015567\n",
      "1.9999999300373823\n",
      "1.9999999253732081\n",
      "1.9999999207090338\n",
      "1.9999999160448596\n",
      "1.9999999113806852\n",
      "1.999999906716511\n",
      "1.9999999020523367\n",
      "1.9999998973881625\n",
      "1.9999998927239881\n",
      "1.999999888059814\n",
      "1.99999988339564\n",
      "1.9999998787314657\n",
      "1.9999998740672917\n",
      "1.9999998694031176\n",
      "1.9999998647389434\n",
      "1.9999998600747693\n",
      "1.9999998554105953\n",
      "1.9999998507464214\n",
      "1.9999998460822475\n",
      "1.9999998414180735\n",
      "1.9999998367538996\n",
      "1.9999998320897254\n",
      "1.9999998274255515\n",
      "1.9999998227613778\n",
      "1.9999998180972038\n",
      "1.9999998134330301\n",
      "1.9999998087688562\n",
      "1.9999998041046825\n",
      "1.9999997994405088\n",
      "1.999999794776335\n",
      "1.9999997901121611\n",
      "1.9999997854479874\n",
      "1.9999997807838137\n",
      "1.9999997761196402\n",
      "1.9999997714554665\n",
      "1.9999997667912928\n",
      "1.999999762127119\n",
      "1.9999997574629456\n",
      "1.999999752798772\n",
      "1.9999997481345986\n",
      "1.9999997434704249\n",
      "1.9999997388062514\n",
      "1.9999997341420779\n",
      "1.9999997294779046\n",
      "1.9999997248137311\n",
      "1.9999997201495576\n",
      "1.9999997154853841\n",
      "1.9999997108212106\n",
      "1.9999997061570374\n",
      "1.999999701492864\n",
      "1.9999996968286908\n",
      "1.9999996921645173\n",
      "1.999999687500344\n",
      "1.999999682836171\n",
      "1.9999996781719975\n",
      "1.9999996735078243\n",
      "1.9999996688436512\n",
      "1.999999664179478\n",
      "1.9999996595153047\n",
      "1.9999996548511316\n",
      "1.9999996501869586\n",
      "1.9999996455227855\n",
      "1.9999996408586125\n",
      "1.9999996361944392\n",
      "1.9999996315302662\n",
      "1.9999996268660933\n",
      "1.9999996222019203\n",
      "1.9999996175377475\n",
      "1.9999996128735744\n",
      "1.9999996082094014\n",
      "1.9999996035452285\n",
      "1.9999995988810557\n",
      "1.999999594216883\n",
      "1.9999995895527098\n",
      "1.999999584888537\n",
      "1.9999995802243644\n",
      "1.9999995755601916\n",
      "1.9999995708960188\n",
      "1.9999995662318462\n",
      "1.9999995615676736\n",
      "1.9999995569035007\n",
      "1.999999552239328\n",
      "1.9999995475751555\n",
      "1.9999995429109827\n",
      "1.99999953824681\n",
      "1.9999995335826373\n",
      "1.9999995289184649\n",
      "1.9999995242542923\n",
      "1.9999995195901197\n",
      "1.9999995149259473\n",
      "1.9999995102617747\n",
      "1.9999995055976023\n",
      "1.99999950093343\n",
      "1.9999994962692573\n",
      "1.999999491605085\n",
      "1.9999994869409126\n",
      "1.9999994822767402\n",
      "1.9999994776125678\n",
      "1.9999994729483954\n",
      "1.9999994682842233\n",
      "1.9999994636200509\n",
      "1.9999994589558785\n",
      "1.9999994542917066\n",
      "1.9999994496275342\n",
      "1.999999444963362\n",
      "1.9999994402991899\n",
      "1.9999994356350177\n",
      "1.9999994309708455\n",
      "1.9999994263066732\n",
      "1.9999994216425012\n",
      "1.999999416978329\n",
      "1.9999994123141571\n",
      "1.9999994076499852\n",
      "1.999999402985813\n",
      "1.999999398321641\n",
      "1.9999993936574691\n",
      "1.9999993889932972\n",
      "1.9999993843291253\n",
      "1.9999993796649533\n",
      "1.9999993750007814\n",
      "1.9999993703366095\n",
      "1.9999993656724377\n",
      "1.9999993610082658\n",
      "1.999999356344094\n",
      "1.9999993516799224\n",
      "1.9999993470157504\n",
      "1.9999993423515787\n",
      "1.999999337687407\n",
      "1.9999993330232353\n",
      "1.9999993283590638\n",
      "1.999999323694892\n",
      "1.9999993190307204\n",
      "1.9999993143665487\n",
      "1.9999993097023772\n",
      "1.9999993050382054\n",
      "1.999999300374034\n",
      "1.9999992957098625\n",
      "1.999999291045691\n",
      "1.9999992863815195\n",
      "1.999999281717348\n",
      "1.9999992770531767\n",
      "1.9999992723890052\n",
      "1.9999992677248337\n",
      "1.9999992630606622\n",
      "1.9999992583964907\n",
      "1.9999992537323195\n",
      "1.9999992490681482\n",
      "1.9999992444039767\n",
      "1.9999992397398054\n",
      "1.9999992350756342\n",
      "1.9999992304114629\n",
      "1.9999992257472918\n",
      "1.9999992210831206\n",
      "1.9999992164189495\n",
      "1.9999992117547782\n",
      "1.999999207090607\n",
      "1.999999202426436\n",
      "1.9999991977622646\n",
      "1.9999991930980936\n",
      "1.9999991884339225\n",
      "1.9999991837697515\n",
      "1.9999991791055804\n",
      "1.9999991744414096\n",
      "1.9999991697772386\n",
      "1.9999991651130675\n",
      "1.9999991604488967\n",
      "1.9999991557847259\n",
      "1.9999991511205548\n",
      "1.9999991464563838\n",
      "1.9999991417922132\n",
      "1.9999991371280421\n",
      "1.9999991324638713\n",
      "1.9999991277997005\n",
      "1.9999991231355299\n",
      "1.999999118471359\n",
      "1.9999991138071884\n",
      "1.9999991091430176\n",
      "1.999999104478847\n",
      "1.9999990998146764\n",
      "1.9999990951505058\n",
      "1.9999990904863352\n",
      "1.9999990858221643\n",
      "1.9999990811579937\n",
      "1.9999990764938231\n",
      "1.9999990718296525\n",
      "1.9999990671654821\n",
      "1.9999990625013115\n",
      "1.9999990578371412\n",
      "1.9999990531729708\n",
      "1.9999990485088004\n",
      "1.9999990438446298\n",
      "1.9999990391804594\n",
      "1.9999990345162888\n",
      "1.9999990298521186\n",
      "1.9999990251879483\n",
      "1.9999990205237779\n",
      "1.9999990158596077\n",
      "1.9999990111954373\n",
      "1.9999990065312672\n",
      "1.9999990018670968\n",
      "1.9999989972029266\n",
      "1.9999989925387565\n",
      "1.9999989878745863\n",
      "1.9999989832104161\n",
      "1.999998978546246\n",
      "1.999998973882076\n",
      "1.9999989692179059\n",
      "1.9999989645537357\n",
      "1.9999989598895656\n",
      "1.9999989552253956\n",
      "1.9999989505612257\n",
      "1.9999989458970557\n",
      "1.9999989412328858\n",
      "1.9999989365687159\n",
      "1.999998931904546\n",
      "1.999998927240376\n",
      "1.999998922576206\n",
      "1.999998917912036\n"
     ]
    },
    {
     "ename": "KeyboardInterrupt",
     "evalue": "",
     "output_type": "error",
     "traceback": [
      "\u001b[1;31m---------------------------------------------------------------------------\u001b[0m",
      "\u001b[1;31mKeyboardInterrupt\u001b[0m                         Traceback (most recent call last)",
      "\u001b[1;32m<ipython-input-318-0d17d911351e>\u001b[0m in \u001b[0;36m<module>\u001b[1;34m\u001b[0m\n\u001b[1;32m----> 1\u001b[1;33m \u001b[0mb\u001b[0m \u001b[1;33m=\u001b[0m \u001b[0mmodel\u001b[0m\u001b[1;33m.\u001b[0m\u001b[0mTrainByBatchGradientDescent\u001b[0m\u001b[1;33m(\u001b[0m\u001b[0mepsilon\u001b[0m\u001b[1;33m=\u001b[0m\u001b[1;36m0.1\u001b[0m\u001b[1;33m,\u001b[0m\u001b[0mlearning_rate\u001b[0m\u001b[1;33m=\u001b[0m\u001b[1;36m0.000000001\u001b[0m\u001b[1;33m)\u001b[0m\u001b[1;33m\u001b[0m\u001b[1;33m\u001b[0m\u001b[0m\n\u001b[0m\u001b[0;32m      2\u001b[0m \u001b[1;33m\u001b[0m\u001b[0m\n\u001b[0;32m      3\u001b[0m \u001b[0mprint\u001b[0m\u001b[1;33m(\u001b[0m\u001b[0mnp\u001b[0m\u001b[1;33m.\u001b[0m\u001b[0marray\u001b[0m\u001b[1;33m(\u001b[0m\u001b[0mb\u001b[0m\u001b[1;33m[\u001b[0m\u001b[1;36m0\u001b[0m\u001b[1;33m]\u001b[0m\u001b[1;33m)\u001b[0m\u001b[1;33m)\u001b[0m\u001b[1;33m\u001b[0m\u001b[1;33m\u001b[0m\u001b[0m\n\u001b[0;32m      4\u001b[0m \u001b[0mplt\u001b[0m\u001b[1;33m.\u001b[0m\u001b[0mscatter\u001b[0m\u001b[1;33m(\u001b[0m\u001b[0mb\u001b[0m\u001b[1;33m[\u001b[0m\u001b[1;36m1\u001b[0m\u001b[1;33m]\u001b[0m\u001b[1;33m,\u001b[0m\u001b[0mb\u001b[0m\u001b[1;33m[\u001b[0m\u001b[1;36m2\u001b[0m\u001b[1;33m]\u001b[0m\u001b[1;33m)\u001b[0m\u001b[1;33m\u001b[0m\u001b[1;33m\u001b[0m\u001b[0m\n\u001b[0;32m      5\u001b[0m \u001b[0mplt\u001b[0m\u001b[1;33m.\u001b[0m\u001b[0mylabel\u001b[0m\u001b[1;33m(\u001b[0m\u001b[1;34m'Cost'\u001b[0m\u001b[1;33m)\u001b[0m\u001b[1;33m\u001b[0m\u001b[1;33m\u001b[0m\u001b[0m\n",
      "\u001b[1;32m<ipython-input-313-94367ff8fe75>\u001b[0m in \u001b[0;36mTrainByBatchGradientDescent\u001b[1;34m(self, epochs, epsilon, learning_rate)\u001b[0m\n\u001b[0;32m     82\u001b[0m                 \u001b[0mprev_norm\u001b[0m \u001b[1;33m=\u001b[0m \u001b[0mcur_norm\u001b[0m\u001b[1;33m\u001b[0m\u001b[1;33m\u001b[0m\u001b[0m\n\u001b[0;32m     83\u001b[0m                 \u001b[0mcur_norm\u001b[0m \u001b[1;33m=\u001b[0m \u001b[0mLA\u001b[0m\u001b[1;33m.\u001b[0m\u001b[0mnorm\u001b[0m\u001b[1;33m(\u001b[0m\u001b[0mthetas_cur\u001b[0m\u001b[1;33m-\u001b[0m\u001b[0mthetas_prev\u001b[0m\u001b[1;33m)\u001b[0m\u001b[1;33m\u001b[0m\u001b[1;33m\u001b[0m\u001b[0m\n\u001b[1;32m---> 84\u001b[1;33m                 \u001b[0maccuracy\u001b[0m \u001b[1;33m=\u001b[0m \u001b[0mself\u001b[0m\u001b[1;33m.\u001b[0m\u001b[0mTest\u001b[0m\u001b[1;33m(\u001b[0m\u001b[1;33m)\u001b[0m\u001b[1;33m\u001b[0m\u001b[1;33m\u001b[0m\u001b[0m\n\u001b[0m\u001b[0;32m     85\u001b[0m                 \u001b[0mprint\u001b[0m\u001b[1;33m(\u001b[0m\u001b[0mcur_norm\u001b[0m\u001b[1;33m)\u001b[0m\u001b[1;33m\u001b[0m\u001b[1;33m\u001b[0m\u001b[0m\n\u001b[0;32m     86\u001b[0m \u001b[1;33m\u001b[0m\u001b[0m\n",
      "\u001b[1;32m<ipython-input-313-94367ff8fe75>\u001b[0m in \u001b[0;36mTest\u001b[1;34m(self)\u001b[0m\n\u001b[0;32m    121\u001b[0m \u001b[1;33m\u001b[0m\u001b[0m\n\u001b[0;32m    122\u001b[0m         \u001b[0mR_2\u001b[0m \u001b[1;33m=\u001b[0m \u001b[0mfloat\u001b[0m\u001b[1;33m(\u001b[0m\u001b[0mSSR\u001b[0m\u001b[1;33m/\u001b[0m\u001b[0mSST\u001b[0m\u001b[1;33m)\u001b[0m\u001b[1;33m\u001b[0m\u001b[1;33m\u001b[0m\u001b[0m\n\u001b[1;32m--> 123\u001b[1;33m         \u001b[0mMSE\u001b[0m \u001b[1;33m=\u001b[0m \u001b[0mfloat\u001b[0m\u001b[1;33m(\u001b[0m\u001b[0mnp\u001b[0m\u001b[1;33m.\u001b[0m\u001b[0mmean\u001b[0m\u001b[1;33m(\u001b[0m\u001b[0mnp\u001b[0m\u001b[1;33m.\u001b[0m\u001b[0msquare\u001b[0m\u001b[1;33m(\u001b[0m\u001b[0mresults\u001b[0m\u001b[1;33m-\u001b[0m\u001b[0mY\u001b[0m\u001b[1;33m.\u001b[0m\u001b[0mmean\u001b[0m\u001b[1;33m(\u001b[0m\u001b[1;33m)\u001b[0m\u001b[1;33m)\u001b[0m\u001b[1;33m)\u001b[0m\u001b[1;33m)\u001b[0m\u001b[1;33m\u001b[0m\u001b[1;33m\u001b[0m\u001b[0m\n\u001b[0m\u001b[0;32m    124\u001b[0m         \u001b[0mMAE\u001b[0m \u001b[1;33m=\u001b[0m \u001b[0mfloat\u001b[0m\u001b[1;33m(\u001b[0m\u001b[0mnp\u001b[0m\u001b[1;33m.\u001b[0m\u001b[0mmean\u001b[0m\u001b[1;33m(\u001b[0m\u001b[0mabs\u001b[0m\u001b[1;33m(\u001b[0m\u001b[0mresults\u001b[0m\u001b[1;33m-\u001b[0m\u001b[0mY\u001b[0m\u001b[1;33m.\u001b[0m\u001b[0mmean\u001b[0m\u001b[1;33m(\u001b[0m\u001b[1;33m)\u001b[0m\u001b[1;33m)\u001b[0m\u001b[1;33m)\u001b[0m\u001b[1;33m)\u001b[0m\u001b[1;33m\u001b[0m\u001b[1;33m\u001b[0m\u001b[0m\n\u001b[0;32m    125\u001b[0m         \u001b[0mRMSD\u001b[0m \u001b[1;33m=\u001b[0m \u001b[0mfloat\u001b[0m\u001b[1;33m(\u001b[0m\u001b[0mnp\u001b[0m\u001b[1;33m.\u001b[0m\u001b[0msqrt\u001b[0m\u001b[1;33m(\u001b[0m\u001b[0mMSE\u001b[0m\u001b[1;33m)\u001b[0m\u001b[1;33m)\u001b[0m\u001b[1;33m\u001b[0m\u001b[1;33m\u001b[0m\u001b[0m\n",
      "\u001b[1;32m~\\anaconda3\\lib\\site-packages\\pandas\\core\\ops\\common.py\u001b[0m in \u001b[0;36mnew_method\u001b[1;34m(self, other)\u001b[0m\n\u001b[0;32m     63\u001b[0m         \u001b[0mother\u001b[0m \u001b[1;33m=\u001b[0m \u001b[0mitem_from_zerodim\u001b[0m\u001b[1;33m(\u001b[0m\u001b[0mother\u001b[0m\u001b[1;33m)\u001b[0m\u001b[1;33m\u001b[0m\u001b[1;33m\u001b[0m\u001b[0m\n\u001b[0;32m     64\u001b[0m \u001b[1;33m\u001b[0m\u001b[0m\n\u001b[1;32m---> 65\u001b[1;33m         \u001b[1;32mreturn\u001b[0m \u001b[0mmethod\u001b[0m\u001b[1;33m(\u001b[0m\u001b[0mself\u001b[0m\u001b[1;33m,\u001b[0m \u001b[0mother\u001b[0m\u001b[1;33m)\u001b[0m\u001b[1;33m\u001b[0m\u001b[1;33m\u001b[0m\u001b[0m\n\u001b[0m\u001b[0;32m     66\u001b[0m \u001b[1;33m\u001b[0m\u001b[0m\n\u001b[0;32m     67\u001b[0m     \u001b[1;32mreturn\u001b[0m \u001b[0mnew_method\u001b[0m\u001b[1;33m\u001b[0m\u001b[1;33m\u001b[0m\u001b[0m\n",
      "\u001b[1;32m~\\anaconda3\\lib\\site-packages\\pandas\\core\\arraylike.py\u001b[0m in \u001b[0;36m__sub__\u001b[1;34m(self, other)\u001b[0m\n\u001b[0;32m     95\u001b[0m     \u001b[1;33m@\u001b[0m\u001b[0munpack_zerodim_and_defer\u001b[0m\u001b[1;33m(\u001b[0m\u001b[1;34m\"__sub__\"\u001b[0m\u001b[1;33m)\u001b[0m\u001b[1;33m\u001b[0m\u001b[1;33m\u001b[0m\u001b[0m\n\u001b[0;32m     96\u001b[0m     \u001b[1;32mdef\u001b[0m \u001b[0m__sub__\u001b[0m\u001b[1;33m(\u001b[0m\u001b[0mself\u001b[0m\u001b[1;33m,\u001b[0m \u001b[0mother\u001b[0m\u001b[1;33m)\u001b[0m\u001b[1;33m:\u001b[0m\u001b[1;33m\u001b[0m\u001b[1;33m\u001b[0m\u001b[0m\n\u001b[1;32m---> 97\u001b[1;33m         \u001b[1;32mreturn\u001b[0m \u001b[0mself\u001b[0m\u001b[1;33m.\u001b[0m\u001b[0m_arith_method\u001b[0m\u001b[1;33m(\u001b[0m\u001b[0mother\u001b[0m\u001b[1;33m,\u001b[0m \u001b[0moperator\u001b[0m\u001b[1;33m.\u001b[0m\u001b[0msub\u001b[0m\u001b[1;33m)\u001b[0m\u001b[1;33m\u001b[0m\u001b[1;33m\u001b[0m\u001b[0m\n\u001b[0m\u001b[0;32m     98\u001b[0m \u001b[1;33m\u001b[0m\u001b[0m\n\u001b[0;32m     99\u001b[0m     \u001b[1;33m@\u001b[0m\u001b[0munpack_zerodim_and_defer\u001b[0m\u001b[1;33m(\u001b[0m\u001b[1;34m\"__rsub__\"\u001b[0m\u001b[1;33m)\u001b[0m\u001b[1;33m\u001b[0m\u001b[1;33m\u001b[0m\u001b[0m\n",
      "\u001b[1;32m~\\anaconda3\\lib\\site-packages\\pandas\\core\\frame.py\u001b[0m in \u001b[0;36m_arith_method\u001b[1;34m(self, other, op)\u001b[0m\n\u001b[0;32m   5980\u001b[0m         \u001b[0mself\u001b[0m\u001b[1;33m,\u001b[0m \u001b[0mother\u001b[0m \u001b[1;33m=\u001b[0m \u001b[0mops\u001b[0m\u001b[1;33m.\u001b[0m\u001b[0malign_method_FRAME\u001b[0m\u001b[1;33m(\u001b[0m\u001b[0mself\u001b[0m\u001b[1;33m,\u001b[0m \u001b[0mother\u001b[0m\u001b[1;33m,\u001b[0m \u001b[0maxis\u001b[0m\u001b[1;33m,\u001b[0m \u001b[0mflex\u001b[0m\u001b[1;33m=\u001b[0m\u001b[1;32mTrue\u001b[0m\u001b[1;33m,\u001b[0m \u001b[0mlevel\u001b[0m\u001b[1;33m=\u001b[0m\u001b[1;32mNone\u001b[0m\u001b[1;33m)\u001b[0m\u001b[1;33m\u001b[0m\u001b[1;33m\u001b[0m\u001b[0m\n\u001b[0;32m   5981\u001b[0m \u001b[1;33m\u001b[0m\u001b[0m\n\u001b[1;32m-> 5982\u001b[1;33m         \u001b[0mnew_data\u001b[0m \u001b[1;33m=\u001b[0m \u001b[0mself\u001b[0m\u001b[1;33m.\u001b[0m\u001b[0m_dispatch_frame_op\u001b[0m\u001b[1;33m(\u001b[0m\u001b[0mother\u001b[0m\u001b[1;33m,\u001b[0m \u001b[0mop\u001b[0m\u001b[1;33m,\u001b[0m \u001b[0maxis\u001b[0m\u001b[1;33m=\u001b[0m\u001b[0maxis\u001b[0m\u001b[1;33m)\u001b[0m\u001b[1;33m\u001b[0m\u001b[1;33m\u001b[0m\u001b[0m\n\u001b[0m\u001b[0;32m   5983\u001b[0m         \u001b[1;32mreturn\u001b[0m \u001b[0mself\u001b[0m\u001b[1;33m.\u001b[0m\u001b[0m_construct_result\u001b[0m\u001b[1;33m(\u001b[0m\u001b[0mnew_data\u001b[0m\u001b[1;33m)\u001b[0m\u001b[1;33m\u001b[0m\u001b[1;33m\u001b[0m\u001b[0m\n\u001b[0;32m   5984\u001b[0m \u001b[1;33m\u001b[0m\u001b[0m\n",
      "\u001b[1;32m~\\anaconda3\\lib\\site-packages\\pandas\\core\\frame.py\u001b[0m in \u001b[0;36m_dispatch_frame_op\u001b[1;34m(self, right, func, axis)\u001b[0m\n\u001b[0;32m   6006\u001b[0m         \u001b[1;32mif\u001b[0m \u001b[1;32mnot\u001b[0m \u001b[0mis_list_like\u001b[0m\u001b[1;33m(\u001b[0m\u001b[0mright\u001b[0m\u001b[1;33m)\u001b[0m\u001b[1;33m:\u001b[0m\u001b[1;33m\u001b[0m\u001b[1;33m\u001b[0m\u001b[0m\n\u001b[0;32m   6007\u001b[0m             \u001b[1;31m# i.e. scalar, faster than checking np.ndim(right) == 0\u001b[0m\u001b[1;33m\u001b[0m\u001b[1;33m\u001b[0m\u001b[1;33m\u001b[0m\u001b[0m\n\u001b[1;32m-> 6008\u001b[1;33m             \u001b[0mbm\u001b[0m \u001b[1;33m=\u001b[0m \u001b[0mself\u001b[0m\u001b[1;33m.\u001b[0m\u001b[0m_mgr\u001b[0m\u001b[1;33m.\u001b[0m\u001b[0mapply\u001b[0m\u001b[1;33m(\u001b[0m\u001b[0marray_op\u001b[0m\u001b[1;33m,\u001b[0m \u001b[0mright\u001b[0m\u001b[1;33m=\u001b[0m\u001b[0mright\u001b[0m\u001b[1;33m)\u001b[0m\u001b[1;33m\u001b[0m\u001b[1;33m\u001b[0m\u001b[0m\n\u001b[0m\u001b[0;32m   6009\u001b[0m             \u001b[1;32mreturn\u001b[0m \u001b[0mtype\u001b[0m\u001b[1;33m(\u001b[0m\u001b[0mself\u001b[0m\u001b[1;33m)\u001b[0m\u001b[1;33m(\u001b[0m\u001b[0mbm\u001b[0m\u001b[1;33m)\u001b[0m\u001b[1;33m\u001b[0m\u001b[1;33m\u001b[0m\u001b[0m\n\u001b[0;32m   6010\u001b[0m \u001b[1;33m\u001b[0m\u001b[0m\n",
      "\u001b[1;32m~\\anaconda3\\lib\\site-packages\\pandas\\core\\internals\\managers.py\u001b[0m in \u001b[0;36mapply\u001b[1;34m(self, f, align_keys, ignore_failures, **kwargs)\u001b[0m\n\u001b[0;32m    423\u001b[0m             \u001b[1;32mtry\u001b[0m\u001b[1;33m:\u001b[0m\u001b[1;33m\u001b[0m\u001b[1;33m\u001b[0m\u001b[0m\n\u001b[0;32m    424\u001b[0m                 \u001b[1;32mif\u001b[0m \u001b[0mcallable\u001b[0m\u001b[1;33m(\u001b[0m\u001b[0mf\u001b[0m\u001b[1;33m)\u001b[0m\u001b[1;33m:\u001b[0m\u001b[1;33m\u001b[0m\u001b[1;33m\u001b[0m\u001b[0m\n\u001b[1;32m--> 425\u001b[1;33m                     \u001b[0mapplied\u001b[0m \u001b[1;33m=\u001b[0m \u001b[0mb\u001b[0m\u001b[1;33m.\u001b[0m\u001b[0mapply\u001b[0m\u001b[1;33m(\u001b[0m\u001b[0mf\u001b[0m\u001b[1;33m,\u001b[0m \u001b[1;33m**\u001b[0m\u001b[0mkwargs\u001b[0m\u001b[1;33m)\u001b[0m\u001b[1;33m\u001b[0m\u001b[1;33m\u001b[0m\u001b[0m\n\u001b[0m\u001b[0;32m    426\u001b[0m                 \u001b[1;32melse\u001b[0m\u001b[1;33m:\u001b[0m\u001b[1;33m\u001b[0m\u001b[1;33m\u001b[0m\u001b[0m\n\u001b[0;32m    427\u001b[0m                     \u001b[0mapplied\u001b[0m \u001b[1;33m=\u001b[0m \u001b[0mgetattr\u001b[0m\u001b[1;33m(\u001b[0m\u001b[0mb\u001b[0m\u001b[1;33m,\u001b[0m \u001b[0mf\u001b[0m\u001b[1;33m)\u001b[0m\u001b[1;33m(\u001b[0m\u001b[1;33m**\u001b[0m\u001b[0mkwargs\u001b[0m\u001b[1;33m)\u001b[0m\u001b[1;33m\u001b[0m\u001b[1;33m\u001b[0m\u001b[0m\n",
      "\u001b[1;32m~\\anaconda3\\lib\\site-packages\\pandas\\core\\internals\\blocks.py\u001b[0m in \u001b[0;36mapply\u001b[1;34m(self, func, **kwargs)\u001b[0m\n\u001b[0;32m    376\u001b[0m         \"\"\"\n\u001b[0;32m    377\u001b[0m         \u001b[1;32mwith\u001b[0m \u001b[0mnp\u001b[0m\u001b[1;33m.\u001b[0m\u001b[0merrstate\u001b[0m\u001b[1;33m(\u001b[0m\u001b[0mall\u001b[0m\u001b[1;33m=\u001b[0m\u001b[1;34m\"ignore\"\u001b[0m\u001b[1;33m)\u001b[0m\u001b[1;33m:\u001b[0m\u001b[1;33m\u001b[0m\u001b[1;33m\u001b[0m\u001b[0m\n\u001b[1;32m--> 378\u001b[1;33m             \u001b[0mresult\u001b[0m \u001b[1;33m=\u001b[0m \u001b[0mfunc\u001b[0m\u001b[1;33m(\u001b[0m\u001b[0mself\u001b[0m\u001b[1;33m.\u001b[0m\u001b[0mvalues\u001b[0m\u001b[1;33m,\u001b[0m \u001b[1;33m**\u001b[0m\u001b[0mkwargs\u001b[0m\u001b[1;33m)\u001b[0m\u001b[1;33m\u001b[0m\u001b[1;33m\u001b[0m\u001b[0m\n\u001b[0m\u001b[0;32m    379\u001b[0m \u001b[1;33m\u001b[0m\u001b[0m\n\u001b[0;32m    380\u001b[0m         \u001b[1;32mreturn\u001b[0m \u001b[0mself\u001b[0m\u001b[1;33m.\u001b[0m\u001b[0m_split_op_result\u001b[0m\u001b[1;33m(\u001b[0m\u001b[0mresult\u001b[0m\u001b[1;33m)\u001b[0m\u001b[1;33m\u001b[0m\u001b[1;33m\u001b[0m\u001b[0m\n",
      "\u001b[1;32m~\\anaconda3\\lib\\site-packages\\pandas\\core\\ops\\array_ops.py\u001b[0m in \u001b[0;36marithmetic_op\u001b[1;34m(left, right, op)\u001b[0m\n\u001b[0;32m    187\u001b[0m     \u001b[1;32melse\u001b[0m\u001b[1;33m:\u001b[0m\u001b[1;33m\u001b[0m\u001b[1;33m\u001b[0m\u001b[0m\n\u001b[0;32m    188\u001b[0m         \u001b[1;32mwith\u001b[0m \u001b[0mnp\u001b[0m\u001b[1;33m.\u001b[0m\u001b[0merrstate\u001b[0m\u001b[1;33m(\u001b[0m\u001b[0mall\u001b[0m\u001b[1;33m=\u001b[0m\u001b[1;34m\"ignore\"\u001b[0m\u001b[1;33m)\u001b[0m\u001b[1;33m:\u001b[0m\u001b[1;33m\u001b[0m\u001b[1;33m\u001b[0m\u001b[0m\n\u001b[1;32m--> 189\u001b[1;33m             \u001b[0mres_values\u001b[0m \u001b[1;33m=\u001b[0m \u001b[0m_na_arithmetic_op\u001b[0m\u001b[1;33m(\u001b[0m\u001b[0mlvalues\u001b[0m\u001b[1;33m,\u001b[0m \u001b[0mrvalues\u001b[0m\u001b[1;33m,\u001b[0m \u001b[0mop\u001b[0m\u001b[1;33m)\u001b[0m\u001b[1;33m\u001b[0m\u001b[1;33m\u001b[0m\u001b[0m\n\u001b[0m\u001b[0;32m    190\u001b[0m \u001b[1;33m\u001b[0m\u001b[0m\n\u001b[0;32m    191\u001b[0m     \u001b[1;32mreturn\u001b[0m \u001b[0mres_values\u001b[0m\u001b[1;33m\u001b[0m\u001b[1;33m\u001b[0m\u001b[0m\n",
      "\u001b[1;32m~\\anaconda3\\lib\\site-packages\\pandas\\core\\ops\\array_ops.py\u001b[0m in \u001b[0;36m_na_arithmetic_op\u001b[1;34m(left, right, op, is_cmp)\u001b[0m\n\u001b[0;32m    140\u001b[0m \u001b[1;33m\u001b[0m\u001b[0m\n\u001b[0;32m    141\u001b[0m     \u001b[1;32mtry\u001b[0m\u001b[1;33m:\u001b[0m\u001b[1;33m\u001b[0m\u001b[1;33m\u001b[0m\u001b[0m\n\u001b[1;32m--> 142\u001b[1;33m         \u001b[0mresult\u001b[0m \u001b[1;33m=\u001b[0m \u001b[0mexpressions\u001b[0m\u001b[1;33m.\u001b[0m\u001b[0mevaluate\u001b[0m\u001b[1;33m(\u001b[0m\u001b[0mop\u001b[0m\u001b[1;33m,\u001b[0m \u001b[0mleft\u001b[0m\u001b[1;33m,\u001b[0m \u001b[0mright\u001b[0m\u001b[1;33m)\u001b[0m\u001b[1;33m\u001b[0m\u001b[1;33m\u001b[0m\u001b[0m\n\u001b[0m\u001b[0;32m    143\u001b[0m     \u001b[1;32mexcept\u001b[0m \u001b[0mTypeError\u001b[0m\u001b[1;33m:\u001b[0m\u001b[1;33m\u001b[0m\u001b[1;33m\u001b[0m\u001b[0m\n\u001b[0;32m    144\u001b[0m         \u001b[1;32mif\u001b[0m \u001b[0mis_cmp\u001b[0m\u001b[1;33m:\u001b[0m\u001b[1;33m\u001b[0m\u001b[1;33m\u001b[0m\u001b[0m\n",
      "\u001b[1;32m~\\anaconda3\\lib\\site-packages\\pandas\\core\\computation\\expressions.py\u001b[0m in \u001b[0;36mevaluate\u001b[1;34m(op, a, b, use_numexpr)\u001b[0m\n\u001b[0;32m    233\u001b[0m         \u001b[1;32mif\u001b[0m \u001b[0muse_numexpr\u001b[0m\u001b[1;33m:\u001b[0m\u001b[1;33m\u001b[0m\u001b[1;33m\u001b[0m\u001b[0m\n\u001b[0;32m    234\u001b[0m             \u001b[1;31m# error: \"None\" not callable\u001b[0m\u001b[1;33m\u001b[0m\u001b[1;33m\u001b[0m\u001b[1;33m\u001b[0m\u001b[0m\n\u001b[1;32m--> 235\u001b[1;33m             \u001b[1;32mreturn\u001b[0m \u001b[0m_evaluate\u001b[0m\u001b[1;33m(\u001b[0m\u001b[0mop\u001b[0m\u001b[1;33m,\u001b[0m \u001b[0mop_str\u001b[0m\u001b[1;33m,\u001b[0m \u001b[0ma\u001b[0m\u001b[1;33m,\u001b[0m \u001b[0mb\u001b[0m\u001b[1;33m)\u001b[0m  \u001b[1;31m# type: ignore[misc]\u001b[0m\u001b[1;33m\u001b[0m\u001b[1;33m\u001b[0m\u001b[0m\n\u001b[0m\u001b[0;32m    236\u001b[0m     \u001b[1;32mreturn\u001b[0m \u001b[0m_evaluate_standard\u001b[0m\u001b[1;33m(\u001b[0m\u001b[0mop\u001b[0m\u001b[1;33m,\u001b[0m \u001b[0mop_str\u001b[0m\u001b[1;33m,\u001b[0m \u001b[0ma\u001b[0m\u001b[1;33m,\u001b[0m \u001b[0mb\u001b[0m\u001b[1;33m)\u001b[0m\u001b[1;33m\u001b[0m\u001b[1;33m\u001b[0m\u001b[0m\n\u001b[0;32m    237\u001b[0m \u001b[1;33m\u001b[0m\u001b[0m\n",
      "\u001b[1;32m~\\anaconda3\\lib\\site-packages\\pandas\\core\\computation\\expressions.py\u001b[0m in \u001b[0;36m_evaluate_numexpr\u001b[1;34m(op, op_str, a, b)\u001b[0m\n\u001b[0;32m    108\u001b[0m         \u001b[0mb_value\u001b[0m \u001b[1;33m=\u001b[0m \u001b[0mb\u001b[0m\u001b[1;33m\u001b[0m\u001b[1;33m\u001b[0m\u001b[0m\n\u001b[0;32m    109\u001b[0m \u001b[1;33m\u001b[0m\u001b[0m\n\u001b[1;32m--> 110\u001b[1;33m         result = ne.evaluate(\n\u001b[0m\u001b[0;32m    111\u001b[0m             \u001b[1;34mf\"a_value {op_str} b_value\"\u001b[0m\u001b[1;33m,\u001b[0m\u001b[1;33m\u001b[0m\u001b[1;33m\u001b[0m\u001b[0m\n\u001b[0;32m    112\u001b[0m             \u001b[0mlocal_dict\u001b[0m\u001b[1;33m=\u001b[0m\u001b[1;33m{\u001b[0m\u001b[1;34m\"a_value\"\u001b[0m\u001b[1;33m:\u001b[0m \u001b[0ma_value\u001b[0m\u001b[1;33m,\u001b[0m \u001b[1;34m\"b_value\"\u001b[0m\u001b[1;33m:\u001b[0m \u001b[0mb_value\u001b[0m\u001b[1;33m}\u001b[0m\u001b[1;33m,\u001b[0m\u001b[1;33m\u001b[0m\u001b[1;33m\u001b[0m\u001b[0m\n",
      "\u001b[1;32m~\\anaconda3\\lib\\site-packages\\numexpr\\necompiler.py\u001b[0m in \u001b[0;36mevaluate\u001b[1;34m(ex, local_dict, global_dict, out, order, casting, **kwargs)\u001b[0m\n\u001b[0;32m    834\u001b[0m     \u001b[0m_numexpr_last\u001b[0m \u001b[1;33m=\u001b[0m \u001b[0mdict\u001b[0m\u001b[1;33m(\u001b[0m\u001b[0mex\u001b[0m\u001b[1;33m=\u001b[0m\u001b[0mcompiled_ex\u001b[0m\u001b[1;33m,\u001b[0m \u001b[0margnames\u001b[0m\u001b[1;33m=\u001b[0m\u001b[0mnames\u001b[0m\u001b[1;33m,\u001b[0m \u001b[0mkwargs\u001b[0m\u001b[1;33m=\u001b[0m\u001b[0mkwargs\u001b[0m\u001b[1;33m)\u001b[0m\u001b[1;33m\u001b[0m\u001b[1;33m\u001b[0m\u001b[0m\n\u001b[0;32m    835\u001b[0m     \u001b[1;32mwith\u001b[0m \u001b[0mevaluate_lock\u001b[0m\u001b[1;33m:\u001b[0m\u001b[1;33m\u001b[0m\u001b[1;33m\u001b[0m\u001b[0m\n\u001b[1;32m--> 836\u001b[1;33m         \u001b[1;32mreturn\u001b[0m \u001b[0mcompiled_ex\u001b[0m\u001b[1;33m(\u001b[0m\u001b[1;33m*\u001b[0m\u001b[0marguments\u001b[0m\u001b[1;33m,\u001b[0m \u001b[1;33m**\u001b[0m\u001b[0mkwargs\u001b[0m\u001b[1;33m)\u001b[0m\u001b[1;33m\u001b[0m\u001b[1;33m\u001b[0m\u001b[0m\n\u001b[0m\u001b[0;32m    837\u001b[0m \u001b[1;33m\u001b[0m\u001b[0m\n\u001b[0;32m    838\u001b[0m \u001b[1;33m\u001b[0m\u001b[0m\n",
      "\u001b[1;31mKeyboardInterrupt\u001b[0m: "
     ]
    }
   ],
   "source": [
    "b = model.TrainByBatchGradientDescent(epsilon=0.1,learning_rate=0.000000001)\n",
    "\n",
    "print(np.array(b[0]))\n",
    "plt.scatter(b[1],b[2])\n",
    "plt.ylabel('Cost')\n",
    "plt.xlabel('Epoch')\n",
    "plt.show()\n",
    "\n",
    "plt.scatter(b[1],b[3])\n",
    "plt.ylabel('Norm')\n",
    "plt.xlabel('Epoch')\n",
    "plt.show()\n",
    "print('The weights are given by = ',b[0])\n",
    "\n",
    "model.Test()\n",
    "model.AccuracyPlots()\n",
    "model.Predict(1.0,0.573599,0.572266,0.573182)"
   ]
  },
  {
   "cell_type": "code",
   "execution_count": 311,
   "id": "ea62a568",
   "metadata": {},
   "outputs": [
    {
     "name": "stderr",
     "output_type": "stream",
     "text": [
      "<ipython-input-307-ece13469a87b>:118: FutureWarning: Calling a ufunc on non-aligned DataFrames (or DataFrame/Series combination). Currently, the indices are ignored and the result takes the index/columns of the first DataFrame. In the future , the DataFrames/Series will be aligned before applying the ufunc.\n",
      "Convert one of the arguments to a NumPy array (eg 'ufunc(df1, np.asarray(df2)') to keep the current behaviour, or align manually (eg 'df1, df2 = df1.align(df2)') before passing to the ufunc to obtain the future behaviour and silence this warning.\n",
      "  results = np.matmul(X,self.parameters)\n",
      "<ipython-input-311-6154fd1b7392>:3: VisibleDeprecationWarning: Creating an ndarray from ragged nested sequences (which is a list-or-tuple of lists-or-tuples-or ndarrays with different lengths or shapes) is deprecated. If you meant to do this, you must specify 'dtype=object' when creating the ndarray.\n",
      "  print(np.array(a))\n"
     ]
    },
    {
     "name": "stdout",
     "output_type": "stream",
     "text": [
      "[             0\n",
      " Bias  0.754039\n",
      " Open  0.829500\n",
      " High  0.829755\n",
      " Low   0.829448 list([0, 10, 20, 30, 40, 50, 60, 70, 80, 90])\n",
      " list([2.6252103098607913, 2.409763985004064, 2.212465920715496, 2.03178635125724, 1.8663244611997225, 1.7147975156597033, 1.5760309067961382, 1.4489490393286368, 1.3325669843537782, 1.2259828366962322])\n",
      " list([0.004738887295452271, 0.004534899811904141, 0.00433970499956617, 0.004152924369431236, 0.0039741957465976585, 0.0038031725679901185, 0.0036395232103494566, 0.0034829303471863565, 0.0033330903334540876, 0.0031897126167440477])]\n"
     ]
    },
    {
     "data": {
      "image/png": "[encoded data removed]",
      "text/plain": [
       "<Figure size 432x288 with 1 Axes>"
      ]
     },
     "metadata": {
      "needs_background": "light"
     },
     "output_type": "display_data"
    },
    {
     "data": {
      "image/png": "[encoded data removed]",
      "text/plain": [
       "<Figure size 432x288 with 1 Axes>"
      ]
     },
     "metadata": {
      "needs_background": "light"
     },
     "output_type": "display_data"
    },
    {
     "name": "stdout",
     "output_type": "stream",
     "text": [
      "Prediction to: [[1.       0.573599 0.572266 0.573182]]  is =  [[2.18010468]]\n"
     ]
    },
    {
     "name": "stderr",
     "output_type": "stream",
     "text": [
      "<ipython-input-307-ece13469a87b>:118: FutureWarning: Calling a ufunc on non-aligned DataFrames (or DataFrame/Series combination). Currently, the indices are ignored and the result takes the index/columns of the first DataFrame. In the future , the DataFrames/Series will be aligned before applying the ufunc.\n",
      "Convert one of the arguments to a NumPy array (eg 'ufunc(df1, np.asarray(df2)') to keep the current behaviour, or align manually (eg 'df1, df2 = df1.align(df2)') before passing to the ufunc to obtain the future behaviour and silence this warning.\n",
      "  results = np.matmul(X,self.parameters)\n"
     ]
    },
    {
     "data": {
      "text/html": [
       "<div>\n",
       "<style scoped>\n",
       "    .dataframe tbody tr th:only-of-type {\n",
       "        vertical-align: middle;\n",
       "    }\n",
       "\n",
       "    .dataframe tbody tr th {\n",
       "        vertical-align: top;\n",
       "    }\n",
       "\n",
       "    .dataframe thead th {\n",
       "        text-align: right;\n",
       "    }\n",
       "</style>\n",
       "<table border=\"1\" class=\"dataframe\">\n",
       "  <thead>\n",
       "    <tr style=\"text-align: right;\">\n",
       "      <th></th>\n",
       "      <th>0</th>\n",
       "    </tr>\n",
       "  </thead>\n",
       "  <tbody>\n",
       "    <tr>\n",
       "      <th>0</th>\n",
       "      <td>2.180105</td>\n",
       "    </tr>\n",
       "  </tbody>\n",
       "</table>\n",
       "</div>"
      ],
      "text/plain": [
       "          0\n",
       "0  2.180105"
      ]
     },
     "execution_count": 311,
     "metadata": {},
     "output_type": "execute_result"
    }
   ],
   "source": [
    "a = model.TrainByBatchGradientDescent(epochs=100)\n",
    "\n",
    "\n",
    "plt.scatter(a[1],a[2])\n",
    "plt.ylabel('Cost')\n",
    "plt.xlabel('Epoch')\n",
    "plt.show()\n",
    "\n",
    "plt.scatter(a[1],a[3])\n",
    "plt.ylabel('Norm')\n",
    "plt.xlabel('Epoch')\n",
    "plt.show()\n",
    "\n",
    "\n",
    "\n",
    "model.Test()\n",
    "\n",
    "model.Predict(1.0,0.573599,0.572266,0.573182)"
   ]
  },
  {
   "cell_type": "code",
   "execution_count": null,
   "id": "f6ed4fc9",
   "metadata": {},
   "outputs": [],
   "source": []
  },
  {
   "cell_type": "code",
   "execution_count": null,
   "id": "43964cf6",
   "metadata": {},
   "outputs": [],
   "source": []
  }
 ],
 "metadata": {
  "kernelspec": {
   "display_name": "Python 3",
   "language": "python",
   "name": "python3"
  },
  "language_info": {
   "codemirror_mode": {
    "name": "ipython",
    "version": 3
   },
   "file_extension": ".py",
   "mimetype": "text/x-python",
   "name": "python",
   "nbconvert_exporter": "python",
   "pygments_lexer": "ipython3",
   "version": "3.8.8"
  }
 },
 "nbformat": 4,
 "nbformat_minor": 5
}
