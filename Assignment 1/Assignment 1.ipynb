{
 "cells": [
  {
   "cell_type": "code",
   "execution_count": 670,
   "id": "b1b106af",
   "metadata": {},
   "outputs": [],
   "source": [
    "#Initialisation Cell\n",
    "import math\n",
    "import numpy as np\n",
    "import pandas as pd\n",
    "#import pandas_ta as ta\n",
    "from numpy import linalg as LA\n",
    "import matplotlib.pyplot as plt\n",
    "from matplotlib import colors\n",
    "from matplotlib.ticker import PercentFormatter\n",
    "from sklearn.model_selection import train_test_split\n",
    "from sklearn import preprocessing"
   ]
  },
  {
   "cell_type": "code",
   "execution_count": 671,
   "id": "deb06e7e",
   "metadata": {},
   "outputs": [],
   "source": [
    "def hist(data,name,bins):\n",
    "    plt.hist(data,bins=bins)\n",
    "    plt.title(name)\n",
    "    plt.show()"
   ]
  },
  {
   "cell_type": "markdown",
   "id": "d38a1f42",
   "metadata": {},
   "source": [
    "<h2>Import Data</h2>"
   ]
  },
  {
   "cell_type": "code",
   "execution_count": 672,
   "id": "f8930884",
   "metadata": {},
   "outputs": [
    {
     "data": {
      "text/html": [
       "<div>\n",
       "<style scoped>\n",
       "    .dataframe tbody tr th:only-of-type {\n",
       "        vertical-align: middle;\n",
       "    }\n",
       "\n",
       "    .dataframe tbody tr th {\n",
       "        vertical-align: top;\n",
       "    }\n",
       "\n",
       "    .dataframe thead th {\n",
       "        text-align: right;\n",
       "    }\n",
       "</style>\n",
       "<table border=\"1\" class=\"dataframe\">\n",
       "  <thead>\n",
       "    <tr style=\"text-align: right;\">\n",
       "      <th></th>\n",
       "      <th>Local time</th>\n",
       "      <th>Open</th>\n",
       "      <th>High</th>\n",
       "      <th>Low</th>\n",
       "      <th>Close</th>\n",
       "      <th>Volume</th>\n",
       "    </tr>\n",
       "  </thead>\n",
       "  <tbody>\n",
       "    <tr>\n",
       "      <th>0</th>\n",
       "      <td>12.03.2019 00:00:00.000 GMT+0200</td>\n",
       "      <td>1.31887</td>\n",
       "      <td>1.31901</td>\n",
       "      <td>1.31865</td>\n",
       "      <td>1.31887</td>\n",
       "      <td>305.47</td>\n",
       "    </tr>\n",
       "    <tr>\n",
       "      <th>1</th>\n",
       "      <td>12.03.2019 00:01:00.000 GMT+0200</td>\n",
       "      <td>1.31889</td>\n",
       "      <td>1.31940</td>\n",
       "      <td>1.31881</td>\n",
       "      <td>1.31936</td>\n",
       "      <td>277.34</td>\n",
       "    </tr>\n",
       "    <tr>\n",
       "      <th>2</th>\n",
       "      <td>12.03.2019 00:02:00.000 GMT+0200</td>\n",
       "      <td>1.31939</td>\n",
       "      <td>1.32333</td>\n",
       "      <td>1.31934</td>\n",
       "      <td>1.32321</td>\n",
       "      <td>345.94</td>\n",
       "    </tr>\n",
       "    <tr>\n",
       "      <th>3</th>\n",
       "      <td>12.03.2019 00:03:00.000 GMT+0200</td>\n",
       "      <td>1.32321</td>\n",
       "      <td>1.32866</td>\n",
       "      <td>1.32310</td>\n",
       "      <td>1.32845</td>\n",
       "      <td>365.84</td>\n",
       "    </tr>\n",
       "    <tr>\n",
       "      <th>4</th>\n",
       "      <td>12.03.2019 00:04:00.000 GMT+0200</td>\n",
       "      <td>1.32845</td>\n",
       "      <td>1.32889</td>\n",
       "      <td>1.32511</td>\n",
       "      <td>1.32536</td>\n",
       "      <td>467.78</td>\n",
       "    </tr>\n",
       "    <tr>\n",
       "      <th>...</th>\n",
       "      <td>...</td>\n",
       "      <td>...</td>\n",
       "      <td>...</td>\n",
       "      <td>...</td>\n",
       "      <td>...</td>\n",
       "      <td>...</td>\n",
       "    </tr>\n",
       "    <tr>\n",
       "      <th>1128222</th>\n",
       "      <td>11.03.2022 23:55:00.000 GMT+0200</td>\n",
       "      <td>1.30368</td>\n",
       "      <td>1.30386</td>\n",
       "      <td>1.30364</td>\n",
       "      <td>1.30364</td>\n",
       "      <td>46.31</td>\n",
       "    </tr>\n",
       "    <tr>\n",
       "      <th>1128223</th>\n",
       "      <td>11.03.2022 23:56:00.000 GMT+0200</td>\n",
       "      <td>1.30363</td>\n",
       "      <td>1.30397</td>\n",
       "      <td>1.30359</td>\n",
       "      <td>1.30362</td>\n",
       "      <td>77.25</td>\n",
       "    </tr>\n",
       "    <tr>\n",
       "      <th>1128224</th>\n",
       "      <td>11.03.2022 23:57:00.000 GMT+0200</td>\n",
       "      <td>1.30363</td>\n",
       "      <td>1.30363</td>\n",
       "      <td>1.30361</td>\n",
       "      <td>1.30361</td>\n",
       "      <td>17.17</td>\n",
       "    </tr>\n",
       "    <tr>\n",
       "      <th>1128225</th>\n",
       "      <td>11.03.2022 23:58:00.000 GMT+0200</td>\n",
       "      <td>1.30361</td>\n",
       "      <td>1.30398</td>\n",
       "      <td>1.30361</td>\n",
       "      <td>1.30371</td>\n",
       "      <td>62.32</td>\n",
       "    </tr>\n",
       "    <tr>\n",
       "      <th>1128226</th>\n",
       "      <td>11.03.2022 23:59:00.000 GMT+0200</td>\n",
       "      <td>1.30369</td>\n",
       "      <td>1.30375</td>\n",
       "      <td>1.30343</td>\n",
       "      <td>1.30343</td>\n",
       "      <td>90.45</td>\n",
       "    </tr>\n",
       "  </tbody>\n",
       "</table>\n",
       "<p>1128227 rows × 6 columns</p>\n",
       "</div>"
      ],
      "text/plain": [
       "                               Local time     Open     High      Low    Close  \\\n",
       "0        12.03.2019 00:00:00.000 GMT+0200  1.31887  1.31901  1.31865  1.31887   \n",
       "1        12.03.2019 00:01:00.000 GMT+0200  1.31889  1.31940  1.31881  1.31936   \n",
       "2        12.03.2019 00:02:00.000 GMT+0200  1.31939  1.32333  1.31934  1.32321   \n",
       "3        12.03.2019 00:03:00.000 GMT+0200  1.32321  1.32866  1.32310  1.32845   \n",
       "4        12.03.2019 00:04:00.000 GMT+0200  1.32845  1.32889  1.32511  1.32536   \n",
       "...                                   ...      ...      ...      ...      ...   \n",
       "1128222  11.03.2022 23:55:00.000 GMT+0200  1.30368  1.30386  1.30364  1.30364   \n",
       "1128223  11.03.2022 23:56:00.000 GMT+0200  1.30363  1.30397  1.30359  1.30362   \n",
       "1128224  11.03.2022 23:57:00.000 GMT+0200  1.30363  1.30363  1.30361  1.30361   \n",
       "1128225  11.03.2022 23:58:00.000 GMT+0200  1.30361  1.30398  1.30361  1.30371   \n",
       "1128226  11.03.2022 23:59:00.000 GMT+0200  1.30369  1.30375  1.30343  1.30343   \n",
       "\n",
       "         Volume  \n",
       "0        305.47  \n",
       "1        277.34  \n",
       "2        345.94  \n",
       "3        365.84  \n",
       "4        467.78  \n",
       "...         ...  \n",
       "1128222   46.31  \n",
       "1128223   77.25  \n",
       "1128224   17.17  \n",
       "1128225   62.32  \n",
       "1128226   90.45  \n",
       "\n",
       "[1128227 rows x 6 columns]"
      ]
     },
     "execution_count": 672,
     "metadata": {},
     "output_type": "execute_result"
    }
   ],
   "source": [
    "df = pd.read_csv(\"GBPUSD_Candlestick_1_M_BID_12.03.2019-12.03.2022.csv\")\n",
    "\n",
    "df"
   ]
  },
  {
   "cell_type": "markdown",
   "id": "87081843",
   "metadata": {},
   "source": [
    "<h2>Clean the Data</h2>"
   ]
  },
  {
   "cell_type": "markdown",
   "id": "f2fe35d3",
   "metadata": {},
   "source": [
    "<h3>Get Statistical Summary of the data</h3>"
   ]
  },
  {
   "cell_type": "code",
   "execution_count": 673,
   "id": "666c6169",
   "metadata": {},
   "outputs": [
    {
     "name": "stdout",
     "output_type": "stream",
     "text": [
      "The data has the following shape:\n",
      "1128227 rows and 6 columns\n",
      "                         Local time     Open     High      Low    Close  \\\n",
      "0  12.03.2019 00:00:00.000 GMT+0200  1.31887  1.31901  1.31865  1.31887   \n",
      "1  12.03.2019 00:01:00.000 GMT+0200  1.31889  1.31940  1.31881  1.31936   \n",
      "2  12.03.2019 00:02:00.000 GMT+0200  1.31939  1.32333  1.31934  1.32321   \n",
      "3  12.03.2019 00:03:00.000 GMT+0200  1.32321  1.32866  1.32310  1.32845   \n",
      "4  12.03.2019 00:04:00.000 GMT+0200  1.32845  1.32889  1.32511  1.32536   \n",
      "\n",
      "   Volume  \n",
      "0  305.47  \n",
      "1  277.34  \n",
      "2  345.94  \n",
      "3  365.84  \n",
      "4  467.78  \n",
      "The statistical summary is given as:\n",
      "               Open          High           Low         Close        Volume\n",
      "count  1.128227e+06  1.128227e+06  1.128227e+06  1.128227e+06  1.128227e+06\n",
      "mean   1.315328e+00  1.315434e+00  1.315222e+00  1.315327e+00  1.187006e+02\n",
      "std    5.638901e-02  5.637545e-02  5.640176e-02  5.638898e-02  2.821358e+02\n",
      "min    1.141000e+00  1.141650e+00  1.140950e+00  1.141010e+00  0.000000e+00\n",
      "25%    1.272480e+00  1.272570e+00  1.272400e+00  1.272480e+00  3.000000e+01\n",
      "50%    1.312390e+00  1.312510e+00  1.312280e+00  1.312390e+00  7.070000e+01\n",
      "75%    1.364830e+00  1.364930e+00  1.364730e+00  1.364830e+00  1.499100e+02\n",
      "max    1.424630e+00  1.424910e+00  1.424420e+00  1.424610e+00  1.755867e+05\n",
      "Data set consist of the following data types\n"
     ]
    },
    {
     "data": {
      "text/plain": [
       "Local time     object\n",
       "Open          float64\n",
       "High          float64\n",
       "Low           float64\n",
       "Close         float64\n",
       "Volume        float64\n",
       "dtype: object"
      ]
     },
     "execution_count": 673,
     "metadata": {},
     "output_type": "execute_result"
    }
   ],
   "source": [
    "print(\"The data has the following shape:\\n%d rows and %d columns\" %(df.shape[0],df.shape[1]))\n",
    "print(df.head())\n",
    "print(\"The statistical summary is given as:\")\n",
    "print(df.describe())\n",
    "print(\"Data set consist of the following data types\")\n",
    "df.dtypes"
   ]
  },
  {
   "cell_type": "markdown",
   "id": "c5082f25",
   "metadata": {},
   "source": [
    "<h3>Remove Useless features</h3>"
   ]
  },
  {
   "cell_type": "code",
   "execution_count": 674,
   "id": "928ba9ab",
   "metadata": {},
   "outputs": [],
   "source": [
    "df = df.drop('Local time',axis=1)"
   ]
  },
  {
   "cell_type": "markdown",
   "id": "dd7093a1",
   "metadata": {},
   "source": [
    "<h3>Remove missing data if any</h3>"
   ]
  },
  {
   "cell_type": "code",
   "execution_count": 675,
   "id": "aa9985e9",
   "metadata": {},
   "outputs": [
    {
     "name": "stdout",
     "output_type": "stream",
     "text": [
      "There are 0 missing values and 0 inf values in the Open column: (array([], dtype=int64),) (array([], dtype=int64),)\n",
      "There are 0 missing values and 0 inf values in the High column: (array([], dtype=int64),) (array([], dtype=int64),)\n",
      "There are 0 missing values and 0 inf values in the Low column: (array([], dtype=int64),) (array([], dtype=int64),)\n",
      "There are 0 missing values and 0 inf values in the Close column: (array([], dtype=int64),) (array([], dtype=int64),)\n",
      "There are 0 missing values and 0 inf values in the Volume column: (array([], dtype=int64),) (array([], dtype=int64),)\n"
     ]
    }
   ],
   "source": [
    "missingValuesForOpen = np.where(df[\"Open\"].isnull() == True)\n",
    "infValuesForOpen = np.where(np.isinf(df[\"Open\"]) == True)\n",
    "print('There are',len(missingValuesForOpen[0]),'missing values and',len(infValuesForOpen[0]),'inf values in the Open column:',missingValuesForOpen,infValuesForOpen)\n",
    "\n",
    "\n",
    "missingValuesForHigh = np.where(df[\"High\"].isnull() == True)\n",
    "infValuesForHigh = np.where(np.isinf(df[\"High\"]) == True)\n",
    "print('There are',len(missingValuesForHigh[0]),'missing values and',len(infValuesForHigh[0]),'inf values in the High column:',missingValuesForHigh,infValuesForHigh)\n",
    "\n",
    "missingValuesForLow = np.where(df[\"Low\"].isnull() == True)\n",
    "infValuesForLow = np.where(np.isinf(df[\"Low\"]) == True)\n",
    "print('There are',len(missingValuesForLow[0]),'missing values and',len(infValuesForLow[0]),'inf values in the Low column:',missingValuesForLow,infValuesForLow)\n",
    "\n",
    "missingValuesForClose = np.where(df[\"Close\"].isnull() == True)\n",
    "infValuesForClose = np.where(np.isinf(df[\"Close\"]) == True)\n",
    "print('There are',len(missingValuesForClose[0]),'missing values and',len(infValuesForClose[0]),'inf values in the Close column:',missingValuesForClose,infValuesForClose)\n",
    "\n",
    "missingValuesForVolume = np.where(df[\"Volume\"].isnull() == True)\n",
    "infValuesForVolume = np.where(np.isinf(df[\"Volume\"]) == True)\n",
    "print('There are',len(missingValuesForVolume[0]),'missing values and',len(infValuesForVolume[0]),'inf values in the Volume column:',missingValuesForVolume,infValuesForVolume)"
   ]
  },
  {
   "cell_type": "markdown",
   "id": "4e84f127",
   "metadata": {},
   "source": [
    "<h3>Feature Scaling</h3>"
   ]
  },
  {
   "cell_type": "code",
   "execution_count": 676,
   "id": "1bb65fb6",
   "metadata": {},
   "outputs": [
    {
     "data": {
      "text/plain": [
       "array([[6.27119839e-01, 6.26138530e-01, 6.26874096e-01, 1.73971032e-03],\n",
       "       [6.27190354e-01, 6.27515357e-01, 6.27438530e-01, 1.57950457e-03],\n",
       "       [6.28953214e-01, 6.41389536e-01, 6.29308216e-01, 1.97019475e-03],\n",
       "       ...,\n",
       "       [5.73387864e-01, 5.71842124e-01, 5.73817335e-01, 9.77864479e-05],\n",
       "       [5.73317350e-01, 5.73077738e-01, 5.73817335e-01, 3.54924370e-04],\n",
       "       [5.73599408e-01, 5.72265763e-01, 5.73182347e-01, 5.15130123e-04]])"
      ]
     },
     "execution_count": 676,
     "metadata": {},
     "output_type": "execute_result"
    }
   ],
   "source": [
    "sx = preprocessing.MinMaxScaler()\n",
    "scaled_X = sx.fit_transform(df.drop('Close',axis=1))[:,:]\n",
    "scaled_X"
   ]
  },
  {
   "cell_type": "code",
   "execution_count": 677,
   "id": "e6d41723",
   "metadata": {},
   "outputs": [
    {
     "data": {
      "text/plain": [
       "1128227"
      ]
     },
     "execution_count": 677,
     "metadata": {},
     "output_type": "execute_result"
    }
   ],
   "source": [
    "sy = preprocessing.MinMaxScaler()\n",
    "scaled_Y = sy.fit_transform(df['Close'].values.reshape(df.shape[0],1))\n",
    "df['Close'] = scaled_Y\n",
    "len(scaled_Y)"
   ]
  },
  {
   "cell_type": "markdown",
   "id": "49373e89",
   "metadata": {},
   "source": [
    "<h3>Assess Distribution</h3>"
   ]
  },
  {
   "cell_type": "code",
   "execution_count": 678,
   "id": "8c6aea3e",
   "metadata": {},
   "outputs": [
    {
     "data": {
      "text/plain": [
       "array([[<AxesSubplot:title={'center':'Open'}>]], dtype=object)"
      ]
     },
     "execution_count": 678,
     "metadata": {},
     "output_type": "execute_result"
    },
    {
     "data": {
      "image/png": "[encoded data removed]",
      "text/plain": [
       "<Figure size 648x432 with 1 Axes>"
      ]
     },
     "metadata": {
      "needs_background": "light"
     },
     "output_type": "display_data"
    }
   ],
   "source": [
    "bins = round(math.sqrt(df.shape[0]))\n",
    "#Plot Distribution of Open price\n",
    "df.hist(column=\"Open\", figsize=(9,6),bins=bins)"
   ]
  },
  {
   "cell_type": "code",
   "execution_count": 679,
   "id": "ab23f7f6",
   "metadata": {},
   "outputs": [
    {
     "data": {
      "text/plain": [
       "array([[<AxesSubplot:title={'center':'High'}>]], dtype=object)"
      ]
     },
     "execution_count": 679,
     "metadata": {},
     "output_type": "execute_result"
    },
    {
     "data": {
      "image/png": "[encoded data removed]",
      "text/plain": [
       "<Figure size 648x432 with 1 Axes>"
      ]
     },
     "metadata": {
      "needs_background": "light"
     },
     "output_type": "display_data"
    }
   ],
   "source": [
    "#Plot Distribution of High price\n",
    "df.hist(column=\"High\", figsize=(9,6),bins=bins)"
   ]
  },
  {
   "cell_type": "code",
   "execution_count": 680,
   "id": "919c026e",
   "metadata": {},
   "outputs": [
    {
     "data": {
      "text/plain": [
       "array([[<AxesSubplot:title={'center':'Close'}>]], dtype=object)"
      ]
     },
     "execution_count": 680,
     "metadata": {},
     "output_type": "execute_result"
    },
    {
     "data": {
      "image/png": "[encoded data removed]",
      "text/plain": [
       "<Figure size 648x432 with 1 Axes>"
      ]
     },
     "metadata": {
      "needs_background": "light"
     },
     "output_type": "display_data"
    }
   ],
   "source": [
    "#Plot Distribution of Close price\n",
    "df.hist(column=\"Close\", figsize=(9,6),bins=bins)"
   ]
  },
  {
   "cell_type": "code",
   "execution_count": 681,
   "id": "d5ecbf6a",
   "metadata": {},
   "outputs": [
    {
     "data": {
      "text/plain": [
       "array([[<AxesSubplot:title={'center':'Low'}>]], dtype=object)"
      ]
     },
     "execution_count": 681,
     "metadata": {},
     "output_type": "execute_result"
    },
    {
     "data": {
      "image/png": "[encoded data removed]",
      "text/plain": [
       "<Figure size 648x432 with 1 Axes>"
      ]
     },
     "metadata": {
      "needs_background": "light"
     },
     "output_type": "display_data"
    }
   ],
   "source": [
    "#Plot Distribution of Low price\n",
    "df.hist(column=\"Low\", figsize=(9,6),bins=bins)"
   ]
  },
  {
   "cell_type": "code",
   "execution_count": 682,
   "id": "59f9376c",
   "metadata": {},
   "outputs": [
    {
     "data": {
      "text/plain": [
       "array([[<AxesSubplot:title={'center':'Volume'}>]], dtype=object)"
      ]
     },
     "execution_count": 682,
     "metadata": {},
     "output_type": "execute_result"
    },
    {
     "data": {
      "image/png": "[encoded data removed]",
      "text/plain": [
       "<Figure size 648x432 with 1 Axes>"
      ]
     },
     "metadata": {
      "needs_background": "light"
     },
     "output_type": "display_data"
    }
   ],
   "source": [
    "#Plot Distribution of Low price\n",
    "df.hist(column=\"Volume\", figsize=(9,6),bins=bins)"
   ]
  },
  {
   "cell_type": "markdown",
   "id": "0214d8d6",
   "metadata": {},
   "source": [
    "<h3>Box Plots</h3>"
   ]
  },
  {
   "cell_type": "code",
   "execution_count": 683,
   "id": "805b6b5a",
   "metadata": {},
   "outputs": [
    {
     "data": {
      "text/plain": [
       "<AxesSubplot:>"
      ]
     },
     "execution_count": 683,
     "metadata": {},
     "output_type": "execute_result"
    },
    {
     "data": {
      "image/png": "[encoded data removed]",
      "text/plain": [
       "<Figure size 648x432 with 1 Axes>"
      ]
     },
     "metadata": {
      "needs_background": "light"
     },
     "output_type": "display_data"
    }
   ],
   "source": [
    "df['High'].plot(kind='box',figsize=(9,6),logy=True)"
   ]
  },
  {
   "cell_type": "code",
   "execution_count": 684,
   "id": "410ebf6e",
   "metadata": {},
   "outputs": [
    {
     "data": {
      "text/plain": [
       "<AxesSubplot:>"
      ]
     },
     "execution_count": 684,
     "metadata": {},
     "output_type": "execute_result"
    },
    {
     "data": {
      "image/png": "[encoded data removed]",
      "text/plain": [
       "<Figure size 648x432 with 1 Axes>"
      ]
     },
     "metadata": {
      "needs_background": "light"
     },
     "output_type": "display_data"
    }
   ],
   "source": [
    "df['Low'].plot(kind='box',figsize=(9,6),logy=True)"
   ]
  },
  {
   "cell_type": "code",
   "execution_count": 685,
   "id": "da46d749",
   "metadata": {},
   "outputs": [
    {
     "data": {
      "text/plain": [
       "<AxesSubplot:>"
      ]
     },
     "execution_count": 685,
     "metadata": {},
     "output_type": "execute_result"
    },
    {
     "data": {
      "image/png": "[encoded data removed]",
      "text/plain": [
       "<Figure size 648x432 with 1 Axes>"
      ]
     },
     "metadata": {
      "needs_background": "light"
     },
     "output_type": "display_data"
    }
   ],
   "source": [
    "df['Close'].plot(kind='box',figsize=(9,6),logy=True)"
   ]
  },
  {
   "cell_type": "code",
   "execution_count": 686,
   "id": "f927b641",
   "metadata": {},
   "outputs": [
    {
     "data": {
      "text/plain": [
       "<AxesSubplot:>"
      ]
     },
     "execution_count": 686,
     "metadata": {},
     "output_type": "execute_result"
    },
    {
     "data": {
      "image/png": "[encoded data removed]",
      "text/plain": [
       "<Figure size 648x432 with 1 Axes>"
      ]
     },
     "metadata": {
      "needs_background": "light"
     },
     "output_type": "display_data"
    }
   ],
   "source": [
    "df['Volume'].plot(kind='box',figsize=(9,6),logy=True)"
   ]
  },
  {
   "cell_type": "markdown",
   "id": "8e40643d",
   "metadata": {},
   "source": [
    "<h3>Scatter Plots</h3>"
   ]
  },
  {
   "cell_type": "code",
   "execution_count": 687,
   "id": "11dee8d4",
   "metadata": {},
   "outputs": [
    {
     "data": {
      "text/plain": [
       "<AxesSubplot:xlabel='Open', ylabel='Close'>"
      ]
     },
     "execution_count": 687,
     "metadata": {},
     "output_type": "execute_result"
    },
    {
     "data": {
      "image/png": "[encoded data removed]",
      "text/plain": [
       "<Figure size 432x288 with 1 Axes>"
      ]
     },
     "metadata": {
      "needs_background": "light"
     },
     "output_type": "display_data"
    }
   ],
   "source": [
    "df.plot.scatter(x='Open',y='Close')"
   ]
  },
  {
   "cell_type": "code",
   "execution_count": 688,
   "id": "95c6b924",
   "metadata": {},
   "outputs": [
    {
     "data": {
      "text/plain": [
       "<AxesSubplot:xlabel='High', ylabel='Close'>"
      ]
     },
     "execution_count": 688,
     "metadata": {},
     "output_type": "execute_result"
    },
    {
     "data": {
      "image/png": "[encoded data removed]",
      "text/plain": [
       "<Figure size 432x288 with 1 Axes>"
      ]
     },
     "metadata": {
      "needs_background": "light"
     },
     "output_type": "display_data"
    }
   ],
   "source": [
    "df.plot.scatter(x='High',y='Close')"
   ]
  },
  {
   "cell_type": "code",
   "execution_count": 689,
   "id": "7f7e60f3",
   "metadata": {},
   "outputs": [
    {
     "data": {
      "text/plain": [
       "<AxesSubplot:xlabel='Low', ylabel='Close'>"
      ]
     },
     "execution_count": 689,
     "metadata": {},
     "output_type": "execute_result"
    },
    {
     "data": {
      "image/png": "[encoded data removed]",
      "text/plain": [
       "<Figure size 432x288 with 1 Axes>"
      ]
     },
     "metadata": {
      "needs_background": "light"
     },
     "output_type": "display_data"
    }
   ],
   "source": [
    "df.plot.scatter(x='Low',y='Close')"
   ]
  },
  {
   "cell_type": "code",
   "execution_count": 690,
   "id": "a6600a46",
   "metadata": {},
   "outputs": [
    {
     "data": {
      "text/plain": [
       "<AxesSubplot:xlabel='Volume', ylabel='Close'>"
      ]
     },
     "execution_count": 690,
     "metadata": {},
     "output_type": "execute_result"
    },
    {
     "data": {
      "image/png": "[encoded data removed]",
      "text/plain": [
       "<Figure size 432x288 with 1 Axes>"
      ]
     },
     "metadata": {
      "needs_background": "light"
     },
     "output_type": "display_data"
    }
   ],
   "source": [
    "df.plot.scatter(x='Volume',y='Close')"
   ]
  },
  {
   "cell_type": "markdown",
   "id": "569813ff",
   "metadata": {},
   "source": [
    "<h3>Conclusion</h3>\n",
    "<p>From the above diagram we can see that Open price, High Price and Low Price are suitable features to use when training the model.However, the Volume feature is not suitable because the feature has an irregular distribution, many outliers and has a bad correlation to the Closing Price. Thus we will not use the Volume feature to train the model<p>"
   ]
  },
  {
   "cell_type": "code",
   "execution_count": 691,
   "id": "2b872c4d",
   "metadata": {},
   "outputs": [
    {
     "data": {
      "text/plain": [
       "array([[0.62711984, 0.62613853, 0.6268741 ],\n",
       "       [0.62719035, 0.62751536, 0.62743853],\n",
       "       [0.62895321, 0.64138954, 0.62930822],\n",
       "       ...,\n",
       "       [0.57338786, 0.57184212, 0.57381734],\n",
       "       [0.57331735, 0.57307774, 0.57381734],\n",
       "       [0.57359941, 0.57226576, 0.57318235]])"
      ]
     },
     "execution_count": 691,
     "metadata": {},
     "output_type": "execute_result"
    }
   ],
   "source": [
    "df = df.drop('Volume',axis=1)\n",
    "#add the bias column to the dataset\n",
    "df.insert(loc=0,column='Bias',value=np.ones((df.shape[0],1)))\n",
    "\n",
    "scaled_X = scaled_X[:,:3]\n",
    "scaled_X"
   ]
  },
  {
   "cell_type": "code",
   "execution_count": 692,
   "id": "2faae69a",
   "metadata": {},
   "outputs": [],
   "source": [
    "class LinearRegression:\n",
    "    def __init__(self,feature_samples,labels):\n",
    "        self.X = feature_samples\n",
    "        self.Y = labels\n",
    "        self.X_train, self.X_test, self.Y_train, self.Y_test = train_test_split(self.X,self.Y,test_size=0.2)\n",
    "        self.parameters = np.ones((self.X.shape[1],1))\n",
    "        \n",
    "    def Train(self,epochs=None,epsilon=0.2,learning_rate=0.1):\n",
    "        parameters = self.parameters\n",
    "        \n",
    "        \n",
    "        if epochs != None:\n",
    "            for epoch in range(epochs):\n",
    "                ALR = (learning_rate/len(self.Y_train))              #ALR - Average Learning Rate\n",
    "                h = np.matmul(self.X_train,self.parameters)          #h - hypothesis function\n",
    "                error = h-self.Y_train\n",
    "                correction = np.matmul(self.X_train.T,error)\n",
    "                parameters = parameters - (ALR*correction)\n",
    "            self.parameters = parameters\n",
    "            print(\"After\",epochs,\"epochs, we have the following parameters:\\n\",self.parameters)\n",
    "            \n",
    "        else:\n",
    "            print(\"In else\")\n",
    "            parameters_cur = self.parameters\n",
    "            parameters_prev = np.zeros((self.X.shape[1],1))\n",
    "            print()\n",
    "            while(LA.norm(parameters_cur - parameters_prev) >= epsilon):\n",
    "                ALR = (learning_rate/len(self.Y_train))              #ALR - Average Learning Rate\n",
    "                h = np.matmul(self.X_train,self.parameters)          #h - hypothesis function\n",
    "                error = h-self.Y_train\n",
    "                correction = np.matmul(self.X_train.T,error)\n",
    "                parameters_prev = parameters_cur\n",
    "                parameters_cur = parameters_cur - (ALR*correction)\n",
    "                print(parameters_cur.T)\n",
    "                print(\"Current Norm = \",LA.norm(parameters_cur - parameters_prev))\n",
    "                #print(\"Previous Norm = \",norm_prev)\n",
    "            self.parameters = parameters_cur\n",
    "            print(\"After convergence with epsilon =\",epsilon,\"we get the following parameters:\\n\",self.parameters)\n",
    "                \n",
    "                \n",
    "    def Test(self):\n",
    "        return\n",
    "    \n",
    "    \n",
    "    def Predict(self):\n",
    "        return"
   ]
  },
  {
   "cell_type": "code",
   "execution_count": 693,
   "id": "99548b4a",
   "metadata": {},
   "outputs": [
    {
     "name": "stdout",
     "output_type": "stream",
     "text": [
      "In else\n",
      "\n",
      "[[0.91658889 0.91671763 0.91656414]]\n",
      "Current Norm =  0.14441228382831867\n",
      "After convergence with epsilon = 0.2 we get the following parameters:\n",
      " [[0.91658889]\n",
      " [0.91671763]\n",
      " [0.91656414]]\n"
     ]
    }
   ],
   "source": [
    "model = LinearRegression(scaled_X,scaled_Y)\n",
    "model.Train(epochs=None)"
   ]
  },
  {
   "cell_type": "code",
   "execution_count": 694,
   "id": "fe72be6d",
   "metadata": {},
   "outputs": [
    {
     "ename": "NameError",
     "evalue": "name 'data' is not defined",
     "output_type": "error",
     "traceback": [
      "\u001b[0;31m---------------------------------------------------------------------------\u001b[0m",
      "\u001b[0;31mNameError\u001b[0m                                 Traceback (most recent call last)",
      "\u001b[0;32m<ipython-input-694-19ab3946c633>\u001b[0m in \u001b[0;36m<module>\u001b[0;34m\u001b[0m\n\u001b[0;32m----> 1\u001b[0;31m \u001b[0mdata\u001b[0m\u001b[0;34m[\u001b[0m\u001b[0;34m'price'\u001b[0m\u001b[0;34m]\u001b[0m \u001b[0;34m=\u001b[0m \u001b[0;34m(\u001b[0m\u001b[0mdata\u001b[0m\u001b[0;34m[\u001b[0m\u001b[0;34m'price'\u001b[0m\u001b[0;34m]\u001b[0m\u001b[0;34m-\u001b[0m\u001b[0mdata\u001b[0m\u001b[0;34m[\u001b[0m\u001b[0;34m'prize'\u001b[0m\u001b[0;34m]\u001b[0m\u001b[0;34m.\u001b[0m\u001b[0mmean\u001b[0m\u001b[0;34m(\u001b[0m\u001b[0;34m)\u001b[0m\u001b[0;34m)\u001b[0m\u001b[0;34m/\u001b[0m\u001b[0mdata\u001b[0m\u001b[0;34m[\u001b[0m\u001b[0;34m'prise'\u001b[0m\u001b[0;34m]\u001b[0m\u001b[0;34m.\u001b[0m\u001b[0mstd\u001b[0m\u001b[0;34m(\u001b[0m\u001b[0;34m)\u001b[0m\u001b[0;34m\u001b[0m\u001b[0;34m\u001b[0m\u001b[0m\n\u001b[0m",
      "\u001b[0;31mNameError\u001b[0m: name 'data' is not defined"
     ]
    }
   ],
   "source": []
  }
 ],
 "metadata": {
  "kernelspec": {
   "display_name": "Python 3",
   "language": "python",
   "name": "python3"
  },
  "language_info": {
   "codemirror_mode": {
    "name": "ipython",
    "version": 3
   },
   "file_extension": ".py",
   "mimetype": "text/x-python",
   "name": "python",
   "nbconvert_exporter": "python",
   "pygments_lexer": "ipython3",
   "version": "3.8.8"
  }
 },
 "nbformat": 4,
 "nbformat_minor": 5
}
