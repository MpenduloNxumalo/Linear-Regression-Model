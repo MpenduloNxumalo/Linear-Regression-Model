{
 "cells": [
  {
   "cell_type": "code",
   "execution_count": 93,
   "id": "b1b106af",
   "metadata": {},
   "outputs": [],
   "source": [
    "#Initialisation Cell\n",
    "import math\n",
    "import numpy as np\n",
    "import pandas as pd\n",
    "#import pandas_ta as ta\n",
    "from numpy import linalg as LA\n",
    "import matplotlib.pyplot as plt\n",
    "from matplotlib import colors\n",
    "from matplotlib.ticker import PercentFormatter\n",
    "from sklearn.model_selection import train_test_split\n",
    "from sklearn import preprocessing"
   ]
  },
  {
   "cell_type": "code",
   "execution_count": 94,
   "id": "deb06e7e",
   "metadata": {},
   "outputs": [],
   "source": [
    "def hist(data,name,bins):\n",
    "    plt.hist(data,bins=bins)\n",
    "    plt.title(name)\n",
    "    plt.show()"
   ]
  },
  {
   "cell_type": "markdown",
   "id": "d38a1f42",
   "metadata": {},
   "source": [
    "<h2>Import Data</h2>"
   ]
  },
  {
   "cell_type": "code",
   "execution_count": 95,
   "id": "f8930884",
   "metadata": {},
   "outputs": [
    {
     "data": {
      "text/html": [
       "<div>\n",
       "<style scoped>\n",
       "    .dataframe tbody tr th:only-of-type {\n",
       "        vertical-align: middle;\n",
       "    }\n",
       "\n",
       "    .dataframe tbody tr th {\n",
       "        vertical-align: top;\n",
       "    }\n",
       "\n",
       "    .dataframe thead th {\n",
       "        text-align: right;\n",
       "    }\n",
       "</style>\n",
       "<table border=\"1\" class=\"dataframe\">\n",
       "  <thead>\n",
       "    <tr style=\"text-align: right;\">\n",
       "      <th></th>\n",
       "      <th>Local time</th>\n",
       "      <th>Open</th>\n",
       "      <th>High</th>\n",
       "      <th>Low</th>\n",
       "      <th>Close</th>\n",
       "      <th>Volume</th>\n",
       "    </tr>\n",
       "  </thead>\n",
       "  <tbody>\n",
       "    <tr>\n",
       "      <th>0</th>\n",
       "      <td>12.03.2019 00:00:00.000 GMT+0200</td>\n",
       "      <td>1.31887</td>\n",
       "      <td>1.31901</td>\n",
       "      <td>1.31865</td>\n",
       "      <td>1.31887</td>\n",
       "      <td>305.47</td>\n",
       "    </tr>\n",
       "    <tr>\n",
       "      <th>1</th>\n",
       "      <td>12.03.2019 00:01:00.000 GMT+0200</td>\n",
       "      <td>1.31889</td>\n",
       "      <td>1.31940</td>\n",
       "      <td>1.31881</td>\n",
       "      <td>1.31936</td>\n",
       "      <td>277.34</td>\n",
       "    </tr>\n",
       "    <tr>\n",
       "      <th>2</th>\n",
       "      <td>12.03.2019 00:02:00.000 GMT+0200</td>\n",
       "      <td>1.31939</td>\n",
       "      <td>1.32333</td>\n",
       "      <td>1.31934</td>\n",
       "      <td>1.32321</td>\n",
       "      <td>345.94</td>\n",
       "    </tr>\n",
       "    <tr>\n",
       "      <th>3</th>\n",
       "      <td>12.03.2019 00:03:00.000 GMT+0200</td>\n",
       "      <td>1.32321</td>\n",
       "      <td>1.32866</td>\n",
       "      <td>1.32310</td>\n",
       "      <td>1.32845</td>\n",
       "      <td>365.84</td>\n",
       "    </tr>\n",
       "    <tr>\n",
       "      <th>4</th>\n",
       "      <td>12.03.2019 00:04:00.000 GMT+0200</td>\n",
       "      <td>1.32845</td>\n",
       "      <td>1.32889</td>\n",
       "      <td>1.32511</td>\n",
       "      <td>1.32536</td>\n",
       "      <td>467.78</td>\n",
       "    </tr>\n",
       "    <tr>\n",
       "      <th>...</th>\n",
       "      <td>...</td>\n",
       "      <td>...</td>\n",
       "      <td>...</td>\n",
       "      <td>...</td>\n",
       "      <td>...</td>\n",
       "      <td>...</td>\n",
       "    </tr>\n",
       "    <tr>\n",
       "      <th>1128222</th>\n",
       "      <td>11.03.2022 23:55:00.000 GMT+0200</td>\n",
       "      <td>1.30368</td>\n",
       "      <td>1.30386</td>\n",
       "      <td>1.30364</td>\n",
       "      <td>1.30364</td>\n",
       "      <td>46.31</td>\n",
       "    </tr>\n",
       "    <tr>\n",
       "      <th>1128223</th>\n",
       "      <td>11.03.2022 23:56:00.000 GMT+0200</td>\n",
       "      <td>1.30363</td>\n",
       "      <td>1.30397</td>\n",
       "      <td>1.30359</td>\n",
       "      <td>1.30362</td>\n",
       "      <td>77.25</td>\n",
       "    </tr>\n",
       "    <tr>\n",
       "      <th>1128224</th>\n",
       "      <td>11.03.2022 23:57:00.000 GMT+0200</td>\n",
       "      <td>1.30363</td>\n",
       "      <td>1.30363</td>\n",
       "      <td>1.30361</td>\n",
       "      <td>1.30361</td>\n",
       "      <td>17.17</td>\n",
       "    </tr>\n",
       "    <tr>\n",
       "      <th>1128225</th>\n",
       "      <td>11.03.2022 23:58:00.000 GMT+0200</td>\n",
       "      <td>1.30361</td>\n",
       "      <td>1.30398</td>\n",
       "      <td>1.30361</td>\n",
       "      <td>1.30371</td>\n",
       "      <td>62.32</td>\n",
       "    </tr>\n",
       "    <tr>\n",
       "      <th>1128226</th>\n",
       "      <td>11.03.2022 23:59:00.000 GMT+0200</td>\n",
       "      <td>1.30369</td>\n",
       "      <td>1.30375</td>\n",
       "      <td>1.30343</td>\n",
       "      <td>1.30343</td>\n",
       "      <td>90.45</td>\n",
       "    </tr>\n",
       "  </tbody>\n",
       "</table>\n",
       "<p>1128227 rows × 6 columns</p>\n",
       "</div>"
      ],
      "text/plain": [
       "                               Local time     Open     High      Low    Close  \\\n",
       "0        12.03.2019 00:00:00.000 GMT+0200  1.31887  1.31901  1.31865  1.31887   \n",
       "1        12.03.2019 00:01:00.000 GMT+0200  1.31889  1.31940  1.31881  1.31936   \n",
       "2        12.03.2019 00:02:00.000 GMT+0200  1.31939  1.32333  1.31934  1.32321   \n",
       "3        12.03.2019 00:03:00.000 GMT+0200  1.32321  1.32866  1.32310  1.32845   \n",
       "4        12.03.2019 00:04:00.000 GMT+0200  1.32845  1.32889  1.32511  1.32536   \n",
       "...                                   ...      ...      ...      ...      ...   \n",
       "1128222  11.03.2022 23:55:00.000 GMT+0200  1.30368  1.30386  1.30364  1.30364   \n",
       "1128223  11.03.2022 23:56:00.000 GMT+0200  1.30363  1.30397  1.30359  1.30362   \n",
       "1128224  11.03.2022 23:57:00.000 GMT+0200  1.30363  1.30363  1.30361  1.30361   \n",
       "1128225  11.03.2022 23:58:00.000 GMT+0200  1.30361  1.30398  1.30361  1.30371   \n",
       "1128226  11.03.2022 23:59:00.000 GMT+0200  1.30369  1.30375  1.30343  1.30343   \n",
       "\n",
       "         Volume  \n",
       "0        305.47  \n",
       "1        277.34  \n",
       "2        345.94  \n",
       "3        365.84  \n",
       "4        467.78  \n",
       "...         ...  \n",
       "1128222   46.31  \n",
       "1128223   77.25  \n",
       "1128224   17.17  \n",
       "1128225   62.32  \n",
       "1128226   90.45  \n",
       "\n",
       "[1128227 rows x 6 columns]"
      ]
     },
     "execution_count": 95,
     "metadata": {},
     "output_type": "execute_result"
    }
   ],
   "source": [
    "df = pd.read_csv(\"GBPUSD_Candlestick_1_M_BID_12.03.2019-12.03.2022.csv\")\n",
    "\n",
    "df"
   ]
  },
  {
   "cell_type": "markdown",
   "id": "87081843",
   "metadata": {},
   "source": [
    "<h2>Clean the Data</h2>"
   ]
  },
  {
   "cell_type": "markdown",
   "id": "f2fe35d3",
   "metadata": {},
   "source": [
    "<h3>Get Statistical Summary of the data</h3>"
   ]
  },
  {
   "cell_type": "code",
   "execution_count": 96,
   "id": "666c6169",
   "metadata": {},
   "outputs": [
    {
     "name": "stdout",
     "output_type": "stream",
     "text": [
      "The data has the following shape:\n",
      "1128227 rows and 6 columns\n",
      "                         Local time     Open     High      Low    Close  \\\n",
      "0  12.03.2019 00:00:00.000 GMT+0200  1.31887  1.31901  1.31865  1.31887   \n",
      "1  12.03.2019 00:01:00.000 GMT+0200  1.31889  1.31940  1.31881  1.31936   \n",
      "2  12.03.2019 00:02:00.000 GMT+0200  1.31939  1.32333  1.31934  1.32321   \n",
      "3  12.03.2019 00:03:00.000 GMT+0200  1.32321  1.32866  1.32310  1.32845   \n",
      "4  12.03.2019 00:04:00.000 GMT+0200  1.32845  1.32889  1.32511  1.32536   \n",
      "\n",
      "   Volume  \n",
      "0  305.47  \n",
      "1  277.34  \n",
      "2  345.94  \n",
      "3  365.84  \n",
      "4  467.78  \n",
      "The statistical summary is given as:\n",
      "               Open          High           Low         Close        Volume\n",
      "count  1.128227e+06  1.128227e+06  1.128227e+06  1.128227e+06  1.128227e+06\n",
      "mean   1.315328e+00  1.315434e+00  1.315222e+00  1.315327e+00  1.187006e+02\n",
      "std    5.638901e-02  5.637545e-02  5.640176e-02  5.638898e-02  2.821358e+02\n",
      "min    1.141000e+00  1.141650e+00  1.140950e+00  1.141010e+00  0.000000e+00\n",
      "25%    1.272480e+00  1.272570e+00  1.272400e+00  1.272480e+00  3.000000e+01\n",
      "50%    1.312390e+00  1.312510e+00  1.312280e+00  1.312390e+00  7.070000e+01\n",
      "75%    1.364830e+00  1.364930e+00  1.364730e+00  1.364830e+00  1.499100e+02\n",
      "max    1.424630e+00  1.424910e+00  1.424420e+00  1.424610e+00  1.755867e+05\n",
      "Data set consist of the following data types\n"
     ]
    },
    {
     "data": {
      "text/plain": [
       "Local time     object\n",
       "Open          float64\n",
       "High          float64\n",
       "Low           float64\n",
       "Close         float64\n",
       "Volume        float64\n",
       "dtype: object"
      ]
     },
     "execution_count": 96,
     "metadata": {},
     "output_type": "execute_result"
    }
   ],
   "source": [
    "print(\"The data has the following shape:\\n%d rows and %d columns\" %(df.shape[0],df.shape[1]))\n",
    "print(df.head())\n",
    "print(\"The statistical summary is given as:\")\n",
    "print(df.describe())\n",
    "print(\"Data set consist of the following data types\")\n",
    "df.dtypes"
   ]
  },
  {
   "cell_type": "markdown",
   "id": "c5082f25",
   "metadata": {},
   "source": [
    "<h3>Remove Useless features</h3>"
   ]
  },
  {
   "cell_type": "code",
   "execution_count": 97,
   "id": "928ba9ab",
   "metadata": {},
   "outputs": [],
   "source": [
    "df = df.drop('Local time',axis=1)"
   ]
  },
  {
   "cell_type": "markdown",
   "id": "dd7093a1",
   "metadata": {},
   "source": [
    "<h3>Remove missing data if any</h3>"
   ]
  },
  {
   "cell_type": "code",
   "execution_count": 98,
   "id": "aa9985e9",
   "metadata": {},
   "outputs": [
    {
     "name": "stdout",
     "output_type": "stream",
     "text": [
      "(array([], dtype=int64),)\n",
      "(array([], dtype=int64),)\n",
      "(array([], dtype=int64),)\n",
      "(array([], dtype=int64),)\n",
      "(array([], dtype=int64),)\n"
     ]
    }
   ],
   "source": [
    "missingValuesForOpen = np.where(df[\"Open\"].isnull() == True)\n",
    "print(missingValuesForOpen)\n",
    "\n",
    "missingValuesForHigh = np.where(df[\"High\"].isnull() == True)\n",
    "print(missingValuesForHigh)\n",
    "\n",
    "missingValuesForLow = np.where(df[\"Low\"].isnull() == True)\n",
    "print(missingValuesForLow)\n",
    "\n",
    "missingValuesForClose = np.where(df[\"Close\"].isnull() == True)\n",
    "print(missingValuesForClose)\n",
    "\n",
    "missingValuesForVolume = np.where(df[\"Volume\"].isnull() == True)\n",
    "print(missingValuesForVolume)"
   ]
  },
  {
   "cell_type": "code",
   "execution_count": 99,
   "id": "f20b0d08",
   "metadata": {},
   "outputs": [],
   "source": [
    "#df.insert(loc=0,column='bias',value=np.ones((df.shape[0],1)))\n",
    "#df"
   ]
  },
  {
   "cell_type": "code",
   "execution_count": null,
   "id": "422a5e10",
   "metadata": {},
   "outputs": [],
   "source": []
  },
  {
   "cell_type": "markdown",
   "id": "4e84f127",
   "metadata": {},
   "source": [
    "<h3>Feature Scaling</h3>"
   ]
  },
  {
   "cell_type": "code",
   "execution_count": 100,
   "id": "1bb65fb6",
   "metadata": {},
   "outputs": [
    {
     "name": "stdout",
     "output_type": "stream",
     "text": [
      "[[6.27119839e-01 6.26138530e-01 6.26874096e-01 1.73971032e-03]\n",
      " [6.27190354e-01 6.27515357e-01 6.27438530e-01 1.57950457e-03]\n",
      " [6.28953214e-01 6.41389536e-01 6.29308216e-01 1.97019475e-03]\n",
      " ...\n",
      " [5.73387864e-01 5.71842124e-01 5.73817335e-01 9.77864479e-05]\n",
      " [5.73317350e-01 5.73077738e-01 5.73817335e-01 3.54924370e-04]\n",
      " [5.73599408e-01 5.72265763e-01 5.73182347e-01 5.15130123e-04]]\n"
     ]
    },
    {
     "data": {
      "text/html": [
       "<div>\n",
       "<style scoped>\n",
       "    .dataframe tbody tr th:only-of-type {\n",
       "        vertical-align: middle;\n",
       "    }\n",
       "\n",
       "    .dataframe tbody tr th {\n",
       "        vertical-align: top;\n",
       "    }\n",
       "\n",
       "    .dataframe thead th {\n",
       "        text-align: right;\n",
       "    }\n",
       "</style>\n",
       "<table border=\"1\" class=\"dataframe\">\n",
       "  <thead>\n",
       "    <tr style=\"text-align: right;\">\n",
       "      <th></th>\n",
       "      <th>Open</th>\n",
       "      <th>High</th>\n",
       "      <th>Low</th>\n",
       "      <th>Volume</th>\n",
       "    </tr>\n",
       "  </thead>\n",
       "  <tbody>\n",
       "    <tr>\n",
       "      <th>0</th>\n",
       "      <td>0.627120</td>\n",
       "      <td>0.626139</td>\n",
       "      <td>0.626874</td>\n",
       "      <td>0.001740</td>\n",
       "    </tr>\n",
       "    <tr>\n",
       "      <th>1</th>\n",
       "      <td>0.627190</td>\n",
       "      <td>0.627515</td>\n",
       "      <td>0.627439</td>\n",
       "      <td>0.001580</td>\n",
       "    </tr>\n",
       "    <tr>\n",
       "      <th>2</th>\n",
       "      <td>0.628953</td>\n",
       "      <td>0.641390</td>\n",
       "      <td>0.629308</td>\n",
       "      <td>0.001970</td>\n",
       "    </tr>\n",
       "    <tr>\n",
       "      <th>3</th>\n",
       "      <td>0.642421</td>\n",
       "      <td>0.660206</td>\n",
       "      <td>0.642572</td>\n",
       "      <td>0.002084</td>\n",
       "    </tr>\n",
       "    <tr>\n",
       "      <th>4</th>\n",
       "      <td>0.660896</td>\n",
       "      <td>0.661018</td>\n",
       "      <td>0.649663</td>\n",
       "      <td>0.002664</td>\n",
       "    </tr>\n",
       "    <tr>\n",
       "      <th>...</th>\n",
       "      <td>...</td>\n",
       "      <td>...</td>\n",
       "      <td>...</td>\n",
       "      <td>...</td>\n",
       "    </tr>\n",
       "    <tr>\n",
       "      <th>1128222</th>\n",
       "      <td>0.573564</td>\n",
       "      <td>0.572654</td>\n",
       "      <td>0.573923</td>\n",
       "      <td>0.000264</td>\n",
       "    </tr>\n",
       "    <tr>\n",
       "      <th>1128223</th>\n",
       "      <td>0.573388</td>\n",
       "      <td>0.573042</td>\n",
       "      <td>0.573747</td>\n",
       "      <td>0.000440</td>\n",
       "    </tr>\n",
       "    <tr>\n",
       "      <th>1128224</th>\n",
       "      <td>0.573388</td>\n",
       "      <td>0.571842</td>\n",
       "      <td>0.573817</td>\n",
       "      <td>0.000098</td>\n",
       "    </tr>\n",
       "    <tr>\n",
       "      <th>1128225</th>\n",
       "      <td>0.573317</td>\n",
       "      <td>0.573078</td>\n",
       "      <td>0.573817</td>\n",
       "      <td>0.000355</td>\n",
       "    </tr>\n",
       "    <tr>\n",
       "      <th>1128226</th>\n",
       "      <td>0.573599</td>\n",
       "      <td>0.572266</td>\n",
       "      <td>0.573182</td>\n",
       "      <td>0.000515</td>\n",
       "    </tr>\n",
       "  </tbody>\n",
       "</table>\n",
       "<p>1128227 rows × 4 columns</p>\n",
       "</div>"
      ],
      "text/plain": [
       "             Open      High       Low    Volume\n",
       "0        0.627120  0.626139  0.626874  0.001740\n",
       "1        0.627190  0.627515  0.627439  0.001580\n",
       "2        0.628953  0.641390  0.629308  0.001970\n",
       "3        0.642421  0.660206  0.642572  0.002084\n",
       "4        0.660896  0.661018  0.649663  0.002664\n",
       "...           ...       ...       ...       ...\n",
       "1128222  0.573564  0.572654  0.573923  0.000264\n",
       "1128223  0.573388  0.573042  0.573747  0.000440\n",
       "1128224  0.573388  0.571842  0.573817  0.000098\n",
       "1128225  0.573317  0.573078  0.573817  0.000355\n",
       "1128226  0.573599  0.572266  0.573182  0.000515\n",
       "\n",
       "[1128227 rows x 4 columns]"
      ]
     },
     "execution_count": 100,
     "metadata": {},
     "output_type": "execute_result"
    }
   ],
   "source": [
    "sx = preprocessing.MinMaxScaler()\n",
    "scaled_X = np.array(sx.fit_transform(df.drop('Close',axis='columns')))\n",
    "print(scaled_X)\n",
    "df['Open'] = sx.fit_transform(df['Open'].values.reshape(df.shape[0],1))\n",
    "df['High'] = sx.fit_transform(df['High'].values.reshape(df.shape[0],1))\n",
    "df['Low'] = sx.fit_transform(df['Low'].values.reshape(df.shape[0],1))\n",
    "df['Volume'] = scaled_X[:,3:]\n",
    "df.drop('Close',axis='columns')"
   ]
  },
  {
   "cell_type": "code",
   "execution_count": 101,
   "id": "e6d41723",
   "metadata": {},
   "outputs": [
    {
     "data": {
      "text/plain": [
       "1128227"
      ]
     },
     "execution_count": 101,
     "metadata": {},
     "output_type": "execute_result"
    }
   ],
   "source": [
    "sy = preprocessing.MinMaxScaler()\n",
    "scaled_Y = sy.fit_transform(df['Close'].values.reshape(df.shape[0],1))\n",
    "df['Close'] = scaled_Y\n",
    "len(scaled_Y)"
   ]
  },
  {
   "cell_type": "markdown",
   "id": "49373e89",
   "metadata": {},
   "source": [
    "<h3>Assess Distribution</h3>"
   ]
  },
  {
   "cell_type": "code",
   "execution_count": 114,
   "id": "8c6aea3e",
   "metadata": {},
   "outputs": [
    {
     "name": "stdout",
     "output_type": "stream",
     "text": [
      "1062.1803048447096\n"
     ]
    },
    {
     "data": {
      "text/plain": [
       "array([[<AxesSubplot:title={'center':'Open'}>]], dtype=object)"
      ]
     },
     "execution_count": 114,
     "metadata": {},
     "output_type": "execute_result"
    },
    {
     "data": {
      "image/png": "[encoded data removed]",
      "text/plain": [
       "<Figure size 648x432 with 1 Axes>"
      ]
     },
     "metadata": {
      "needs_background": "light"
     },
     "output_type": "display_data"
    }
   ],
   "source": [
    "bins = round(math.sqrt(df.shape[0]))\n",
    "#Plot Distribution of Open price\n",
    "df.hist(column=\"Open\", figsize=(9,6),bins=bins)"
   ]
  },
  {
   "cell_type": "code",
   "execution_count": 103,
   "id": "ab23f7f6",
   "metadata": {},
   "outputs": [
    {
     "data": {
      "text/plain": [
       "array([[<AxesSubplot:title={'center':'High'}>]], dtype=object)"
      ]
     },
     "execution_count": 103,
     "metadata": {},
     "output_type": "execute_result"
    },
    {
     "data": {
      "image/png": "[encoded data removed]",
      "text/plain": [
       "<Figure size 648x432 with 1 Axes>"
      ]
     },
     "metadata": {
      "needs_background": "light"
     },
     "output_type": "display_data"
    }
   ],
   "source": [
    "#Plot Distribution of High price\n",
    "df.hist(column=\"High\", figsize=(9,6),bins=bins)"
   ]
  },
  {
   "cell_type": "code",
   "execution_count": 104,
   "id": "919c026e",
   "metadata": {},
   "outputs": [
    {
     "data": {
      "text/plain": [
       "array([[<AxesSubplot:title={'center':'Close'}>]], dtype=object)"
      ]
     },
     "execution_count": 104,
     "metadata": {},
     "output_type": "execute_result"
    },
    {
     "data": {
      "image/png": "[encoded data removed]",
      "text/plain": [
       "<Figure size 648x432 with 1 Axes>"
      ]
     },
     "metadata": {
      "needs_background": "light"
     },
     "output_type": "display_data"
    }
   ],
   "source": [
    "#Plot Distribution of Close price\n",
    "df.hist(column=\"Close\", figsize=(9,6),bins=bins)"
   ]
  },
  {
   "cell_type": "code",
   "execution_count": 105,
   "id": "d5ecbf6a",
   "metadata": {},
   "outputs": [
    {
     "data": {
      "text/plain": [
       "array([[<AxesSubplot:title={'center':'Low'}>]], dtype=object)"
      ]
     },
     "execution_count": 105,
     "metadata": {},
     "output_type": "execute_result"
    },
    {
     "data": {
      "image/png": "[encoded data removed]",
      "text/plain": [
       "<Figure size 648x432 with 1 Axes>"
      ]
     },
     "metadata": {
      "needs_background": "light"
     },
     "output_type": "display_data"
    }
   ],
   "source": [
    "#Plot Distribution of Low price\n",
    "df.hist(column=\"Low\", figsize=(9,6),bins=bins)"
   ]
  },
  {
   "cell_type": "code",
   "execution_count": 126,
   "id": "c654ada3",
   "metadata": {},
   "outputs": [
    {
     "ename": "AttributeError",
     "evalue": "'Rectangle' object has no property 'logy'",
     "output_type": "error",
     "traceback": [
      "\u001b[0;31m---------------------------------------------------------------------------\u001b[0m",
      "\u001b[0;31mAttributeError\u001b[0m                            Traceback (most recent call last)",
      "\u001b[0;32m<ipython-input-126-d33b886648ff>\u001b[0m in \u001b[0;36m<module>\u001b[0;34m\u001b[0m\n\u001b[1;32m      1\u001b[0m \u001b[0;31m#Plot Distribution of Volume size\u001b[0m\u001b[0;34m\u001b[0m\u001b[0;34m\u001b[0m\u001b[0;34m\u001b[0m\u001b[0m\n\u001b[0;32m----> 2\u001b[0;31m \u001b[0mdf\u001b[0m\u001b[0;34m.\u001b[0m\u001b[0mhist\u001b[0m\u001b[0;34m(\u001b[0m\u001b[0mcolumn\u001b[0m\u001b[0;34m=\u001b[0m\u001b[0;34m\"Volume\"\u001b[0m\u001b[0;34m,\u001b[0m \u001b[0mfigsize\u001b[0m\u001b[0;34m=\u001b[0m\u001b[0;34m(\u001b[0m\u001b[0;36m9\u001b[0m\u001b[0;34m,\u001b[0m\u001b[0;36m6\u001b[0m\u001b[0;34m)\u001b[0m\u001b[0;34m,\u001b[0m\u001b[0mbins\u001b[0m\u001b[0;34m=\u001b[0m\u001b[0mbins\u001b[0m\u001b[0;34m,\u001b[0m\u001b[0mlogy\u001b[0m\u001b[0;34m=\u001b[0m\u001b[0;32mTrue\u001b[0m\u001b[0;34m)\u001b[0m\u001b[0;34m\u001b[0m\u001b[0;34m\u001b[0m\u001b[0m\n\u001b[0m",
      "\u001b[0;32m/usr/local/anaconda3/lib/python3.8/site-packages/pandas/plotting/_core.py\u001b[0m in \u001b[0;36mhist_frame\u001b[0;34m(data, column, by, grid, xlabelsize, xrot, ylabelsize, yrot, ax, sharex, sharey, figsize, layout, bins, backend, legend, **kwargs)\u001b[0m\n\u001b[1;32m    209\u001b[0m     \"\"\"\n\u001b[1;32m    210\u001b[0m     \u001b[0mplot_backend\u001b[0m \u001b[0;34m=\u001b[0m \u001b[0m_get_plot_backend\u001b[0m\u001b[0;34m(\u001b[0m\u001b[0mbackend\u001b[0m\u001b[0;34m)\u001b[0m\u001b[0;34m\u001b[0m\u001b[0;34m\u001b[0m\u001b[0m\n\u001b[0;32m--> 211\u001b[0;31m     return plot_backend.hist_frame(\n\u001b[0m\u001b[1;32m    212\u001b[0m         \u001b[0mdata\u001b[0m\u001b[0;34m,\u001b[0m\u001b[0;34m\u001b[0m\u001b[0;34m\u001b[0m\u001b[0m\n\u001b[1;32m    213\u001b[0m         \u001b[0mcolumn\u001b[0m\u001b[0;34m=\u001b[0m\u001b[0mcolumn\u001b[0m\u001b[0;34m,\u001b[0m\u001b[0;34m\u001b[0m\u001b[0;34m\u001b[0m\u001b[0m\n",
      "\u001b[0;32m/usr/local/anaconda3/lib/python3.8/site-packages/pandas/plotting/_matplotlib/hist.py\u001b[0m in \u001b[0;36mhist_frame\u001b[0;34m(data, column, by, grid, xlabelsize, xrot, ylabelsize, yrot, ax, sharex, sharey, figsize, layout, bins, legend, **kwds)\u001b[0m\n\u001b[1;32m    432\u001b[0m         \u001b[0;32mif\u001b[0m \u001b[0mlegend\u001b[0m \u001b[0;32mand\u001b[0m \u001b[0mcan_set_label\u001b[0m\u001b[0;34m:\u001b[0m\u001b[0;34m\u001b[0m\u001b[0;34m\u001b[0m\u001b[0m\n\u001b[1;32m    433\u001b[0m             \u001b[0mkwds\u001b[0m\u001b[0;34m[\u001b[0m\u001b[0;34m\"label\"\u001b[0m\u001b[0;34m]\u001b[0m \u001b[0;34m=\u001b[0m \u001b[0mcol\u001b[0m\u001b[0;34m\u001b[0m\u001b[0;34m\u001b[0m\u001b[0m\n\u001b[0;32m--> 434\u001b[0;31m         \u001b[0max\u001b[0m\u001b[0;34m.\u001b[0m\u001b[0mhist\u001b[0m\u001b[0;34m(\u001b[0m\u001b[0mdata\u001b[0m\u001b[0;34m[\u001b[0m\u001b[0mcol\u001b[0m\u001b[0;34m]\u001b[0m\u001b[0;34m.\u001b[0m\u001b[0mdropna\u001b[0m\u001b[0;34m(\u001b[0m\u001b[0;34m)\u001b[0m\u001b[0;34m.\u001b[0m\u001b[0mvalues\u001b[0m\u001b[0;34m,\u001b[0m \u001b[0mbins\u001b[0m\u001b[0;34m=\u001b[0m\u001b[0mbins\u001b[0m\u001b[0;34m,\u001b[0m \u001b[0;34m**\u001b[0m\u001b[0mkwds\u001b[0m\u001b[0;34m)\u001b[0m\u001b[0;34m\u001b[0m\u001b[0;34m\u001b[0m\u001b[0m\n\u001b[0m\u001b[1;32m    435\u001b[0m         \u001b[0max\u001b[0m\u001b[0;34m.\u001b[0m\u001b[0mset_title\u001b[0m\u001b[0;34m(\u001b[0m\u001b[0mcol\u001b[0m\u001b[0;34m)\u001b[0m\u001b[0;34m\u001b[0m\u001b[0;34m\u001b[0m\u001b[0m\n\u001b[1;32m    436\u001b[0m         \u001b[0max\u001b[0m\u001b[0;34m.\u001b[0m\u001b[0mgrid\u001b[0m\u001b[0;34m(\u001b[0m\u001b[0mgrid\u001b[0m\u001b[0;34m)\u001b[0m\u001b[0;34m\u001b[0m\u001b[0;34m\u001b[0m\u001b[0m\n",
      "\u001b[0;32m/usr/local/anaconda3/lib/python3.8/site-packages/matplotlib/__init__.py\u001b[0m in \u001b[0;36minner\u001b[0;34m(ax, data, *args, **kwargs)\u001b[0m\n\u001b[1;32m   1445\u001b[0m     \u001b[0;32mdef\u001b[0m \u001b[0minner\u001b[0m\u001b[0;34m(\u001b[0m\u001b[0max\u001b[0m\u001b[0;34m,\u001b[0m \u001b[0;34m*\u001b[0m\u001b[0margs\u001b[0m\u001b[0;34m,\u001b[0m \u001b[0mdata\u001b[0m\u001b[0;34m=\u001b[0m\u001b[0;32mNone\u001b[0m\u001b[0;34m,\u001b[0m \u001b[0;34m**\u001b[0m\u001b[0mkwargs\u001b[0m\u001b[0;34m)\u001b[0m\u001b[0;34m:\u001b[0m\u001b[0;34m\u001b[0m\u001b[0;34m\u001b[0m\u001b[0m\n\u001b[1;32m   1446\u001b[0m         \u001b[0;32mif\u001b[0m \u001b[0mdata\u001b[0m \u001b[0;32mis\u001b[0m \u001b[0;32mNone\u001b[0m\u001b[0;34m:\u001b[0m\u001b[0;34m\u001b[0m\u001b[0;34m\u001b[0m\u001b[0m\n\u001b[0;32m-> 1447\u001b[0;31m             \u001b[0;32mreturn\u001b[0m \u001b[0mfunc\u001b[0m\u001b[0;34m(\u001b[0m\u001b[0max\u001b[0m\u001b[0;34m,\u001b[0m \u001b[0;34m*\u001b[0m\u001b[0mmap\u001b[0m\u001b[0;34m(\u001b[0m\u001b[0msanitize_sequence\u001b[0m\u001b[0;34m,\u001b[0m \u001b[0margs\u001b[0m\u001b[0;34m)\u001b[0m\u001b[0;34m,\u001b[0m \u001b[0;34m**\u001b[0m\u001b[0mkwargs\u001b[0m\u001b[0;34m)\u001b[0m\u001b[0;34m\u001b[0m\u001b[0;34m\u001b[0m\u001b[0m\n\u001b[0m\u001b[1;32m   1448\u001b[0m \u001b[0;34m\u001b[0m\u001b[0m\n\u001b[1;32m   1449\u001b[0m         \u001b[0mbound\u001b[0m \u001b[0;34m=\u001b[0m \u001b[0mnew_sig\u001b[0m\u001b[0;34m.\u001b[0m\u001b[0mbind\u001b[0m\u001b[0;34m(\u001b[0m\u001b[0max\u001b[0m\u001b[0;34m,\u001b[0m \u001b[0;34m*\u001b[0m\u001b[0margs\u001b[0m\u001b[0;34m,\u001b[0m \u001b[0;34m**\u001b[0m\u001b[0mkwargs\u001b[0m\u001b[0;34m)\u001b[0m\u001b[0;34m\u001b[0m\u001b[0;34m\u001b[0m\u001b[0m\n",
      "\u001b[0;32m/usr/local/anaconda3/lib/python3.8/site-packages/matplotlib/axes/_axes.py\u001b[0m in \u001b[0;36mhist\u001b[0;34m(self, x, bins, range, density, weights, cumulative, bottom, histtype, align, orientation, rwidth, log, color, label, stacked, **kwargs)\u001b[0m\n\u001b[1;32m   6813\u001b[0m             \u001b[0;32mif\u001b[0m \u001b[0mpatch\u001b[0m\u001b[0;34m:\u001b[0m\u001b[0;34m\u001b[0m\u001b[0;34m\u001b[0m\u001b[0m\n\u001b[1;32m   6814\u001b[0m                 \u001b[0mp\u001b[0m \u001b[0;34m=\u001b[0m \u001b[0mpatch\u001b[0m\u001b[0;34m[\u001b[0m\u001b[0;36m0\u001b[0m\u001b[0;34m]\u001b[0m\u001b[0;34m\u001b[0m\u001b[0;34m\u001b[0m\u001b[0m\n\u001b[0;32m-> 6815\u001b[0;31m                 \u001b[0mp\u001b[0m\u001b[0;34m.\u001b[0m\u001b[0mupdate\u001b[0m\u001b[0;34m(\u001b[0m\u001b[0mkwargs\u001b[0m\u001b[0;34m)\u001b[0m\u001b[0;34m\u001b[0m\u001b[0;34m\u001b[0m\u001b[0m\n\u001b[0m\u001b[1;32m   6816\u001b[0m                 \u001b[0;32mif\u001b[0m \u001b[0mlbl\u001b[0m \u001b[0;32mis\u001b[0m \u001b[0;32mnot\u001b[0m \u001b[0;32mNone\u001b[0m\u001b[0;34m:\u001b[0m\u001b[0;34m\u001b[0m\u001b[0;34m\u001b[0m\u001b[0m\n\u001b[1;32m   6817\u001b[0m                     \u001b[0mp\u001b[0m\u001b[0;34m.\u001b[0m\u001b[0mset_label\u001b[0m\u001b[0;34m(\u001b[0m\u001b[0mlbl\u001b[0m\u001b[0;34m)\u001b[0m\u001b[0;34m\u001b[0m\u001b[0;34m\u001b[0m\u001b[0m\n",
      "\u001b[0;32m/usr/local/anaconda3/lib/python3.8/site-packages/matplotlib/artist.py\u001b[0m in \u001b[0;36mupdate\u001b[0;34m(self, props)\u001b[0m\n\u001b[1;32m    994\u001b[0m                     \u001b[0mfunc\u001b[0m \u001b[0;34m=\u001b[0m \u001b[0mgetattr\u001b[0m\u001b[0;34m(\u001b[0m\u001b[0mself\u001b[0m\u001b[0;34m,\u001b[0m \u001b[0;34mf\"set_{k}\"\u001b[0m\u001b[0;34m,\u001b[0m \u001b[0;32mNone\u001b[0m\u001b[0;34m)\u001b[0m\u001b[0;34m\u001b[0m\u001b[0;34m\u001b[0m\u001b[0m\n\u001b[1;32m    995\u001b[0m                     \u001b[0;32mif\u001b[0m \u001b[0;32mnot\u001b[0m \u001b[0mcallable\u001b[0m\u001b[0;34m(\u001b[0m\u001b[0mfunc\u001b[0m\u001b[0;34m)\u001b[0m\u001b[0;34m:\u001b[0m\u001b[0;34m\u001b[0m\u001b[0;34m\u001b[0m\u001b[0m\n\u001b[0;32m--> 996\u001b[0;31m                         raise AttributeError(f\"{type(self).__name__!r} object \"\n\u001b[0m\u001b[1;32m    997\u001b[0m                                              f\"has no property {k!r}\")\n\u001b[1;32m    998\u001b[0m                     \u001b[0mret\u001b[0m\u001b[0;34m.\u001b[0m\u001b[0mappend\u001b[0m\u001b[0;34m(\u001b[0m\u001b[0mfunc\u001b[0m\u001b[0;34m(\u001b[0m\u001b[0mv\u001b[0m\u001b[0;34m)\u001b[0m\u001b[0;34m)\u001b[0m\u001b[0;34m\u001b[0m\u001b[0;34m\u001b[0m\u001b[0m\n",
      "\u001b[0;31mAttributeError\u001b[0m: 'Rectangle' object has no property 'logy'"
     ]
    },
    {
     "data": {
      "image/png": "[encoded data removed]",
      "text/plain": [
       "<Figure size 648x432 with 1 Axes>"
      ]
     },
     "metadata": {
      "needs_background": "light"
     },
     "output_type": "display_data"
    }
   ],
   "source": [
    "#Plot Distribution of Volume size\n",
    "df.hist(column=\"Volume\", figsize=(9,6),bins=bins,logy=True)"
   ]
  },
  {
   "cell_type": "markdown",
   "id": "0214d8d6",
   "metadata": {},
   "source": [
    "<h3>Box Plots</h3>"
   ]
  },
  {
   "cell_type": "code",
   "execution_count": 107,
   "id": "f927b641",
   "metadata": {},
   "outputs": [
    {
     "data": {
      "text/plain": [
       "<AxesSubplot:>"
      ]
     },
     "execution_count": 107,
     "metadata": {},
     "output_type": "execute_result"
    },
    {
     "data": {
      "image/png": "[encoded data removed]",
      "text/plain": [
       "<Figure size 648x432 with 1 Axes>"
      ]
     },
     "metadata": {
      "needs_background": "light"
     },
     "output_type": "display_data"
    }
   ],
   "source": [
    "df['Volume'].plot(kind='box',figsize=(9,6),logy=True)"
   ]
  },
  {
   "cell_type": "code",
   "execution_count": 108,
   "id": "2faae69a",
   "metadata": {},
   "outputs": [],
   "source": [
    "class LinearRegression:\n",
    "    def __init__(self,feature_samples,labels):\n",
    "        self.X = feature_samples\n",
    "        self.Y = labels\n",
    "        self.X_train, self.X_test, self.Y_train, self.Y_test = train_test_split(self.X,self.Y,test_size=0.2)\n",
    "        self.parameters = np.ones((self.X.shape[1],1))\n",
    "        \n",
    "    def Train(self,epochs=None,epsilon=0.2,learning_rate=0.1):\n",
    "        parameters = self.parameters\n",
    "        \n",
    "        \n",
    "        if epochs != None:\n",
    "            for epoch in range(epochs):\n",
    "                ALR = (learning_rate/len(self.Y_train))              #ALR - Average Learning Rate\n",
    "                h = np.matmul(self.X_train,self.parameters)          #h - hypothesis function\n",
    "                error = h-self.Y_train\n",
    "                correction = np.matmul(self.X_train.T,error)\n",
    "                parameters = parameters - (ALR*correction)\n",
    "            self.parameters = parameters\n",
    "            print(\"After\",epochs,\"epochs, we have the following parameters:\\n\",self.parameters)\n",
    "            \n",
    "        else:\n",
    "            print(\"In else\")\n",
    "            parameters_cur = self.parameters\n",
    "            parameters_prev = np.zeros((self.X.shape[1],1))\n",
    "            print()\n",
    "            while(LA.norm(parameters_cur - parameters_prev) >= epsilon):\n",
    "                ALR = (learning_rate/len(self.Y_train))              #ALR - Average Learning Rate\n",
    "                h = np.matmul(self.X_train,self.parameters)          #h - hypothesis function\n",
    "                error = h-self.Y_train\n",
    "                correction = np.matmul(self.X_train.T,error)\n",
    "                parameters_prev = parameters_cur\n",
    "                parameters_cur = parameters_cur - (ALR*correction)\n",
    "                print(parameters_cur.T)\n",
    "                print(\"Current Norm = \",LA.norm(parameters_cur - parameters_prev))\n",
    "                #print(\"Previous Norm = \",norm_prev)\n",
    "            self.parameters = parameters_cur\n",
    "            print(\"After convergence with epsilon =\",epsilon,\"we get the following parameters:\\n\",self.parameters)\n",
    "                \n",
    "                \n",
    "    def Test(self):\n",
    "        return\n",
    "    \n",
    "    \n",
    "    def Predict(self):\n",
    "        return"
   ]
  },
  {
   "cell_type": "code",
   "execution_count": 109,
   "id": "99548b4a",
   "metadata": {},
   "outputs": [
    {
     "name": "stdout",
     "output_type": "stream",
     "text": [
      "In else\n",
      "\n",
      "[[0.91657734 0.91670617 0.91655256 0.9999256 ]]\n",
      "Current Norm =  0.14443227663227828\n",
      "After convergence with epsilon = 0.2 we get the following parameters:\n",
      " [[0.91657734]\n",
      " [0.91670617]\n",
      " [0.91655256]\n",
      " [0.9999256 ]]\n"
     ]
    }
   ],
   "source": [
    "model = LinearRegression(scaled_X,scaled_Y)\n",
    "model.Train(epochs=None)"
   ]
  },
  {
   "cell_type": "code",
   "execution_count": null,
   "id": "fe72be6d",
   "metadata": {},
   "outputs": [],
   "source": []
  }
 ],
 "metadata": {
  "kernelspec": {
   "display_name": "Python 3",
   "language": "python",
   "name": "python3"
  },
  "language_info": {
   "codemirror_mode": {
    "name": "ipython",
    "version": 3
   },
   "file_extension": ".py",
   "mimetype": "text/x-python",
   "name": "python",
   "nbconvert_exporter": "python",
   "pygments_lexer": "ipython3",
   "version": "3.8.8"
  }
 },
 "nbformat": 4,
 "nbformat_minor": 5
}
