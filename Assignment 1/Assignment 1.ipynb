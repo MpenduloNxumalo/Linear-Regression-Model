{
 "cells": [
  {
   "cell_type": "code",
   "execution_count": 653,
   "id": "b1b106af",
   "metadata": {},
   "outputs": [],
   "source": [
    "#Initialisation Cell\n",
    "import math\n",
    "import numpy as np\n",
    "import pandas as pd\n",
    "#import pandas_ta as ta\n",
    "from numpy import linalg as LA\n",
    "import matplotlib.pyplot as plt\n",
    "from matplotlib import colors\n",
    "from matplotlib.ticker import PercentFormatter\n",
    "from sklearn.model_selection import train_test_split\n",
    "from sklearn import preprocessing"
   ]
  },
  {
   "cell_type": "code",
   "execution_count": 654,
   "id": "deb06e7e",
   "metadata": {},
   "outputs": [],
   "source": [
    "def hist(data,name,bins):\n",
    "    plt.hist(data,bins=bins)\n",
    "    plt.title(name)\n",
    "    plt.show()\n",
    "    \n",
    "def min_max(column):\n",
    "    return 1/(1 + np.exp(-column))\n",
    "\n",
    "\n",
    "def standardization(column):\n",
    "    return (column - column.mean())/column.std()"
   ]
  },
  {
   "cell_type": "markdown",
   "id": "d38a1f42",
   "metadata": {},
   "source": [
    "<h2>Import Data</h2>"
   ]
  },
  {
   "cell_type": "code",
   "execution_count": 655,
   "id": "f8930884",
   "metadata": {},
   "outputs": [
    {
     "data": {
      "text/html": [
       "<div>\n",
       "<style scoped>\n",
       "    .dataframe tbody tr th:only-of-type {\n",
       "        vertical-align: middle;\n",
       "    }\n",
       "\n",
       "    .dataframe tbody tr th {\n",
       "        vertical-align: top;\n",
       "    }\n",
       "\n",
       "    .dataframe thead th {\n",
       "        text-align: right;\n",
       "    }\n",
       "</style>\n",
       "<table border=\"1\" class=\"dataframe\">\n",
       "  <thead>\n",
       "    <tr style=\"text-align: right;\">\n",
       "      <th></th>\n",
       "      <th>Local time</th>\n",
       "      <th>Open</th>\n",
       "      <th>High</th>\n",
       "      <th>Low</th>\n",
       "      <th>Close</th>\n",
       "      <th>Volume</th>\n",
       "    </tr>\n",
       "  </thead>\n",
       "  <tbody>\n",
       "    <tr>\n",
       "      <th>0</th>\n",
       "      <td>12.03.2019 00:00:00.000 GMT+0200</td>\n",
       "      <td>1.31887</td>\n",
       "      <td>1.31901</td>\n",
       "      <td>1.31865</td>\n",
       "      <td>1.31887</td>\n",
       "      <td>305.47</td>\n",
       "    </tr>\n",
       "    <tr>\n",
       "      <th>1</th>\n",
       "      <td>12.03.2019 00:01:00.000 GMT+0200</td>\n",
       "      <td>1.31889</td>\n",
       "      <td>1.31940</td>\n",
       "      <td>1.31881</td>\n",
       "      <td>1.31936</td>\n",
       "      <td>277.34</td>\n",
       "    </tr>\n",
       "    <tr>\n",
       "      <th>2</th>\n",
       "      <td>12.03.2019 00:02:00.000 GMT+0200</td>\n",
       "      <td>1.31939</td>\n",
       "      <td>1.32333</td>\n",
       "      <td>1.31934</td>\n",
       "      <td>1.32321</td>\n",
       "      <td>345.94</td>\n",
       "    </tr>\n",
       "    <tr>\n",
       "      <th>3</th>\n",
       "      <td>12.03.2019 00:03:00.000 GMT+0200</td>\n",
       "      <td>1.32321</td>\n",
       "      <td>1.32866</td>\n",
       "      <td>1.32310</td>\n",
       "      <td>1.32845</td>\n",
       "      <td>365.84</td>\n",
       "    </tr>\n",
       "    <tr>\n",
       "      <th>4</th>\n",
       "      <td>12.03.2019 00:04:00.000 GMT+0200</td>\n",
       "      <td>1.32845</td>\n",
       "      <td>1.32889</td>\n",
       "      <td>1.32511</td>\n",
       "      <td>1.32536</td>\n",
       "      <td>467.78</td>\n",
       "    </tr>\n",
       "    <tr>\n",
       "      <th>...</th>\n",
       "      <td>...</td>\n",
       "      <td>...</td>\n",
       "      <td>...</td>\n",
       "      <td>...</td>\n",
       "      <td>...</td>\n",
       "      <td>...</td>\n",
       "    </tr>\n",
       "    <tr>\n",
       "      <th>1128222</th>\n",
       "      <td>11.03.2022 23:55:00.000 GMT+0200</td>\n",
       "      <td>1.30368</td>\n",
       "      <td>1.30386</td>\n",
       "      <td>1.30364</td>\n",
       "      <td>1.30364</td>\n",
       "      <td>46.31</td>\n",
       "    </tr>\n",
       "    <tr>\n",
       "      <th>1128223</th>\n",
       "      <td>11.03.2022 23:56:00.000 GMT+0200</td>\n",
       "      <td>1.30363</td>\n",
       "      <td>1.30397</td>\n",
       "      <td>1.30359</td>\n",
       "      <td>1.30362</td>\n",
       "      <td>77.25</td>\n",
       "    </tr>\n",
       "    <tr>\n",
       "      <th>1128224</th>\n",
       "      <td>11.03.2022 23:57:00.000 GMT+0200</td>\n",
       "      <td>1.30363</td>\n",
       "      <td>1.30363</td>\n",
       "      <td>1.30361</td>\n",
       "      <td>1.30361</td>\n",
       "      <td>17.17</td>\n",
       "    </tr>\n",
       "    <tr>\n",
       "      <th>1128225</th>\n",
       "      <td>11.03.2022 23:58:00.000 GMT+0200</td>\n",
       "      <td>1.30361</td>\n",
       "      <td>1.30398</td>\n",
       "      <td>1.30361</td>\n",
       "      <td>1.30371</td>\n",
       "      <td>62.32</td>\n",
       "    </tr>\n",
       "    <tr>\n",
       "      <th>1128226</th>\n",
       "      <td>11.03.2022 23:59:00.000 GMT+0200</td>\n",
       "      <td>1.30369</td>\n",
       "      <td>1.30375</td>\n",
       "      <td>1.30343</td>\n",
       "      <td>1.30343</td>\n",
       "      <td>90.45</td>\n",
       "    </tr>\n",
       "  </tbody>\n",
       "</table>\n",
       "<p>1128227 rows × 6 columns</p>\n",
       "</div>"
      ],
      "text/plain": [
       "                               Local time     Open     High      Low    Close  \\\n",
       "0        12.03.2019 00:00:00.000 GMT+0200  1.31887  1.31901  1.31865  1.31887   \n",
       "1        12.03.2019 00:01:00.000 GMT+0200  1.31889  1.31940  1.31881  1.31936   \n",
       "2        12.03.2019 00:02:00.000 GMT+0200  1.31939  1.32333  1.31934  1.32321   \n",
       "3        12.03.2019 00:03:00.000 GMT+0200  1.32321  1.32866  1.32310  1.32845   \n",
       "4        12.03.2019 00:04:00.000 GMT+0200  1.32845  1.32889  1.32511  1.32536   \n",
       "...                                   ...      ...      ...      ...      ...   \n",
       "1128222  11.03.2022 23:55:00.000 GMT+0200  1.30368  1.30386  1.30364  1.30364   \n",
       "1128223  11.03.2022 23:56:00.000 GMT+0200  1.30363  1.30397  1.30359  1.30362   \n",
       "1128224  11.03.2022 23:57:00.000 GMT+0200  1.30363  1.30363  1.30361  1.30361   \n",
       "1128225  11.03.2022 23:58:00.000 GMT+0200  1.30361  1.30398  1.30361  1.30371   \n",
       "1128226  11.03.2022 23:59:00.000 GMT+0200  1.30369  1.30375  1.30343  1.30343   \n",
       "\n",
       "         Volume  \n",
       "0        305.47  \n",
       "1        277.34  \n",
       "2        345.94  \n",
       "3        365.84  \n",
       "4        467.78  \n",
       "...         ...  \n",
       "1128222   46.31  \n",
       "1128223   77.25  \n",
       "1128224   17.17  \n",
       "1128225   62.32  \n",
       "1128226   90.45  \n",
       "\n",
       "[1128227 rows x 6 columns]"
      ]
     },
     "execution_count": 655,
     "metadata": {},
     "output_type": "execute_result"
    }
   ],
   "source": [
    "df = pd.read_csv(\"GBPUSD_Candlestick_1_M_BID_12.03.2019-12.03.2022.csv\")\n",
    "\n",
    "df"
   ]
  },
  {
   "cell_type": "markdown",
   "id": "87081843",
   "metadata": {},
   "source": [
    "<h2>Clean the Data</h2>"
   ]
  },
  {
   "cell_type": "markdown",
   "id": "f2fe35d3",
   "metadata": {},
   "source": [
    "<h3>Get Statistical Summary of the data</h3>"
   ]
  },
  {
   "cell_type": "code",
   "execution_count": 656,
   "id": "666c6169",
   "metadata": {},
   "outputs": [
    {
     "name": "stdout",
     "output_type": "stream",
     "text": [
      "The data has the following shape:\n",
      "1128227 rows and 6 columns\n",
      "                         Local time     Open     High      Low    Close  \\\n",
      "0  12.03.2019 00:00:00.000 GMT+0200  1.31887  1.31901  1.31865  1.31887   \n",
      "1  12.03.2019 00:01:00.000 GMT+0200  1.31889  1.31940  1.31881  1.31936   \n",
      "2  12.03.2019 00:02:00.000 GMT+0200  1.31939  1.32333  1.31934  1.32321   \n",
      "3  12.03.2019 00:03:00.000 GMT+0200  1.32321  1.32866  1.32310  1.32845   \n",
      "4  12.03.2019 00:04:00.000 GMT+0200  1.32845  1.32889  1.32511  1.32536   \n",
      "\n",
      "   Volume  \n",
      "0  305.47  \n",
      "1  277.34  \n",
      "2  345.94  \n",
      "3  365.84  \n",
      "4  467.78  \n",
      "The statistical summary is given as:\n",
      "               Open          High           Low         Close        Volume\n",
      "count  1.128227e+06  1.128227e+06  1.128227e+06  1.128227e+06  1.128227e+06\n",
      "mean   1.315328e+00  1.315434e+00  1.315222e+00  1.315327e+00  1.187006e+02\n",
      "std    5.638901e-02  5.637545e-02  5.640176e-02  5.638898e-02  2.821358e+02\n",
      "min    1.141000e+00  1.141650e+00  1.140950e+00  1.141010e+00  0.000000e+00\n",
      "25%    1.272480e+00  1.272570e+00  1.272400e+00  1.272480e+00  3.000000e+01\n",
      "50%    1.312390e+00  1.312510e+00  1.312280e+00  1.312390e+00  7.070000e+01\n",
      "75%    1.364830e+00  1.364930e+00  1.364730e+00  1.364830e+00  1.499100e+02\n",
      "max    1.424630e+00  1.424910e+00  1.424420e+00  1.424610e+00  1.755867e+05\n",
      "Data set consist of the following data types\n"
     ]
    },
    {
     "data": {
      "text/plain": [
       "Local time     object\n",
       "Open          float64\n",
       "High          float64\n",
       "Low           float64\n",
       "Close         float64\n",
       "Volume        float64\n",
       "dtype: object"
      ]
     },
     "execution_count": 656,
     "metadata": {},
     "output_type": "execute_result"
    }
   ],
   "source": [
    "print(\"The data has the following shape:\\n%d rows and %d columns\" %(df.shape[0],df.shape[1]))\n",
    "print(df.head())\n",
    "print(\"The statistical summary is given as:\")\n",
    "print(df.describe())\n",
    "print(\"Data set consist of the following data types\")\n",
    "df.dtypes"
   ]
  },
  {
   "cell_type": "markdown",
   "id": "c5082f25",
   "metadata": {},
   "source": [
    "<h3>Remove Useless features</h3>"
   ]
  },
  {
   "cell_type": "code",
   "execution_count": 657,
   "id": "928ba9ab",
   "metadata": {},
   "outputs": [],
   "source": [
    "df = df.drop('Local time',axis=1)"
   ]
  },
  {
   "cell_type": "markdown",
   "id": "dd7093a1",
   "metadata": {},
   "source": [
    "<h3>Remove missing data if any</h3>"
   ]
  },
  {
   "cell_type": "code",
   "execution_count": 658,
   "id": "aa9985e9",
   "metadata": {},
   "outputs": [
    {
     "name": "stdout",
     "output_type": "stream",
     "text": [
      "There are 0 missing values and 0 inf values in the Open column: (array([], dtype=int64),) (array([], dtype=int64),)\n",
      "There are 0 missing values and 0 inf values in the High column: (array([], dtype=int64),) (array([], dtype=int64),)\n",
      "There are 0 missing values and 0 inf values in the Low column: (array([], dtype=int64),) (array([], dtype=int64),)\n",
      "There are 0 missing values and 0 inf values in the Close column: (array([], dtype=int64),) (array([], dtype=int64),)\n",
      "There are 0 missing values and 0 inf values in the Volume column: (array([], dtype=int64),) (array([], dtype=int64),)\n"
     ]
    }
   ],
   "source": [
    "missingValuesForOpen = np.where(df[\"Open\"].isnull() == True)\n",
    "infValuesForOpen = np.where(np.isinf(df[\"Open\"]) == True)\n",
    "print('There are',len(missingValuesForOpen[0]),'missing values and',len(infValuesForOpen[0]),'inf values in the Open column:',missingValuesForOpen,infValuesForOpen)\n",
    "\n",
    "\n",
    "missingValuesForHigh = np.where(df[\"High\"].isnull() == True)\n",
    "infValuesForHigh = np.where(np.isinf(df[\"High\"]) == True)\n",
    "print('There are',len(missingValuesForHigh[0]),'missing values and',len(infValuesForHigh[0]),'inf values in the High column:',missingValuesForHigh,infValuesForHigh)\n",
    "\n",
    "missingValuesForLow = np.where(df[\"Low\"].isnull() == True)\n",
    "infValuesForLow = np.where(np.isinf(df[\"Low\"]) == True)\n",
    "print('There are',len(missingValuesForLow[0]),'missing values and',len(infValuesForLow[0]),'inf values in the Low column:',missingValuesForLow,infValuesForLow)\n",
    "\n",
    "missingValuesForClose = np.where(df[\"Close\"].isnull() == True)\n",
    "infValuesForClose = np.where(np.isinf(df[\"Close\"]) == True)\n",
    "print('There are',len(missingValuesForClose[0]),'missing values and',len(infValuesForClose[0]),'inf values in the Close column:',missingValuesForClose,infValuesForClose)\n",
    "\n",
    "missingValuesForVolume = np.where(df[\"Volume\"].isnull() == True)\n",
    "infValuesForVolume = np.where(np.isinf(df[\"Volume\"]) == True)\n",
    "print('There are',len(missingValuesForVolume[0]),'missing values and',len(infValuesForVolume[0]),'inf values in the Volume column:',missingValuesForVolume,infValuesForVolume)"
   ]
  },
  {
   "cell_type": "markdown",
   "id": "4e84f127",
   "metadata": {},
   "source": [
    "<h3>Feature Scaling</h3>"
   ]
  },
  {
   "cell_type": "markdown",
   "id": "7d38400c",
   "metadata": {},
   "source": [
    "<p>Due to the order of magnitude of values in the Volume column with respect to the other columns, we are prompted to perform a transformation on the values of the Volume column before applying feature scaling.<p>"
   ]
  },
  {
   "cell_type": "code",
   "execution_count": 659,
   "id": "36e900e5",
   "metadata": {},
   "outputs": [],
   "source": [
    "df['Volume'] = np.sqrt(np.sqrt(df['Volume']))"
   ]
  },
  {
   "cell_type": "code",
   "execution_count": null,
   "id": "1bb65fb6",
   "metadata": {},
   "outputs": [],
   "source": [
    "sx = preprocessing.MinMaxScaler()\n",
    "scaled_X = sx.fit_transform(df.drop('Close',axis=1))[:,:]\n",
    "print(scaled_X)\n",
    "df['Volume'] = standardization(df['Volume'])\n",
    "display(df)"
   ]
  },
  {
   "cell_type": "code",
   "execution_count": null,
   "id": "e6d41723",
   "metadata": {},
   "outputs": [
    {
     "data": {
      "text/plain": [
       "1128227"
      ]
     },
     "execution_count": 638,
     "metadata": {},
     "output_type": "execute_result"
    }
   ],
   "source": [
    "sy = preprocessing.MinMaxScaler()\n",
    "scaled_Y = sy.fit_transform(df['Close'].values.reshape(df.shape[0],1))\n",
    "df['Close'] = scaled_Y\n",
    "len(scaled_Y)"
   ]
  },
  {
   "cell_type": "markdown",
   "id": "49373e89",
   "metadata": {},
   "source": [
    "<h3>Assess Distribution</h3>"
   ]
  },
  {
   "cell_type": "code",
   "execution_count": null,
   "id": "8c6aea3e",
   "metadata": {},
   "outputs": [
    {
     "data": {
      "text/plain": [
       "array([[<AxesSubplot:title={'center':'Open'}>]], dtype=object)"
      ]
     },
     "execution_count": 639,
     "metadata": {},
     "output_type": "execute_result"
    },
    {
     "data": {
      "image/png": "[encoded data removed]",
      "text/plain": [
       "<Figure size 648x432 with 1 Axes>"
      ]
     },
     "metadata": {
      "needs_background": "light"
     },
     "output_type": "display_data"
    }
   ],
   "source": [
    "bins = round(math.sqrt(df.shape[0]))\n",
    "#Plot Distribution of Open price\n",
    "df.hist(column=\"Open\", figsize=(9,6),bins=bins)"
   ]
  },
  {
   "cell_type": "code",
   "execution_count": null,
   "id": "ab23f7f6",
   "metadata": {},
   "outputs": [
    {
     "data": {
      "text/plain": [
       "array([[<AxesSubplot:title={'center':'High'}>]], dtype=object)"
      ]
     },
     "execution_count": 640,
     "metadata": {},
     "output_type": "execute_result"
    },
    {
     "data": {
      "image/png": "[encoded data removed]",
      "text/plain": [
       "<Figure size 648x432 with 1 Axes>"
      ]
     },
     "metadata": {
      "needs_background": "light"
     },
     "output_type": "display_data"
    }
   ],
   "source": [
    "#Plot Distribution of High price\n",
    "df.hist(column=\"High\", figsize=(9,6),bins=bins)"
   ]
  },
  {
   "cell_type": "code",
   "execution_count": null,
   "id": "919c026e",
   "metadata": {},
   "outputs": [
    {
     "data": {
      "text/plain": [
       "array([[<AxesSubplot:title={'center':'Close'}>]], dtype=object)"
      ]
     },
     "execution_count": 641,
     "metadata": {},
     "output_type": "execute_result"
    },
    {
     "data": {
      "image/png": "[encoded data removed]",
      "text/plain": [
       "<Figure size 648x432 with 1 Axes>"
      ]
     },
     "metadata": {
      "needs_background": "light"
     },
     "output_type": "display_data"
    }
   ],
   "source": [
    "#Plot Distribution of Close price\n",
    "df.hist(column=\"Close\", figsize=(9,6),bins=bins)"
   ]
  },
  {
   "cell_type": "code",
   "execution_count": null,
   "id": "d5ecbf6a",
   "metadata": {},
   "outputs": [
    {
     "data": {
      "text/plain": [
       "array([[<AxesSubplot:title={'center':'Low'}>]], dtype=object)"
      ]
     },
     "execution_count": 642,
     "metadata": {},
     "output_type": "execute_result"
    },
    {
     "data": {
      "image/png": "[encoded data removed]",
      "text/plain": [
       "<Figure size 648x432 with 1 Axes>"
      ]
     },
     "metadata": {
      "needs_background": "light"
     },
     "output_type": "display_data"
    }
   ],
   "source": [
    "#Plot Distribution of Low price\n",
    "df.hist(column=\"Low\", figsize=(9,6),bins=bins)"
   ]
  },
  {
   "cell_type": "code",
   "execution_count": null,
   "id": "59f9376c",
   "metadata": {},
   "outputs": [
    {
     "data": {
      "text/plain": [
       "array([[<AxesSubplot:title={'center':'Volume'}>]], dtype=object)"
      ]
     },
     "execution_count": 643,
     "metadata": {},
     "output_type": "execute_result"
    },
    {
     "data": {
      "image/png": "[encoded data removed]",
      "text/plain": [
       "<Figure size 648x432 with 1 Axes>"
      ]
     },
     "metadata": {
      "needs_background": "light"
     },
     "output_type": "display_data"
    }
   ],
   "source": [
    "#Plot Distribution of Low price\n",
    "df.hist(column=\"Volume\", figsize=(9,6),bins=bins)"
   ]
  },
  {
   "cell_type": "markdown",
   "id": "0214d8d6",
   "metadata": {},
   "source": [
    "<h3>Box Plots</h3>"
   ]
  },
  {
   "cell_type": "code",
   "execution_count": null,
   "id": "805b6b5a",
   "metadata": {},
   "outputs": [
    {
     "data": {
      "text/plain": [
       "<AxesSubplot:>"
      ]
     },
     "execution_count": 644,
     "metadata": {},
     "output_type": "execute_result"
    },
    {
     "data": {
      "image/png": "[encoded data removed]",
      "text/plain": [
       "<Figure size 648x432 with 1 Axes>"
      ]
     },
     "metadata": {
      "needs_background": "light"
     },
     "output_type": "display_data"
    }
   ],
   "source": [
    "df['High'].plot(kind='box',figsize=(9,6),logy=True)"
   ]
  },
  {
   "cell_type": "code",
   "execution_count": null,
   "id": "410ebf6e",
   "metadata": {},
   "outputs": [
    {
     "data": {
      "text/plain": [
       "<AxesSubplot:>"
      ]
     },
     "execution_count": 645,
     "metadata": {},
     "output_type": "execute_result"
    },
    {
     "data": {
      "image/png": "[encoded data removed]",
      "text/plain": [
       "<Figure size 648x432 with 1 Axes>"
      ]
     },
     "metadata": {
      "needs_background": "light"
     },
     "output_type": "display_data"
    }
   ],
   "source": [
    "df['Low'].plot(kind='box',figsize=(9,6),logy=True)"
   ]
  },
  {
   "cell_type": "code",
   "execution_count": null,
   "id": "da46d749",
   "metadata": {},
   "outputs": [
    {
     "data": {
      "text/plain": [
       "<AxesSubplot:>"
      ]
     },
     "execution_count": 646,
     "metadata": {},
     "output_type": "execute_result"
    },
    {
     "data": {
      "image/png": "[encoded data removed]",
      "text/plain": [
       "<Figure size 648x432 with 1 Axes>"
      ]
     },
     "metadata": {
      "needs_background": "light"
     },
     "output_type": "display_data"
    }
   ],
   "source": [
    "df['Close'].plot(kind='box',figsize=(9,6),logy=True)"
   ]
  },
  {
   "cell_type": "code",
   "execution_count": null,
   "id": "f927b641",
   "metadata": {},
   "outputs": [
    {
     "data": {
      "text/plain": [
       "<AxesSubplot:>"
      ]
     },
     "execution_count": 647,
     "metadata": {},
     "output_type": "execute_result"
    },
    {
     "data": {
      "image/png": "[encoded data removed]",
      "text/plain": [
       "<Figure size 648x432 with 1 Axes>"
      ]
     },
     "metadata": {
      "needs_background": "light"
     },
     "output_type": "display_data"
    }
   ],
   "source": [
    "df['Volume'].plot(kind='box',figsize=(9,6),logy=True)"
   ]
  },
  {
   "cell_type": "markdown",
   "id": "8e40643d",
   "metadata": {},
   "source": [
    "<h3>Scatter Plots</h3>"
   ]
  },
  {
   "cell_type": "code",
   "execution_count": null,
   "id": "11dee8d4",
   "metadata": {},
   "outputs": [
    {
     "data": {
      "text/plain": [
       "<AxesSubplot:xlabel='Open', ylabel='Close'>"
      ]
     },
     "execution_count": 648,
     "metadata": {},
     "output_type": "execute_result"
    },
    {
     "data": {
      "image/png": "[encoded data removed]",
      "text/plain": [
       "<Figure size 432x288 with 1 Axes>"
      ]
     },
     "metadata": {
      "needs_background": "light"
     },
     "output_type": "display_data"
    }
   ],
   "source": [
    "df.plot.scatter(x='Open',y='Close')"
   ]
  },
  {
   "cell_type": "code",
   "execution_count": null,
   "id": "95c6b924",
   "metadata": {},
   "outputs": [
    {
     "data": {
      "text/plain": [
       "<AxesSubplot:xlabel='High', ylabel='Close'>"
      ]
     },
     "execution_count": 649,
     "metadata": {},
     "output_type": "execute_result"
    },
    {
     "data": {
      "image/png": "[encoded data removed]",
      "text/plain": [
       "<Figure size 432x288 with 1 Axes>"
      ]
     },
     "metadata": {
      "needs_background": "light"
     },
     "output_type": "display_data"
    }
   ],
   "source": [
    "df.plot.scatter(x='High',y='Close')"
   ]
  },
  {
   "cell_type": "code",
   "execution_count": null,
   "id": "7f7e60f3",
   "metadata": {},
   "outputs": [
    {
     "data": {
      "text/plain": [
       "<AxesSubplot:xlabel='Low', ylabel='Close'>"
      ]
     },
     "execution_count": 650,
     "metadata": {},
     "output_type": "execute_result"
    },
    {
     "data": {
      "image/png": "[encoded data removed]",
      "text/plain": [
       "<Figure size 432x288 with 1 Axes>"
      ]
     },
     "metadata": {
      "needs_background": "light"
     },
     "output_type": "display_data"
    }
   ],
   "source": [
    "df.plot.scatter(x='Low',y='Close')"
   ]
  },
  {
   "cell_type": "code",
   "execution_count": null,
   "id": "a6600a46",
   "metadata": {},
   "outputs": [
    {
     "data": {
      "text/plain": [
       "<AxesSubplot:xlabel='Volume', ylabel='Close'>"
      ]
     },
     "execution_count": 626,
     "metadata": {},
     "output_type": "execute_result"
    },
    {
     "data": {
      "image/png": "[encoded data removed]",
      "text/plain": [
       "<Figure size 432x288 with 1 Axes>"
      ]
     },
     "metadata": {
      "needs_background": "light"
     },
     "output_type": "display_data"
    }
   ],
   "source": [
    "df.plot.scatter(x='Volume',y='Close')"
   ]
  },
  {
   "cell_type": "markdown",
   "id": "569813ff",
   "metadata": {},
   "source": [
    "<h3>Conclusion</h3>\n",
    "<p>From the above diagram we can see that Open price, High Price and Low Price are suitable features to use when training the model.However, the Volume feature is not suitable because the feature has an skewed distribution, many outliers and has a bad correlation to the Closing Price. Thus we will not use the Volume feature to train the model<p>"
   ]
  },
  {
   "cell_type": "code",
   "execution_count": null,
   "id": "2b872c4d",
   "metadata": {},
   "outputs": [
    {
     "data": {
      "text/html": [
       "<div>\n",
       "<style scoped>\n",
       "    .dataframe tbody tr th:only-of-type {\n",
       "        vertical-align: middle;\n",
       "    }\n",
       "\n",
       "    .dataframe tbody tr th {\n",
       "        vertical-align: top;\n",
       "    }\n",
       "\n",
       "    .dataframe thead th {\n",
       "        text-align: right;\n",
       "    }\n",
       "</style>\n",
       "<table border=\"1\" class=\"dataframe\">\n",
       "  <thead>\n",
       "    <tr style=\"text-align: right;\">\n",
       "      <th></th>\n",
       "      <th>Bias</th>\n",
       "      <th>Open</th>\n",
       "      <th>High</th>\n",
       "      <th>Low</th>\n",
       "      <th>Close</th>\n",
       "    </tr>\n",
       "  </thead>\n",
       "  <tbody>\n",
       "    <tr>\n",
       "      <th>0</th>\n",
       "      <td>1.0</td>\n",
       "      <td>1.31887</td>\n",
       "      <td>1.31901</td>\n",
       "      <td>1.31865</td>\n",
       "      <td>0.627151</td>\n",
       "    </tr>\n",
       "    <tr>\n",
       "      <th>1</th>\n",
       "      <td>1.0</td>\n",
       "      <td>1.31889</td>\n",
       "      <td>1.31940</td>\n",
       "      <td>1.31881</td>\n",
       "      <td>0.628879</td>\n",
       "    </tr>\n",
       "    <tr>\n",
       "      <th>2</th>\n",
       "      <td>1.0</td>\n",
       "      <td>1.31939</td>\n",
       "      <td>1.32333</td>\n",
       "      <td>1.31934</td>\n",
       "      <td>0.642454</td>\n",
       "    </tr>\n",
       "    <tr>\n",
       "      <th>3</th>\n",
       "      <td>1.0</td>\n",
       "      <td>1.32321</td>\n",
       "      <td>1.32866</td>\n",
       "      <td>1.32310</td>\n",
       "      <td>0.660931</td>\n",
       "    </tr>\n",
       "    <tr>\n",
       "      <th>4</th>\n",
       "      <td>1.0</td>\n",
       "      <td>1.32845</td>\n",
       "      <td>1.32889</td>\n",
       "      <td>1.32511</td>\n",
       "      <td>0.650035</td>\n",
       "    </tr>\n",
       "    <tr>\n",
       "      <th>...</th>\n",
       "      <td>...</td>\n",
       "      <td>...</td>\n",
       "      <td>...</td>\n",
       "      <td>...</td>\n",
       "      <td>...</td>\n",
       "    </tr>\n",
       "    <tr>\n",
       "      <th>1128222</th>\n",
       "      <td>1.0</td>\n",
       "      <td>1.30368</td>\n",
       "      <td>1.30386</td>\n",
       "      <td>1.30364</td>\n",
       "      <td>0.573449</td>\n",
       "    </tr>\n",
       "    <tr>\n",
       "      <th>1128223</th>\n",
       "      <td>1.0</td>\n",
       "      <td>1.30363</td>\n",
       "      <td>1.30397</td>\n",
       "      <td>1.30359</td>\n",
       "      <td>0.573378</td>\n",
       "    </tr>\n",
       "    <tr>\n",
       "      <th>1128224</th>\n",
       "      <td>1.0</td>\n",
       "      <td>1.30363</td>\n",
       "      <td>1.30363</td>\n",
       "      <td>1.30361</td>\n",
       "      <td>0.573343</td>\n",
       "    </tr>\n",
       "    <tr>\n",
       "      <th>1128225</th>\n",
       "      <td>1.0</td>\n",
       "      <td>1.30361</td>\n",
       "      <td>1.30398</td>\n",
       "      <td>1.30361</td>\n",
       "      <td>0.573695</td>\n",
       "    </tr>\n",
       "    <tr>\n",
       "      <th>1128226</th>\n",
       "      <td>1.0</td>\n",
       "      <td>1.30369</td>\n",
       "      <td>1.30375</td>\n",
       "      <td>1.30343</td>\n",
       "      <td>0.572708</td>\n",
       "    </tr>\n",
       "  </tbody>\n",
       "</table>\n",
       "<p>1128227 rows × 5 columns</p>\n",
       "</div>"
      ],
      "text/plain": [
       "         Bias     Open     High      Low     Close\n",
       "0         1.0  1.31887  1.31901  1.31865  0.627151\n",
       "1         1.0  1.31889  1.31940  1.31881  0.628879\n",
       "2         1.0  1.31939  1.32333  1.31934  0.642454\n",
       "3         1.0  1.32321  1.32866  1.32310  0.660931\n",
       "4         1.0  1.32845  1.32889  1.32511  0.650035\n",
       "...       ...      ...      ...      ...       ...\n",
       "1128222   1.0  1.30368  1.30386  1.30364  0.573449\n",
       "1128223   1.0  1.30363  1.30397  1.30359  0.573378\n",
       "1128224   1.0  1.30363  1.30363  1.30361  0.573343\n",
       "1128225   1.0  1.30361  1.30398  1.30361  0.573695\n",
       "1128226   1.0  1.30369  1.30375  1.30343  0.572708\n",
       "\n",
       "[1128227 rows x 5 columns]"
      ]
     },
     "execution_count": 627,
     "metadata": {},
     "output_type": "execute_result"
    }
   ],
   "source": [
    "df = df.drop('Volume',axis=1)\n",
    "#add the bias column to the dataset\n",
    "df.insert(loc=0,column='Bias',value=np.ones((df.shape[0],1)))\n",
    "\n",
    "#scaled_X = scaled_X[:,:3]\n",
    "#scaled_X\n",
    "df"
   ]
  },
  {
   "cell_type": "code",
   "execution_count": null,
   "id": "2faae69a",
   "metadata": {},
   "outputs": [],
   "source": [
    "class LinearRegression:\n",
    "    def __init__(self,feature_samples,labels):\n",
    "        self.X = feature_samples\n",
    "        self.Y = labels\n",
    "        self.X_train, self.X_test, self.Y_train, self.Y_test = train_test_split(self.X,self.Y,test_size=0.2)\n",
    "        self.parameters = np.ones((self.X.shape[1],1))\n",
    "        \n",
    "    def Train(self,epochs=None,epsilon=0.01,learning_rate=0.1):\n",
    "        parameters = self.parameters\n",
    "        \n",
    "        \n",
    "        if epochs != None:\n",
    "            self.parameters = np.ones((self.X.shape[1],1))\n",
    "            for epoch in range(epochs):\n",
    "                ALR = (learning_rate/len(self.Y_train))              #ALR - Average Learning Rate\n",
    "                h = np.matmul(self.X_train,self.parameters)          #h - hypothesis function\n",
    "                error = h-self.Y_train\n",
    "                correction = np.matmul(self.X_train.T,error)\n",
    "                parameters = parameters - (ALR*correction)\n",
    "            self.parameters = parameters\n",
    "            print(\"After\",epochs,\"epochs, we have the following parameters:\\n\",self.parameters)\n",
    "            \n",
    "        else:\n",
    "            self.parameters = np.ones((self.X.shape[1],1))\n",
    "            parameters_cur = self.parameters\n",
    "            parameters_prev = np.zeros((self.X.shape[1],1))\n",
    "            while(LA.norm(parameters_cur - parameters_prev) >= epsilon):\n",
    "                ALR = (learning_rate/len(self.Y_train))              #ALR - Average Learning Rate\n",
    "                h = np.matmul(self.X_train,self.parameters)          #h - hypothesis function\n",
    "                error = h-self.Y_train\n",
    "                correction = np.matmul(self.X_train.T,error)\n",
    "                parameters_prev = parameters_cur\n",
    "                parameters_cur = parameters_cur - (ALR*correction)\n",
    "                print(parameters_cur.T)\n",
    "                print(\"Current Norm = \",LA.norm(parameters_cur - parameters_prev))\n",
    "                #print(\"Previous Norm = \",norm_prev)\n",
    "            self.parameters = parameters_cur\n",
    "            print(\"After convergence with epsilon =\",epsilon,\"we get the following parameters:\\n\",self.parameters)\n",
    "                \n",
    "                \n",
    "    def Test(self):\n",
    "        thetas = self.parameters\n",
    "        X = self.X_test\n",
    "        Y = self.Y_test\n",
    "        \n",
    "        results = []\n",
    "        #for i in X:\n",
    "            #result = np.matmul()\n",
    "        \n",
    "        return X[0].shape\n",
    "    \n",
    "    \n",
    "    def Predict(self):\n",
    "        return"
   ]
  },
  {
   "cell_type": "code",
   "execution_count": null,
   "id": "99548b4a",
   "metadata": {},
   "outputs": [
    {
     "name": "stdout",
     "output_type": "stream",
     "text": [
      "After 10000 epochs, we have the following parameters:\n",
      " [[-917.92351055]\n",
      " [-916.48118528]\n",
      " [-918.18123776]\n",
      " [-191.31951946]]\n"
     ]
    }
   ],
   "source": [
    "model = LinearRegression(scaled_X,scaled_Y)\n",
    "model.Train(epochs=10000)"
   ]
  },
  {
   "cell_type": "code",
   "execution_count": null,
   "id": "cc563f56",
   "metadata": {},
   "outputs": [
    {
     "ename": "ValueError",
     "evalue": "invalid number of arguments",
     "output_type": "error",
     "traceback": [
      "\u001b[0;31m---------------------------------------------------------------------------\u001b[0m",
      "\u001b[0;31mValueError\u001b[0m                                Traceback (most recent call last)",
      "\u001b[0;32m<ipython-input-652-b440299c56a6>\u001b[0m in \u001b[0;36m<module>\u001b[0;34m\u001b[0m\n\u001b[0;32m----> 1\u001b[0;31m \u001b[0mmodel\u001b[0m\u001b[0;34m.\u001b[0m\u001b[0mTest\u001b[0m\u001b[0;34m(\u001b[0m\u001b[0;34m)\u001b[0m\u001b[0;34m\u001b[0m\u001b[0;34m\u001b[0m\u001b[0m\n\u001b[0m",
      "\u001b[0;32m<ipython-input-628-b9bb2e9a1b91>\u001b[0m in \u001b[0;36mTest\u001b[0;34m(self)\u001b[0m\n\u001b[1;32m     46\u001b[0m         \u001b[0mresults\u001b[0m \u001b[0;34m=\u001b[0m \u001b[0;34m[\u001b[0m\u001b[0;34m]\u001b[0m\u001b[0;34m\u001b[0m\u001b[0;34m\u001b[0m\u001b[0m\n\u001b[1;32m     47\u001b[0m         \u001b[0;32mfor\u001b[0m \u001b[0mi\u001b[0m \u001b[0;32min\u001b[0m \u001b[0mX\u001b[0m\u001b[0;34m:\u001b[0m\u001b[0;34m\u001b[0m\u001b[0;34m\u001b[0m\u001b[0m\n\u001b[0;32m---> 48\u001b[0;31m             \u001b[0mresult\u001b[0m \u001b[0;34m=\u001b[0m \u001b[0mnp\u001b[0m\u001b[0;34m.\u001b[0m\u001b[0mmatmul\u001b[0m\u001b[0;34m(\u001b[0m\u001b[0;34m)\u001b[0m\u001b[0;34m\u001b[0m\u001b[0;34m\u001b[0m\u001b[0m\n\u001b[0m\u001b[1;32m     49\u001b[0m \u001b[0;34m\u001b[0m\u001b[0m\n\u001b[1;32m     50\u001b[0m         \u001b[0;32mreturn\u001b[0m \u001b[0mX\u001b[0m\u001b[0;34m[\u001b[0m\u001b[0;36m0\u001b[0m\u001b[0;34m]\u001b[0m\u001b[0;34m.\u001b[0m\u001b[0mshape\u001b[0m\u001b[0;34m\u001b[0m\u001b[0;34m\u001b[0m\u001b[0m\n",
      "\u001b[0;31mValueError\u001b[0m: invalid number of arguments"
     ]
    }
   ],
   "source": [
    "model.Test()"
   ]
  },
  {
   "cell_type": "code",
   "execution_count": null,
   "id": "fe72be6d",
   "metadata": {},
   "outputs": [],
   "source": []
  }
 ],
 "metadata": {
  "kernelspec": {
   "display_name": "Python 3",
   "language": "python",
   "name": "python3"
  },
  "language_info": {
   "codemirror_mode": {
    "name": "ipython",
    "version": 3
   },
   "file_extension": ".py",
   "mimetype": "text/x-python",
   "name": "python",
   "nbconvert_exporter": "python",
   "pygments_lexer": "ipython3",
   "version": "3.8.8"
  }
 },
 "nbformat": 4,
 "nbformat_minor": 5
}
